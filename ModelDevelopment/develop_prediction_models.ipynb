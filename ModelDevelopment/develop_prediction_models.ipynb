{
 "cells": [
  {
   "metadata": {},
   "cell_type": "markdown",
   "source": [
    "# Model Development\n",
    "After completing this lab you will be able to:\n",
    "\n",
    "Develop prediction models\n",
    "In this section, we will develop several models that will predict the price of the car using the variables or features. This is just an estimate but should give us an objective idea of how much the car should cost.\n",
    "\n",
    "Some questions we want to ask in this module\n",
    "\n",
    "Do I know if the dealer is offering fair value for my trade-in?\n",
    "Do I know if I put a fair value on my car?\n",
    "In data analytics, we often use Model Development to help us predict future observations from the data we have.\n",
    "\n",
    "A model will help us understand the exact relationship between different variables and how these variables are used to predict the result."
   ],
   "id": "ea96f953f1dd1ec5"
  },
  {
   "metadata": {},
   "cell_type": "markdown",
   "source": "",
   "id": "6c389c06e1a3ea84"
  }
 ],
 "metadata": {
  "kernelspec": {
   "display_name": "Python 3",
   "language": "python",
   "name": "python3"
  },
  "language_info": {
   "codemirror_mode": {
    "name": "ipython",
    "version": 2
   },
   "file_extension": ".py",
   "mimetype": "text/x-python",
   "name": "python",
   "nbconvert_exporter": "python",
   "pygments_lexer": "ipython2",
   "version": "2.7.6"
  }
 },
 "nbformat": 4,
 "nbformat_minor": 5
}
