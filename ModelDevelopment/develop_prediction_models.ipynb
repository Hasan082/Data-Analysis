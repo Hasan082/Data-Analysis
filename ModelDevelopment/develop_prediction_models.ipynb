{
 "cells": [
  {
   "metadata": {},
   "cell_type": "markdown",
   "source": [
    "# Model Development\n",
    "After completing this lab you will be able to:\n",
    "\n",
    "Develop prediction models\n",
    "In this section, we will develop several models that will predict the price of the car using the variables or features. This is just an estimate but should give us an objective idea of how much the car should cost.\n",
    "\n",
    "Some questions we want to ask in this module\n",
    "\n",
    "Do I know if the dealer is offering fair value for my trade-in?\n",
    "Do I know if I put a fair value on my car?\n",
    "In data analytics, we often use Model Development to help us predict future observations from the data we have.\n",
    "\n",
    "A model will help us understand the exact relationship between different variables and how these variables are used to predict the result."
   ],
   "id": "ea96f953f1dd1ec5"
  },
  {
   "metadata": {
    "ExecuteTime": {
     "end_time": "2025-01-13T20:14:47.924549Z",
     "start_time": "2025-01-13T20:14:47.913456Z"
    }
   },
   "cell_type": "code",
   "source": [
    "# Downalod the csv file\n",
    "import requests\n",
    "import pandas as pd\n",
    "import seaborn as sns\n",
    "import matplotlib.pyplot as plt\n",
    "%matplotlib inline"
   ],
   "id": "a1d18f110eb10da8",
   "outputs": [],
   "execution_count": 2
  },
  {
   "metadata": {
    "ExecuteTime": {
     "end_time": "2025-01-13T20:16:00.648804Z",
     "start_time": "2025-01-13T20:15:58.421093Z"
    }
   },
   "cell_type": "code",
   "source": [
    "import os\n",
    "file_path= \"https://cf-courses-data.s3.us.cloud-object-storage.appdomain.cloud/IBMDeveloperSkillsNetwork-DA0101EN-SkillsNetwork/labs/Data%20files/automobileEDA.csv\"\n",
    "\n",
    "response = requests.get(file_path)\n",
    "with open(\"automobileEDA.csv\", \"wb\") as file:\n",
    "    file.write(response.content)"
   ],
   "id": "875abee9e8c8725c",
   "outputs": [],
   "execution_count": 3
  }
 ],
 "metadata": {
  "kernelspec": {
   "display_name": "Python 3",
   "language": "python",
   "name": "python3"
  },
  "language_info": {
   "codemirror_mode": {
    "name": "ipython",
    "version": 2
   },
   "file_extension": ".py",
   "mimetype": "text/x-python",
   "name": "python",
   "nbconvert_exporter": "python",
   "pygments_lexer": "ipython2",
   "version": "2.7.6"
  }
 },
 "nbformat": 4,
 "nbformat_minor": 5
}
