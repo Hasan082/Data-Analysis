{
 "cells": [
  {
   "metadata": {},
   "cell_type": "markdown",
   "source": "## Load the SQL extension and establish a connection with the database",
   "id": "600b25cd8d3b7b48"
  },
  {
   "metadata": {
    "ExecuteTime": {
     "end_time": "2025-01-10T14:32:33.260855Z",
     "start_time": "2025-01-10T14:32:33.072544Z"
    }
   },
   "cell_type": "code",
   "source": "%load_ext sql",
   "id": "afc98ab44bd7bcdc",
   "outputs": [],
   "execution_count": 4
  },
  {
   "metadata": {
    "ExecuteTime": {
     "end_time": "2025-01-10T14:32:36.468783Z",
     "start_time": "2025-01-10T14:32:36.446895Z"
    }
   },
   "cell_type": "code",
   "source": [
    "import csv, sqlite3\n",
    "import prettytable\n",
    "import pandas as pd\n",
    "conn = sqlite3.connect('socioEconomicData.db')\n",
    "cur = conn.cursor()\n",
    "%sql sqlite:///socioEconomicData.db"
   ],
   "id": "c00e2dcc02a2bbb",
   "outputs": [],
   "execution_count": 5
  },
  {
   "metadata": {},
   "cell_type": "markdown",
   "source": "",
   "id": "8294c1dcf517f646"
  },
  {
   "metadata": {
    "ExecuteTime": {
     "end_time": "2025-01-10T15:35:56.423574Z",
     "start_time": "2025-01-10T15:35:55.242749Z"
    }
   },
   "cell_type": "code",
   "source": [
    "df = pd.read_csv('https://data.cityofchicago.org/resource/jcxq-k9xf.csv')\n",
    "df.to_sql('socioEconomicData', conn, if_exists='replace', index=False, method=\"multi\")\n",
    "prettytable.DEFAULT = 'DEFAULT'"
   ],
   "id": "39ffb309769534df",
   "outputs": [],
   "execution_count": 9
  },
  {
   "metadata": {
    "ExecuteTime": {
     "end_time": "2025-01-10T15:45:46.321813Z",
     "start_time": "2025-01-10T15:45:46.311921Z"
    }
   },
   "cell_type": "code",
   "source": [
    "res = %sql SELECT * FROM socioEconomicData;\n",
    "df = pd.read_sql_query('SELECT * FROM socioEconomicData', conn)\n",
    "print(df.head())"
   ],
   "id": "f30d04b71ec64330",
   "outputs": [
    {
     "name": "stdout",
     "output_type": "stream",
     "text": [
      " * sqlite:///socioEconomicData.db\n",
      "Done.\n",
      "    ca community_area_name  percent_of_housing_crowded  \\\n",
      "0  1.0         Rogers Park                         7.7   \n",
      "1  2.0          West Ridge                         7.8   \n",
      "2  3.0              Uptown                         3.8   \n",
      "3  4.0      Lincoln Square                         3.4   \n",
      "4  5.0        North Center                         0.3   \n",
      "\n",
      "   percent_households_below_poverty  percent_aged_16_unemployed  \\\n",
      "0                              23.6                         8.7   \n",
      "1                              17.2                         8.8   \n",
      "2                              24.0                         8.9   \n",
      "3                              10.9                         8.2   \n",
      "4                               7.5                         5.2   \n",
      "\n",
      "   percent_aged_25_without_high_school_diploma  \\\n",
      "0                                         18.2   \n",
      "1                                         20.8   \n",
      "2                                         11.8   \n",
      "3                                         13.4   \n",
      "4                                          4.5   \n",
      "\n",
      "   percent_aged_under_18_or_over_64  per_capita_income_  hardship_index  \n",
      "0                              27.5               23939            39.0  \n",
      "1                              38.5               23040            46.0  \n",
      "2                              22.2               35787            20.0  \n",
      "3                              25.5               37524            17.0  \n",
      "4                              26.2               57123             6.0  \n"
     ]
    }
   ],
   "execution_count": 25
  },
  {
   "metadata": {},
   "cell_type": "markdown",
   "source": "### Problem 1: How many rows are in the dataset?",
   "id": "3c1f14116d0fd5a5"
  },
  {
   "metadata": {
    "ExecuteTime": {
     "end_time": "2025-01-10T15:45:29.505448Z",
     "start_time": "2025-01-10T15:45:29.498338Z"
    }
   },
   "cell_type": "code",
   "source": [
    "res = %sql SELECT COUNT(*) as Total_Dataset FROM socioEconomicData;\n",
    "print(res)"
   ],
   "id": "a9a7a1666cdd7d54",
   "outputs": [
    {
     "name": "stdout",
     "output_type": "stream",
     "text": [
      " * sqlite:///socioEconomicData.db\n",
      "Done.\n",
      "+---------------+\n",
      "| Total_Dataset |\n",
      "+---------------+\n",
      "|       78      |\n",
      "+---------------+\n"
     ]
    }
   ],
   "execution_count": 24
  },
  {
   "metadata": {},
   "cell_type": "markdown",
   "source": "### Problem 2: How many community areas in Chicago have a hardship index greater than 50.0?",
   "id": "5f6c73ce85e327fc"
  },
  {
   "metadata": {
    "ExecuteTime": {
     "end_time": "2025-01-10T15:49:44.311325Z",
     "start_time": "2025-01-10T15:49:44.287449Z"
    }
   },
   "cell_type": "code",
   "source": [
    "total_community_area_name = %sql SELECT COUNT(*) FROM socioEconomicData WHERE hardship_index > 50.0;\n",
    "print(total_community_area_name)"
   ],
   "id": "f9ed90fb6d586006",
   "outputs": [
    {
     "name": "stdout",
     "output_type": "stream",
     "text": [
      " * sqlite:///socioEconomicData.db\n",
      "Done.\n",
      "+----------+\n",
      "| COUNT(*) |\n",
      "+----------+\n",
      "|    38    |\n",
      "+----------+\n"
     ]
    }
   ],
   "execution_count": 28
  },
  {
   "metadata": {},
   "cell_type": "markdown",
   "source": "### Problem 3: What is the maximum value of hardship index in this dataset?¶",
   "id": "e9499d61291dd3c7"
  },
  {
   "metadata": {
    "ExecuteTime": {
     "end_time": "2025-01-10T15:52:39.988304Z",
     "start_time": "2025-01-10T15:52:39.969421Z"
    }
   },
   "cell_type": "code",
   "source": [
    "max_val_hardship = %sql SELECT MAX(hardship_index) as Max_Hardship_value FROM socioEconomicData;\n",
    "print(max_val_hardship)"
   ],
   "id": "29f853ec21706058",
   "outputs": [
    {
     "name": "stdout",
     "output_type": "stream",
     "text": [
      " * sqlite:///socioEconomicData.db\n",
      "Done.\n",
      "+--------------------+\n",
      "| Max_Hardship_value |\n",
      "+--------------------+\n",
      "|        98.0        |\n",
      "+--------------------+\n"
     ]
    }
   ],
   "execution_count": 30
  },
  {
   "metadata": {},
   "cell_type": "markdown",
   "source": "### Problem 4: Which community area which has the highest hardship index?",
   "id": "88540065f9be878b"
  },
  {
   "metadata": {
    "ExecuteTime": {
     "end_time": "2025-01-10T15:59:40.384493Z",
     "start_time": "2025-01-10T15:59:40.361291Z"
    }
   },
   "cell_type": "code",
   "source": [
    "highest_hardship_index = %sql SELECT community_area_name FROM socioEconomicData WHERE hardship_index = (SELECT MAX(hardship_index) FROM socioEconomicData)\n",
    "print(highest_hardship_index)\n",
    "## Alternative\n",
    "# res2 = %sql SELECT community_area_name FROM socioEconomicData ORDER BY hardship_index DESC LIMIT 1;\n",
    "# print(res2)"
   ],
   "id": "7a2d535dcb79b3bc",
   "outputs": [
    {
     "name": "stdout",
     "output_type": "stream",
     "text": [
      " * sqlite:///socioEconomicData.db\n",
      "Done.\n",
      "+---------------------+\n",
      "| community_area_name |\n",
      "+---------------------+\n",
      "|      Riverdale      |\n",
      "+---------------------+\n"
     ]
    }
   ],
   "execution_count": 34
  }
 ],
 "metadata": {
  "kernelspec": {
   "display_name": "Python 3",
   "language": "python",
   "name": "python3"
  },
  "language_info": {
   "codemirror_mode": {
    "name": "ipython",
    "version": 2
   },
   "file_extension": ".py",
   "mimetype": "text/x-python",
   "name": "python",
   "nbconvert_exporter": "python",
   "pygments_lexer": "ipython2",
   "version": "2.7.6"
  }
 },
 "nbformat": 4,
 "nbformat_minor": 5
}
