{
 "cells": [
  {
   "metadata": {},
   "cell_type": "markdown",
   "source": "# Finding Outliers ",
   "id": "3a8c71d7c26543e3"
  },
  {
   "metadata": {
    "ExecuteTime": {
     "end_time": "2025-02-07T04:50:42.389704Z",
     "start_time": "2025-02-07T04:50:42.388367Z"
    }
   },
   "cell_type": "code",
   "source": [
    "# Load the required dataset\n",
    "import pandas as pd\n",
    "from matplotlib.pyplot import plot\n",
    "import seaborn as sns"
   ],
   "id": "3234893189481969",
   "outputs": [],
   "execution_count": 1
  },
  {
   "metadata": {},
   "cell_type": "markdown",
   "source": "# Load the dataset",
   "id": "3a8f8b7cd31ee017"
  },
  {
   "metadata": {
    "jupyter": {
     "is_executing": true
    },
    "ExecuteTime": {
     "start_time": "2025-02-07T04:51:15.601763Z"
    }
   },
   "cell_type": "code",
   "source": [
    "file_url = \"https://cf-courses-data.s3.us.cloud-object-storage.appdomain.cloud/n01PQ9pSmiRX6520flujwQ/survey-data.csv\"\n",
    "df = pd.read_csv(file_url)"
   ],
   "id": "bf7a9452b12f3889",
   "outputs": [],
   "execution_count": null
  },
  {
   "metadata": {},
   "cell_type": "code",
   "outputs": [],
   "execution_count": null,
   "source": "",
   "id": "5cb1fe6d3e97347a"
  }
 ],
 "metadata": {
  "kernelspec": {
   "display_name": "Python 3",
   "language": "python",
   "name": "python3"
  },
  "language_info": {
   "codemirror_mode": {
    "name": "ipython",
    "version": 2
   },
   "file_extension": ".py",
   "mimetype": "text/x-python",
   "name": "python",
   "nbconvert_exporter": "python",
   "pygments_lexer": "ipython2",
   "version": "2.7.6"
  }
 },
 "nbformat": 4,
 "nbformat_minor": 5
}
