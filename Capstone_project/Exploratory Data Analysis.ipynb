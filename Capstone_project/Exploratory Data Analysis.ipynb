{
 "cells": [
  {
   "metadata": {},
   "cell_type": "markdown",
   "source": " # Exploratory Data Analysis",
   "id": "792f128aeac33a1a"
  },
  {
   "cell_type": "code",
   "id": "initial_id",
   "metadata": {
    "collapsed": true,
    "ExecuteTime": {
     "end_time": "2025-02-01T17:45:30.887251Z",
     "start_time": "2025-02-01T17:45:30.886012Z"
    }
   },
   "source": [
    "import pandas as pd\n",
    "import matplotlib.pyplot as plt\n",
    "import seaborn as sns"
   ],
   "outputs": [],
   "execution_count": 1
  },
  {
   "metadata": {
    "ExecuteTime": {
     "end_time": "2025-02-01T17:47:33.148488Z",
     "start_time": "2025-02-01T17:46:20.740591Z"
    }
   },
   "cell_type": "code",
   "source": [
    "data_url = 'https://cf-courses-data.s3.us.cloud-object-storage.appdomain.cloud/n01PQ9pSmiRX6520flujwQ/survey-data.csv'\n",
    "df = pd.read_csv(data_url)"
   ],
   "id": "5e1eedf9d27cc89c",
   "outputs": [],
   "execution_count": 2
  },
  {
   "metadata": {
    "ExecuteTime": {
     "end_time": "2025-02-01T17:48:08.326523Z",
     "start_time": "2025-02-01T17:48:08.315636Z"
    }
   },
   "cell_type": "code",
   "source": [
    "# Set pandas option to display all columns\n",
    "pd.set_option('display.max_rows', None)"
   ],
   "id": "e23236a557bb412c",
   "outputs": [],
   "execution_count": 3
  }
 ],
 "metadata": {
  "kernelspec": {
   "display_name": "Python 3",
   "language": "python",
   "name": "python3"
  },
  "language_info": {
   "codemirror_mode": {
    "name": "ipython",
    "version": 2
   },
   "file_extension": ".py",
   "mimetype": "text/x-python",
   "name": "python",
   "nbconvert_exporter": "python",
   "pygments_lexer": "ipython2",
   "version": "2.7.6"
  }
 },
 "nbformat": 4,
 "nbformat_minor": 5
}
