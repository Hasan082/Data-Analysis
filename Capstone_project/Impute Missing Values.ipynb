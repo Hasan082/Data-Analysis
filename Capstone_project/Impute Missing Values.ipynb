{
 "cells": [
  {
   "metadata": {},
   "cell_type": "markdown",
   "source": "# Impute Missing Values",
   "id": "fbd4bcce5d7c1945"
  },
  {
   "metadata": {
    "ExecuteTime": {
     "end_time": "2025-01-28T12:55:07.889445Z",
     "start_time": "2025-01-28T12:55:07.251153Z"
    }
   },
   "cell_type": "code",
   "source": "import pandas as pd",
   "id": "49e9b5cd173e385c",
   "outputs": [],
   "execution_count": 2
  },
  {
   "metadata": {
    "ExecuteTime": {
     "end_time": "2025-01-28T12:56:11.569504Z",
     "start_time": "2025-01-28T12:55:09.842445Z"
    }
   },
   "cell_type": "code",
   "source": [
    "file_path = \"https://cf-courses-data.s3.us.cloud-object-storage.appdomain.cloud/n01PQ9pSmiRX6520flujwQ/survey-data.csv\"\n",
    "df = pd.read_csv(file_path)"
   ],
   "id": "3ddc177b19f3c805",
   "outputs": [],
   "execution_count": 3
  },
  {
   "metadata": {
    "ExecuteTime": {
     "end_time": "2025-01-28T13:15:35.383568Z",
     "start_time": "2025-01-28T13:15:35.378949Z"
    }
   },
   "cell_type": "code",
   "source": [
    "# Show first few rows\n",
    "df.head()\n",
    "df.shape"
   ],
   "id": "da54ff8a2215343",
   "outputs": [
    {
     "data": {
      "text/plain": [
       "(65437, 114)"
      ]
     },
     "execution_count": 17,
     "metadata": {},
     "output_type": "execute_result"
    }
   ],
   "execution_count": 17
  },
  {
   "metadata": {},
   "cell_type": "markdown",
   "source": "# Step 3. Finding and Removing Duplicates",
   "id": "96d56a31081ea4a9"
  },
  {
   "metadata": {
    "ExecuteTime": {
     "end_time": "2025-01-28T13:14:08.520579Z",
     "start_time": "2025-01-28T13:14:08.156622Z"
    }
   },
   "cell_type": "code",
   "source": "duplicated_rows = df[df.duplicated()]",
   "id": "4f70f012e45e25ab",
   "outputs": [],
   "execution_count": 10
  },
  {
   "metadata": {
    "ExecuteTime": {
     "end_time": "2025-01-28T13:15:21.026613Z",
     "start_time": "2025-01-28T13:15:20.698817Z"
    }
   },
   "cell_type": "code",
   "source": [
    "unique_values = df.drop_duplicates()\n",
    "df.shape"
   ],
   "id": "6eb899890bfcac5a",
   "outputs": [
    {
     "data": {
      "text/plain": [
       "(65437, 114)"
      ]
     },
     "execution_count": 15,
     "metadata": {},
     "output_type": "execute_result"
    }
   ],
   "execution_count": 15
  },
  {
   "metadata": {},
   "cell_type": "code",
   "outputs": [],
   "execution_count": null,
   "source": "",
   "id": "42f20832a7fdba06"
  }
 ],
 "metadata": {
  "kernelspec": {
   "display_name": "Python 3",
   "language": "python",
   "name": "python3"
  },
  "language_info": {
   "codemirror_mode": {
    "name": "ipython",
    "version": 2
   },
   "file_extension": ".py",
   "mimetype": "text/x-python",
   "name": "python",
   "nbconvert_exporter": "python",
   "pygments_lexer": "ipython2",
   "version": "2.7.6"
  }
 },
 "nbformat": 4,
 "nbformat_minor": 5
}
