{
 "cells": [
  {
   "metadata": {},
   "cell_type": "markdown",
   "source": "# Impute Missing Values",
   "id": "fbd4bcce5d7c1945"
  },
  {
   "metadata": {
    "ExecuteTime": {
     "end_time": "2025-01-28T12:55:07.889445Z",
     "start_time": "2025-01-28T12:55:07.251153Z"
    }
   },
   "cell_type": "code",
   "source": "import pandas as pd",
   "id": "49e9b5cd173e385c",
   "outputs": [],
   "execution_count": 2
  },
  {
   "metadata": {
    "jupyter": {
     "is_executing": true
    },
    "ExecuteTime": {
     "start_time": "2025-01-28T12:55:09.842445Z"
    }
   },
   "cell_type": "code",
   "source": [
    "file_path = \"https://cf-courses-data.s3.us.cloud-object-storage.appdomain.cloud/n01PQ9pSmiRX6520flujwQ/survey-data.csv\"\n",
    "df = pd.read_csv(file_path)"
   ],
   "id": "3ddc177b19f3c805",
   "outputs": [],
   "execution_count": null
  },
  {
   "metadata": {},
   "cell_type": "code",
   "outputs": [],
   "execution_count": null,
   "source": [
    "# Show first few rows\n",
    "df.head()"
   ],
   "id": "da54ff8a2215343"
  }
 ],
 "metadata": {
  "kernelspec": {
   "display_name": "Python 3",
   "language": "python",
   "name": "python3"
  },
  "language_info": {
   "codemirror_mode": {
    "name": "ipython",
    "version": 2
   },
   "file_extension": ".py",
   "mimetype": "text/x-python",
   "name": "python",
   "nbconvert_exporter": "python",
   "pygments_lexer": "ipython2",
   "version": "2.7.6"
  }
 },
 "nbformat": 4,
 "nbformat_minor": 5
}
