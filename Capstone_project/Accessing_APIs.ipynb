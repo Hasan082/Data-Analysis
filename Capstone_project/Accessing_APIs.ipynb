{
 "cells": [
  {
   "metadata": {},
   "cell_type": "markdown",
   "source": [
    "## Objective\n",
    "##### Understand HTTP\n",
    "##### Analyze HTTP Requests"
   ],
   "id": "42a097ac44a95ad3"
  },
  {
   "metadata": {
    "ExecuteTime": {
     "end_time": "2025-01-25T17:39:40.510671Z",
     "start_time": "2025-01-25T17:39:38.842847Z"
    }
   },
   "cell_type": "code",
   "source": [
    "import requests\n",
    "import os\n",
    "from PIL import Image\n",
    "from IPython.display import IFrame"
   ],
   "id": "f5f13fcb62b182a7",
   "outputs": [],
   "execution_count": 2
  },
  {
   "metadata": {},
   "cell_type": "markdown",
   "source": "##### You can make a GET request via the method get to www.ibm.com:",
   "id": "b97710dbca60d68c"
  },
  {
   "metadata": {
    "ExecuteTime": {
     "end_time": "2025-01-25T17:41:14.962982Z",
     "start_time": "2025-01-25T17:41:13.924558Z"
    }
   },
   "cell_type": "code",
   "source": [
    "url='https://www.ibm.com/'\n",
    "page = requests.get(url)\n",
    "print(page.status_code)"
   ],
   "id": "cddd330395828c48",
   "outputs": [
    {
     "name": "stdout",
     "output_type": "stream",
     "text": [
      "200\n"
     ]
    }
   ],
   "execution_count": 3
  }
 ],
 "metadata": {
  "kernelspec": {
   "display_name": "Python 3",
   "language": "python",
   "name": "python3"
  },
  "language_info": {
   "codemirror_mode": {
    "name": "ipython",
    "version": 2
   },
   "file_extension": ".py",
   "mimetype": "text/x-python",
   "name": "python",
   "nbconvert_exporter": "python",
   "pygments_lexer": "ipython2",
   "version": "2.7.6"
  }
 },
 "nbformat": 4,
 "nbformat_minor": 5
}
