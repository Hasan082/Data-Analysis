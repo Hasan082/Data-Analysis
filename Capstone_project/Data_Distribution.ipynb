{
 "cells": [
  {
   "metadata": {},
   "cell_type": "markdown",
   "source": "# Finding How The Data Is Distributed",
   "id": "d1faddbfa955ba93"
  },
  {
   "metadata": {
    "ExecuteTime": {
     "end_time": "2025-02-06T13:22:45.653994Z",
     "start_time": "2025-02-06T13:22:45.648247Z"
    }
   },
   "cell_type": "code",
   "source": [
    "import pandas as pd\n",
    "import matplotlib.pyplot as plt\n",
    "import seaborn as sns"
   ],
   "id": "ca4d1cceaf6befd1",
   "outputs": [],
   "execution_count": 41
  },
  {
   "metadata": {},
   "cell_type": "markdown",
   "source": "# Load the data to data Frame",
   "id": "ab1bd8b1af48dd5a"
  },
  {
   "metadata": {
    "ExecuteTime": {
     "end_time": "2025-02-06T13:13:11.407739Z",
     "start_time": "2025-02-06T13:12:05.822885Z"
    }
   },
   "cell_type": "code",
   "source": [
    "data_url = 'https://cf-courses-data.s3.us.cloud-object-storage.appdomain.cloud/n01PQ9pSmiRX6520flujwQ/survey-data.csv'\n",
    "df = pd.read_csv(data_url)"
   ],
   "id": "a5d5b66adab9a4a6",
   "outputs": [],
   "execution_count": 33
  },
  {
   "metadata": {},
   "cell_type": "markdown",
   "source": "# View the First Few rows",
   "id": "333df65d25591669"
  },
  {
   "metadata": {
    "ExecuteTime": {
     "end_time": "2025-02-06T13:16:13.835019Z",
     "start_time": "2025-02-06T13:16:13.803431Z"
    }
   },
   "cell_type": "code",
   "source": "df.head()",
   "id": "938336aafe77e42e",
   "outputs": [
    {
     "data": {
      "text/plain": [
       "   ResponseId                      MainBranch                 Age  \\\n",
       "0           1  I am a developer by profession  Under 18 years old   \n",
       "1           2  I am a developer by profession     35-44 years old   \n",
       "2           3  I am a developer by profession     45-54 years old   \n",
       "3           4           I am learning to code     18-24 years old   \n",
       "4           5  I am a developer by profession     18-24 years old   \n",
       "\n",
       "            Employment RemoteWork   Check  \\\n",
       "0  Employed, full-time     Remote  Apples   \n",
       "1  Employed, full-time     Remote  Apples   \n",
       "2  Employed, full-time     Remote  Apples   \n",
       "3   Student, full-time        NaN  Apples   \n",
       "4   Student, full-time        NaN  Apples   \n",
       "\n",
       "                                    CodingActivities  \\\n",
       "0                                              Hobby   \n",
       "1  Hobby;Contribute to open-source projects;Other...   \n",
       "2  Hobby;Contribute to open-source projects;Other...   \n",
       "3                                                NaN   \n",
       "4                                                NaN   \n",
       "\n",
       "                                             EdLevel  \\\n",
       "0                          Primary/elementary school   \n",
       "1       Bachelor’s degree (B.A., B.S., B.Eng., etc.)   \n",
       "2    Master’s degree (M.A., M.S., M.Eng., MBA, etc.)   \n",
       "3  Some college/university study without earning ...   \n",
       "4  Secondary school (e.g. American high school, G...   \n",
       "\n",
       "                                           LearnCode  \\\n",
       "0                             Books / Physical media   \n",
       "1  Books / Physical media;Colleague;On the job tr...   \n",
       "2  Books / Physical media;Colleague;On the job tr...   \n",
       "3  Other online resources (e.g., videos, blogs, f...   \n",
       "4  Other online resources (e.g., videos, blogs, f...   \n",
       "\n",
       "                                     LearnCodeOnline  ... JobSatPoints_6  \\\n",
       "0                                                NaN  ...            NaN   \n",
       "1  Technical documentation;Blogs;Books;Written Tu...  ...            0.0   \n",
       "2  Technical documentation;Blogs;Books;Written Tu...  ...            NaN   \n",
       "3  Stack Overflow;How-to videos;Interactive tutorial  ...            NaN   \n",
       "4  Technical documentation;Blogs;Written Tutorial...  ...            NaN   \n",
       "\n",
       "  JobSatPoints_7 JobSatPoints_8 JobSatPoints_9 JobSatPoints_10  \\\n",
       "0            NaN            NaN            NaN             NaN   \n",
       "1            0.0            0.0            0.0             0.0   \n",
       "2            NaN            NaN            NaN             NaN   \n",
       "3            NaN            NaN            NaN             NaN   \n",
       "4            NaN            NaN            NaN             NaN   \n",
       "\n",
       "  JobSatPoints_11           SurveyLength SurveyEase ConvertedCompYearly JobSat  \n",
       "0             NaN                    NaN        NaN                 NaN    NaN  \n",
       "1             0.0                    NaN        NaN                 NaN    NaN  \n",
       "2             NaN  Appropriate in length       Easy                 NaN    NaN  \n",
       "3             NaN               Too long       Easy                 NaN    NaN  \n",
       "4             NaN              Too short       Easy                 NaN    NaN  \n",
       "\n",
       "[5 rows x 114 columns]"
      ],
      "text/html": [
       "<div>\n",
       "<style scoped>\n",
       "    .dataframe tbody tr th:only-of-type {\n",
       "        vertical-align: middle;\n",
       "    }\n",
       "\n",
       "    .dataframe tbody tr th {\n",
       "        vertical-align: top;\n",
       "    }\n",
       "\n",
       "    .dataframe thead th {\n",
       "        text-align: right;\n",
       "    }\n",
       "</style>\n",
       "<table border=\"1\" class=\"dataframe\">\n",
       "  <thead>\n",
       "    <tr style=\"text-align: right;\">\n",
       "      <th></th>\n",
       "      <th>ResponseId</th>\n",
       "      <th>MainBranch</th>\n",
       "      <th>Age</th>\n",
       "      <th>Employment</th>\n",
       "      <th>RemoteWork</th>\n",
       "      <th>Check</th>\n",
       "      <th>CodingActivities</th>\n",
       "      <th>EdLevel</th>\n",
       "      <th>LearnCode</th>\n",
       "      <th>LearnCodeOnline</th>\n",
       "      <th>...</th>\n",
       "      <th>JobSatPoints_6</th>\n",
       "      <th>JobSatPoints_7</th>\n",
       "      <th>JobSatPoints_8</th>\n",
       "      <th>JobSatPoints_9</th>\n",
       "      <th>JobSatPoints_10</th>\n",
       "      <th>JobSatPoints_11</th>\n",
       "      <th>SurveyLength</th>\n",
       "      <th>SurveyEase</th>\n",
       "      <th>ConvertedCompYearly</th>\n",
       "      <th>JobSat</th>\n",
       "    </tr>\n",
       "  </thead>\n",
       "  <tbody>\n",
       "    <tr>\n",
       "      <th>0</th>\n",
       "      <td>1</td>\n",
       "      <td>I am a developer by profession</td>\n",
       "      <td>Under 18 years old</td>\n",
       "      <td>Employed, full-time</td>\n",
       "      <td>Remote</td>\n",
       "      <td>Apples</td>\n",
       "      <td>Hobby</td>\n",
       "      <td>Primary/elementary school</td>\n",
       "      <td>Books / Physical media</td>\n",
       "      <td>NaN</td>\n",
       "      <td>...</td>\n",
       "      <td>NaN</td>\n",
       "      <td>NaN</td>\n",
       "      <td>NaN</td>\n",
       "      <td>NaN</td>\n",
       "      <td>NaN</td>\n",
       "      <td>NaN</td>\n",
       "      <td>NaN</td>\n",
       "      <td>NaN</td>\n",
       "      <td>NaN</td>\n",
       "      <td>NaN</td>\n",
       "    </tr>\n",
       "    <tr>\n",
       "      <th>1</th>\n",
       "      <td>2</td>\n",
       "      <td>I am a developer by profession</td>\n",
       "      <td>35-44 years old</td>\n",
       "      <td>Employed, full-time</td>\n",
       "      <td>Remote</td>\n",
       "      <td>Apples</td>\n",
       "      <td>Hobby;Contribute to open-source projects;Other...</td>\n",
       "      <td>Bachelor’s degree (B.A., B.S., B.Eng., etc.)</td>\n",
       "      <td>Books / Physical media;Colleague;On the job tr...</td>\n",
       "      <td>Technical documentation;Blogs;Books;Written Tu...</td>\n",
       "      <td>...</td>\n",
       "      <td>0.0</td>\n",
       "      <td>0.0</td>\n",
       "      <td>0.0</td>\n",
       "      <td>0.0</td>\n",
       "      <td>0.0</td>\n",
       "      <td>0.0</td>\n",
       "      <td>NaN</td>\n",
       "      <td>NaN</td>\n",
       "      <td>NaN</td>\n",
       "      <td>NaN</td>\n",
       "    </tr>\n",
       "    <tr>\n",
       "      <th>2</th>\n",
       "      <td>3</td>\n",
       "      <td>I am a developer by profession</td>\n",
       "      <td>45-54 years old</td>\n",
       "      <td>Employed, full-time</td>\n",
       "      <td>Remote</td>\n",
       "      <td>Apples</td>\n",
       "      <td>Hobby;Contribute to open-source projects;Other...</td>\n",
       "      <td>Master’s degree (M.A., M.S., M.Eng., MBA, etc.)</td>\n",
       "      <td>Books / Physical media;Colleague;On the job tr...</td>\n",
       "      <td>Technical documentation;Blogs;Books;Written Tu...</td>\n",
       "      <td>...</td>\n",
       "      <td>NaN</td>\n",
       "      <td>NaN</td>\n",
       "      <td>NaN</td>\n",
       "      <td>NaN</td>\n",
       "      <td>NaN</td>\n",
       "      <td>NaN</td>\n",
       "      <td>Appropriate in length</td>\n",
       "      <td>Easy</td>\n",
       "      <td>NaN</td>\n",
       "      <td>NaN</td>\n",
       "    </tr>\n",
       "    <tr>\n",
       "      <th>3</th>\n",
       "      <td>4</td>\n",
       "      <td>I am learning to code</td>\n",
       "      <td>18-24 years old</td>\n",
       "      <td>Student, full-time</td>\n",
       "      <td>NaN</td>\n",
       "      <td>Apples</td>\n",
       "      <td>NaN</td>\n",
       "      <td>Some college/university study without earning ...</td>\n",
       "      <td>Other online resources (e.g., videos, blogs, f...</td>\n",
       "      <td>Stack Overflow;How-to videos;Interactive tutorial</td>\n",
       "      <td>...</td>\n",
       "      <td>NaN</td>\n",
       "      <td>NaN</td>\n",
       "      <td>NaN</td>\n",
       "      <td>NaN</td>\n",
       "      <td>NaN</td>\n",
       "      <td>NaN</td>\n",
       "      <td>Too long</td>\n",
       "      <td>Easy</td>\n",
       "      <td>NaN</td>\n",
       "      <td>NaN</td>\n",
       "    </tr>\n",
       "    <tr>\n",
       "      <th>4</th>\n",
       "      <td>5</td>\n",
       "      <td>I am a developer by profession</td>\n",
       "      <td>18-24 years old</td>\n",
       "      <td>Student, full-time</td>\n",
       "      <td>NaN</td>\n",
       "      <td>Apples</td>\n",
       "      <td>NaN</td>\n",
       "      <td>Secondary school (e.g. American high school, G...</td>\n",
       "      <td>Other online resources (e.g., videos, blogs, f...</td>\n",
       "      <td>Technical documentation;Blogs;Written Tutorial...</td>\n",
       "      <td>...</td>\n",
       "      <td>NaN</td>\n",
       "      <td>NaN</td>\n",
       "      <td>NaN</td>\n",
       "      <td>NaN</td>\n",
       "      <td>NaN</td>\n",
       "      <td>NaN</td>\n",
       "      <td>Too short</td>\n",
       "      <td>Easy</td>\n",
       "      <td>NaN</td>\n",
       "      <td>NaN</td>\n",
       "    </tr>\n",
       "  </tbody>\n",
       "</table>\n",
       "<p>5 rows × 114 columns</p>\n",
       "</div>"
      ]
     },
     "execution_count": 34,
     "metadata": {},
     "output_type": "execute_result"
    }
   ],
   "execution_count": 34
  },
  {
   "metadata": {},
   "cell_type": "markdown",
   "source": "# Display the column names, data types, and summary information to understand the data structure.",
   "id": "13814f31e8730c8f"
  },
  {
   "metadata": {
    "ExecuteTime": {
     "end_time": "2025-02-06T13:16:17.827914Z",
     "start_time": "2025-02-06T13:16:17.815469Z"
    }
   },
   "cell_type": "code",
   "source": "df.shape",
   "id": "9e6cedaceeb9e102",
   "outputs": [
    {
     "data": {
      "text/plain": [
       "(65437, 114)"
      ]
     },
     "execution_count": 35,
     "metadata": {},
     "output_type": "execute_result"
    }
   ],
   "execution_count": 35
  },
  {
   "metadata": {
    "ExecuteTime": {
     "end_time": "2025-02-06T13:16:27.511251Z",
     "start_time": "2025-02-06T13:16:27.456122Z"
    }
   },
   "cell_type": "code",
   "source": "df.describe()",
   "id": "eaa5da17f5b9ba54",
   "outputs": [
    {
     "data": {
      "text/plain": [
       "         ResponseId      CompTotal       WorkExp  JobSatPoints_1  \\\n",
       "count  65437.000000   3.374000e+04  29658.000000    29324.000000   \n",
       "mean   32719.000000  2.963841e+145     11.466957       18.581094   \n",
       "std    18890.179119  5.444117e+147      9.168709       25.966221   \n",
       "min        1.000000   0.000000e+00      0.000000        0.000000   \n",
       "25%    16360.000000   6.000000e+04      4.000000        0.000000   \n",
       "50%    32719.000000   1.100000e+05      9.000000       10.000000   \n",
       "75%    49078.000000   2.500000e+05     16.000000       22.000000   \n",
       "max    65437.000000  1.000000e+150     50.000000      100.000000   \n",
       "\n",
       "       JobSatPoints_4  JobSatPoints_5  JobSatPoints_6  JobSatPoints_7  \\\n",
       "count    29393.000000    29411.000000    29450.000000     29448.00000   \n",
       "mean         7.522140       10.060857       24.343232        22.96522   \n",
       "std         18.422661       21.833836       27.089360        27.01774   \n",
       "min          0.000000        0.000000        0.000000         0.00000   \n",
       "25%          0.000000        0.000000        0.000000         0.00000   \n",
       "50%          0.000000        0.000000       20.000000        15.00000   \n",
       "75%          5.000000       10.000000       30.000000        30.00000   \n",
       "max        100.000000      100.000000      100.000000       100.00000   \n",
       "\n",
       "       JobSatPoints_8  JobSatPoints_9  JobSatPoints_10  JobSatPoints_11  \\\n",
       "count    29456.000000    29456.000000     29450.000000     29445.000000   \n",
       "mean        20.278165       16.169432        10.955713         9.953948   \n",
       "std         26.108110       24.845032        22.906263        21.775652   \n",
       "min          0.000000        0.000000         0.000000         0.000000   \n",
       "25%          0.000000        0.000000         0.000000         0.000000   \n",
       "50%         10.000000        5.000000         0.000000         0.000000   \n",
       "75%         25.000000       20.000000        10.000000        10.000000   \n",
       "max        100.000000      100.000000       100.000000       100.000000   \n",
       "\n",
       "       ConvertedCompYearly        JobSat  \n",
       "count         2.343500e+04  29126.000000  \n",
       "mean          8.615529e+04      6.935041  \n",
       "std           1.867570e+05      2.088259  \n",
       "min           1.000000e+00      0.000000  \n",
       "25%           3.271200e+04      6.000000  \n",
       "50%           6.500000e+04      7.000000  \n",
       "75%           1.079715e+05      8.000000  \n",
       "max           1.625660e+07     10.000000  "
      ],
      "text/html": [
       "<div>\n",
       "<style scoped>\n",
       "    .dataframe tbody tr th:only-of-type {\n",
       "        vertical-align: middle;\n",
       "    }\n",
       "\n",
       "    .dataframe tbody tr th {\n",
       "        vertical-align: top;\n",
       "    }\n",
       "\n",
       "    .dataframe thead th {\n",
       "        text-align: right;\n",
       "    }\n",
       "</style>\n",
       "<table border=\"1\" class=\"dataframe\">\n",
       "  <thead>\n",
       "    <tr style=\"text-align: right;\">\n",
       "      <th></th>\n",
       "      <th>ResponseId</th>\n",
       "      <th>CompTotal</th>\n",
       "      <th>WorkExp</th>\n",
       "      <th>JobSatPoints_1</th>\n",
       "      <th>JobSatPoints_4</th>\n",
       "      <th>JobSatPoints_5</th>\n",
       "      <th>JobSatPoints_6</th>\n",
       "      <th>JobSatPoints_7</th>\n",
       "      <th>JobSatPoints_8</th>\n",
       "      <th>JobSatPoints_9</th>\n",
       "      <th>JobSatPoints_10</th>\n",
       "      <th>JobSatPoints_11</th>\n",
       "      <th>ConvertedCompYearly</th>\n",
       "      <th>JobSat</th>\n",
       "    </tr>\n",
       "  </thead>\n",
       "  <tbody>\n",
       "    <tr>\n",
       "      <th>count</th>\n",
       "      <td>65437.000000</td>\n",
       "      <td>3.374000e+04</td>\n",
       "      <td>29658.000000</td>\n",
       "      <td>29324.000000</td>\n",
       "      <td>29393.000000</td>\n",
       "      <td>29411.000000</td>\n",
       "      <td>29450.000000</td>\n",
       "      <td>29448.00000</td>\n",
       "      <td>29456.000000</td>\n",
       "      <td>29456.000000</td>\n",
       "      <td>29450.000000</td>\n",
       "      <td>29445.000000</td>\n",
       "      <td>2.343500e+04</td>\n",
       "      <td>29126.000000</td>\n",
       "    </tr>\n",
       "    <tr>\n",
       "      <th>mean</th>\n",
       "      <td>32719.000000</td>\n",
       "      <td>2.963841e+145</td>\n",
       "      <td>11.466957</td>\n",
       "      <td>18.581094</td>\n",
       "      <td>7.522140</td>\n",
       "      <td>10.060857</td>\n",
       "      <td>24.343232</td>\n",
       "      <td>22.96522</td>\n",
       "      <td>20.278165</td>\n",
       "      <td>16.169432</td>\n",
       "      <td>10.955713</td>\n",
       "      <td>9.953948</td>\n",
       "      <td>8.615529e+04</td>\n",
       "      <td>6.935041</td>\n",
       "    </tr>\n",
       "    <tr>\n",
       "      <th>std</th>\n",
       "      <td>18890.179119</td>\n",
       "      <td>5.444117e+147</td>\n",
       "      <td>9.168709</td>\n",
       "      <td>25.966221</td>\n",
       "      <td>18.422661</td>\n",
       "      <td>21.833836</td>\n",
       "      <td>27.089360</td>\n",
       "      <td>27.01774</td>\n",
       "      <td>26.108110</td>\n",
       "      <td>24.845032</td>\n",
       "      <td>22.906263</td>\n",
       "      <td>21.775652</td>\n",
       "      <td>1.867570e+05</td>\n",
       "      <td>2.088259</td>\n",
       "    </tr>\n",
       "    <tr>\n",
       "      <th>min</th>\n",
       "      <td>1.000000</td>\n",
       "      <td>0.000000e+00</td>\n",
       "      <td>0.000000</td>\n",
       "      <td>0.000000</td>\n",
       "      <td>0.000000</td>\n",
       "      <td>0.000000</td>\n",
       "      <td>0.000000</td>\n",
       "      <td>0.00000</td>\n",
       "      <td>0.000000</td>\n",
       "      <td>0.000000</td>\n",
       "      <td>0.000000</td>\n",
       "      <td>0.000000</td>\n",
       "      <td>1.000000e+00</td>\n",
       "      <td>0.000000</td>\n",
       "    </tr>\n",
       "    <tr>\n",
       "      <th>25%</th>\n",
       "      <td>16360.000000</td>\n",
       "      <td>6.000000e+04</td>\n",
       "      <td>4.000000</td>\n",
       "      <td>0.000000</td>\n",
       "      <td>0.000000</td>\n",
       "      <td>0.000000</td>\n",
       "      <td>0.000000</td>\n",
       "      <td>0.00000</td>\n",
       "      <td>0.000000</td>\n",
       "      <td>0.000000</td>\n",
       "      <td>0.000000</td>\n",
       "      <td>0.000000</td>\n",
       "      <td>3.271200e+04</td>\n",
       "      <td>6.000000</td>\n",
       "    </tr>\n",
       "    <tr>\n",
       "      <th>50%</th>\n",
       "      <td>32719.000000</td>\n",
       "      <td>1.100000e+05</td>\n",
       "      <td>9.000000</td>\n",
       "      <td>10.000000</td>\n",
       "      <td>0.000000</td>\n",
       "      <td>0.000000</td>\n",
       "      <td>20.000000</td>\n",
       "      <td>15.00000</td>\n",
       "      <td>10.000000</td>\n",
       "      <td>5.000000</td>\n",
       "      <td>0.000000</td>\n",
       "      <td>0.000000</td>\n",
       "      <td>6.500000e+04</td>\n",
       "      <td>7.000000</td>\n",
       "    </tr>\n",
       "    <tr>\n",
       "      <th>75%</th>\n",
       "      <td>49078.000000</td>\n",
       "      <td>2.500000e+05</td>\n",
       "      <td>16.000000</td>\n",
       "      <td>22.000000</td>\n",
       "      <td>5.000000</td>\n",
       "      <td>10.000000</td>\n",
       "      <td>30.000000</td>\n",
       "      <td>30.00000</td>\n",
       "      <td>25.000000</td>\n",
       "      <td>20.000000</td>\n",
       "      <td>10.000000</td>\n",
       "      <td>10.000000</td>\n",
       "      <td>1.079715e+05</td>\n",
       "      <td>8.000000</td>\n",
       "    </tr>\n",
       "    <tr>\n",
       "      <th>max</th>\n",
       "      <td>65437.000000</td>\n",
       "      <td>1.000000e+150</td>\n",
       "      <td>50.000000</td>\n",
       "      <td>100.000000</td>\n",
       "      <td>100.000000</td>\n",
       "      <td>100.000000</td>\n",
       "      <td>100.000000</td>\n",
       "      <td>100.00000</td>\n",
       "      <td>100.000000</td>\n",
       "      <td>100.000000</td>\n",
       "      <td>100.000000</td>\n",
       "      <td>100.000000</td>\n",
       "      <td>1.625660e+07</td>\n",
       "      <td>10.000000</td>\n",
       "    </tr>\n",
       "  </tbody>\n",
       "</table>\n",
       "</div>"
      ]
     },
     "execution_count": 36,
     "metadata": {},
     "output_type": "execute_result"
    }
   ],
   "execution_count": 36
  },
  {
   "metadata": {
    "ExecuteTime": {
     "end_time": "2025-02-06T13:16:40.872028Z",
     "start_time": "2025-02-06T13:16:40.689755Z"
    }
   },
   "cell_type": "code",
   "source": [
    "missing_counts = df.isnull().sum()\n",
    "print(missing_counts[missing_counts>0].sort_values(ascending=False))"
   ],
   "id": "ff3b344116e4e810",
   "outputs": [
    {
     "name": "stdout",
     "output_type": "stream",
     "text": [
      "AINextMuch less integrated    64289\n",
      "AINextLess integrated         63082\n",
      "AINextNo change               52939\n",
      "AINextMuch more integrated    51999\n",
      "EmbeddedAdmired               48704\n",
      "                              ...  \n",
      "YearsCode                      5568\n",
      "NEWSOSites                     5151\n",
      "LearnCode                      4949\n",
      "EdLevel                        4653\n",
      "AISelect                       4530\n",
      "Length: 109, dtype: int64\n"
     ]
    }
   ],
   "execution_count": 37
  },
  {
   "metadata": {},
   "cell_type": "markdown",
   "source": "#  Handle Missing Data",
   "id": "40de4fabfa67081f"
  },
  {
   "metadata": {
    "ExecuteTime": {
     "end_time": "2025-02-06T13:16:49.259449Z",
     "start_time": "2025-02-06T13:16:48.872901Z"
    }
   },
   "cell_type": "code",
   "source": [
    "duplicate_counts = df.duplicated().sum()\n",
    "print(duplicate_counts)"
   ],
   "id": "803298d05d89767d",
   "outputs": [
    {
     "name": "stdout",
     "output_type": "stream",
     "text": [
      "0\n"
     ]
    }
   ],
   "execution_count": 38
  },
  {
   "metadata": {},
   "cell_type": "markdown",
   "source": "# Analyze key columns",
   "id": "d48622b630fe73dd"
  },
  {
   "metadata": {
    "ExecuteTime": {
     "end_time": "2025-02-06T13:19:38.004151Z",
     "start_time": "2025-02-06T13:19:37.974907Z"
    }
   },
   "cell_type": "code",
   "source": [
    "columns_to_analyze = [\"Employment\", \"JobSat\", \"YearsCodePro\"]\n",
    "for col in columns_to_analyze:\n",
    "    print(df[col].value_counts())"
   ],
   "id": "c8436d34b118b735",
   "outputs": [
    {
     "name": "stdout",
     "output_type": "stream",
     "text": [
      "Employment\n",
      "Employed, full-time                                                                                                                                  39041\n",
      "Independent contractor, freelancer, or self-employed                                                                                                  4846\n",
      "Student, full-time                                                                                                                                    4709\n",
      "Employed, full-time;Independent contractor, freelancer, or self-employed                                                                              3557\n",
      "Not employed, but looking for work                                                                                                                    2341\n",
      "                                                                                                                                                     ...  \n",
      "Employed, full-time;Student, full-time;Independent contractor, freelancer, or self-employed;Student, part-time;Employed, part-time;Retired               1\n",
      "Employed, full-time;Independent contractor, freelancer, or self-employed;Student, part-time;Retired                                                      1\n",
      "Employed, full-time;Independent contractor, freelancer, or self-employed;Employed, part-time;Retired                                                     1\n",
      "Student, full-time;Not employed, but looking for work;Independent contractor, freelancer, or self-employed;Not employed, and not looking for work        1\n",
      "Not employed, but looking for work;Independent contractor, freelancer, or self-employed;Student, part-time;Retired                                       1\n",
      "Name: count, Length: 110, dtype: int64\n",
      "JobSat\n",
      "8.0     7509\n",
      "7.0     6379\n",
      "6.0     3751\n",
      "9.0     3626\n",
      "10.0    2251\n",
      "5.0     1956\n",
      "3.0     1165\n",
      "4.0     1130\n",
      "2.0      772\n",
      "0.0      311\n",
      "1.0      276\n",
      "Name: count, dtype: int64\n",
      "YearsCodePro\n",
      "2                     4168\n",
      "3                     4093\n",
      "5                     3526\n",
      "10                    3251\n",
      "4                     3215\n",
      "Less than 1 year      2856\n",
      "6                     2843\n",
      "1                     2639\n",
      "8                     2549\n",
      "7                     2517\n",
      "12                    1777\n",
      "15                    1635\n",
      "20                    1549\n",
      "9                     1493\n",
      "11                    1312\n",
      "13                    1127\n",
      "14                    1082\n",
      "25                     998\n",
      "16                     946\n",
      "18                     867\n",
      "17                     814\n",
      "30                     689\n",
      "24                     632\n",
      "19                     516\n",
      "22                     492\n",
      "23                     448\n",
      "26                     426\n",
      "21                     380\n",
      "27                     380\n",
      "28                     342\n",
      "35                     285\n",
      "29                     196\n",
      "40                     194\n",
      "32                     194\n",
      "34                     169\n",
      "38                     134\n",
      "33                     132\n",
      "36                     119\n",
      "31                     106\n",
      "37                     104\n",
      "45                      56\n",
      "42                      55\n",
      "39                      54\n",
      "41                      51\n",
      "More than 50 years      50\n",
      "44                      42\n",
      "43                      37\n",
      "46                      21\n",
      "50                      14\n",
      "48                      14\n",
      "49                      11\n",
      "47                      10\n",
      "Name: count, dtype: int64\n"
     ]
    }
   ],
   "execution_count": 39
  },
  {
   "metadata": {},
   "cell_type": "markdown",
   "source": "# Visualize Job Satisfaction",
   "id": "80e29cefbd2b84e3"
  },
  {
   "metadata": {
    "ExecuteTime": {
     "end_time": "2025-02-06T15:51:18.181063Z",
     "start_time": "2025-02-06T15:51:18.167849Z"
    }
   },
   "cell_type": "code",
   "source": [
    "# Fill missing value with mode\n",
    "mean_job_sat = df.JobSat.mean()\n",
    "df['JobSat'] = df['JobSat'].fillna(mean_job_sat)"
   ],
   "id": "2e0263743768c1ec",
   "outputs": [],
   "execution_count": 61
  },
  {
   "metadata": {
    "ExecuteTime": {
     "end_time": "2025-02-06T15:54:30.633217Z",
     "start_time": "2025-02-06T15:54:30.619192Z"
    }
   },
   "cell_type": "code",
   "source": [
    "bins = [0, 4, 7, 10]\n",
    "labels = ['1-4', '5-7', '8-10']\n",
    "job_sat_bins = pd.cut(df['JobSat'], bins=bins, labels=labels, right=True)\n",
    "job_sat_bins.value_counts()"
   ],
   "id": "33aa76d7e3099670",
   "outputs": [
    {
     "data": {
      "text/plain": [
       "JobSat\n",
       "5-7     48397\n",
       "8-10    13386\n",
       "1-4      3343\n",
       "Name: count, dtype: int64"
      ]
     },
     "execution_count": 65,
     "metadata": {},
     "output_type": "execute_result"
    }
   ],
   "execution_count": 65
  },
  {
   "metadata": {},
   "cell_type": "markdown",
   "source": "# Visualize the JOB SAT in PIE chart",
   "id": "cb288f8b3671f4e4"
  },
  {
   "metadata": {
    "ExecuteTime": {
     "end_time": "2025-02-06T15:56:17.380920Z",
     "start_time": "2025-02-06T15:56:17.360215Z"
    }
   },
   "cell_type": "code",
   "source": [
    "%matplotlib inline\n",
    "job_sat_counts = job_sat_bins.value_counts().sort_index()\n",
    "job_sat_counts"
   ],
   "id": "c96436b1ead839f7",
   "outputs": [
    {
     "data": {
      "text/plain": [
       "JobSat\n",
       "1-4      3343\n",
       "5-7     48397\n",
       "8-10    13386\n",
       "Name: count, dtype: int64"
      ]
     },
     "execution_count": 68,
     "metadata": {},
     "output_type": "execute_result"
    }
   ],
   "execution_count": 68
  },
  {
   "metadata": {
    "ExecuteTime": {
     "end_time": "2025-02-06T15:57:18.642847Z",
     "start_time": "2025-02-06T15:57:18.586954Z"
    }
   },
   "cell_type": "code",
   "source": [
    "plt.figure(figsize=(10,6))\n",
    "plt.pie(job_sat_counts, labels=job_sat_counts.index, autopct='%1.1f%%')\n",
    "plt.title('JobSat Distribution')\n",
    "plt.show()"
   ],
   "id": "3695a3d6f36ebb2a",
   "outputs": [
    {
     "data": {
      "text/plain": [
       "<Figure size 1000x600 with 1 Axes>"
      ],
      "image/png": "[encoded data removed]"
     },
     "metadata": {},
     "output_type": "display_data"
    }
   ],
   "execution_count": 71
  },
  {
   "metadata": {},
   "cell_type": "markdown",
   "source": [
    "# Programming Languages Analysis\n",
    "LanguageHaveWorkedWith and LanguageWantToWorkWith."
   ],
   "id": "a8589877a141168a"
  },
  {
   "metadata": {
    "ExecuteTime": {
     "end_time": "2025-02-06T17:03:38.977584Z",
     "start_time": "2025-02-06T17:03:38.923573Z"
    }
   },
   "cell_type": "code",
   "source": "df[['LanguageHaveWorkedWith', 'LanguageWantToWorkWith']]",
   "id": "8f169854096fb5b3",
   "outputs": [
    {
     "data": {
      "text/plain": [
       "                                  LanguageHaveWorkedWith  \\\n",
       "0                                                    NaN   \n",
       "1      Bash/Shell (all shells);Go;HTML/CSS;Java;JavaS...   \n",
       "2                                                     C#   \n",
       "3      C;C++;HTML/CSS;Java;JavaScript;PHP;PowerShell;...   \n",
       "4                C++;HTML/CSS;JavaScript;Lua;Python;Rust   \n",
       "...                                                  ...   \n",
       "65432                                                NaN   \n",
       "65433                                                NaN   \n",
       "65434                                                NaN   \n",
       "65435           C;C++;Go;Lua;Objective-C;Python;Rust;SQL   \n",
       "65436   C;HTML/CSS;Java;JavaScript;PHP;Python;TypeScript   \n",
       "\n",
       "                                  LanguageWantToWorkWith  \n",
       "0                                                    NaN  \n",
       "1      Bash/Shell (all shells);Go;HTML/CSS;Java;JavaS...  \n",
       "2                                                     C#  \n",
       "3      HTML/CSS;Java;JavaScript;PowerShell;Python;SQL...  \n",
       "4                     C++;HTML/CSS;JavaScript;Lua;Python  \n",
       "...                                                  ...  \n",
       "65432                                                NaN  \n",
       "65433                                                NaN  \n",
       "65434                                                NaN  \n",
       "65435                                           Rust;SQL  \n",
       "65436                       JavaScript;Python;TypeScript  \n",
       "\n",
       "[65437 rows x 2 columns]"
      ],
      "text/html": [
       "<div>\n",
       "<style scoped>\n",
       "    .dataframe tbody tr th:only-of-type {\n",
       "        vertical-align: middle;\n",
       "    }\n",
       "\n",
       "    .dataframe tbody tr th {\n",
       "        vertical-align: top;\n",
       "    }\n",
       "\n",
       "    .dataframe thead th {\n",
       "        text-align: right;\n",
       "    }\n",
       "</style>\n",
       "<table border=\"1\" class=\"dataframe\">\n",
       "  <thead>\n",
       "    <tr style=\"text-align: right;\">\n",
       "      <th></th>\n",
       "      <th>LanguageHaveWorkedWith</th>\n",
       "      <th>LanguageWantToWorkWith</th>\n",
       "    </tr>\n",
       "  </thead>\n",
       "  <tbody>\n",
       "    <tr>\n",
       "      <th>0</th>\n",
       "      <td>NaN</td>\n",
       "      <td>NaN</td>\n",
       "    </tr>\n",
       "    <tr>\n",
       "      <th>1</th>\n",
       "      <td>Bash/Shell (all shells);Go;HTML/CSS;Java;JavaS...</td>\n",
       "      <td>Bash/Shell (all shells);Go;HTML/CSS;Java;JavaS...</td>\n",
       "    </tr>\n",
       "    <tr>\n",
       "      <th>2</th>\n",
       "      <td>C#</td>\n",
       "      <td>C#</td>\n",
       "    </tr>\n",
       "    <tr>\n",
       "      <th>3</th>\n",
       "      <td>C;C++;HTML/CSS;Java;JavaScript;PHP;PowerShell;...</td>\n",
       "      <td>HTML/CSS;Java;JavaScript;PowerShell;Python;SQL...</td>\n",
       "    </tr>\n",
       "    <tr>\n",
       "      <th>4</th>\n",
       "      <td>C++;HTML/CSS;JavaScript;Lua;Python;Rust</td>\n",
       "      <td>C++;HTML/CSS;JavaScript;Lua;Python</td>\n",
       "    </tr>\n",
       "    <tr>\n",
       "      <th>...</th>\n",
       "      <td>...</td>\n",
       "      <td>...</td>\n",
       "    </tr>\n",
       "    <tr>\n",
       "      <th>65432</th>\n",
       "      <td>NaN</td>\n",
       "      <td>NaN</td>\n",
       "    </tr>\n",
       "    <tr>\n",
       "      <th>65433</th>\n",
       "      <td>NaN</td>\n",
       "      <td>NaN</td>\n",
       "    </tr>\n",
       "    <tr>\n",
       "      <th>65434</th>\n",
       "      <td>NaN</td>\n",
       "      <td>NaN</td>\n",
       "    </tr>\n",
       "    <tr>\n",
       "      <th>65435</th>\n",
       "      <td>C;C++;Go;Lua;Objective-C;Python;Rust;SQL</td>\n",
       "      <td>Rust;SQL</td>\n",
       "    </tr>\n",
       "    <tr>\n",
       "      <th>65436</th>\n",
       "      <td>C;HTML/CSS;Java;JavaScript;PHP;Python;TypeScript</td>\n",
       "      <td>JavaScript;Python;TypeScript</td>\n",
       "    </tr>\n",
       "  </tbody>\n",
       "</table>\n",
       "<p>65437 rows × 2 columns</p>\n",
       "</div>"
      ]
     },
     "execution_count": 73,
     "metadata": {},
     "output_type": "execute_result"
    }
   ],
   "execution_count": 73
  },
  {
   "metadata": {
    "ExecuteTime": {
     "end_time": "2025-02-06T17:04:49.867427Z",
     "start_time": "2025-02-06T17:04:49.847235Z"
    }
   },
   "cell_type": "code",
   "source": [
    "missing_val = df[['LanguageHaveWorkedWith', 'LanguageWantToWorkWith']].isnull().sum()\n",
    "missing_val"
   ],
   "id": "662ad2df0361652e",
   "outputs": [
    {
     "data": {
      "text/plain": [
       "LanguageHaveWorkedWith    5692\n",
       "LanguageWantToWorkWith    9685\n",
       "dtype: int64"
      ]
     },
     "execution_count": 74,
     "metadata": {},
     "output_type": "execute_result"
    }
   ],
   "execution_count": 74
  },
  {
   "metadata": {
    "ExecuteTime": {
     "end_time": "2025-02-06T17:06:31.442792Z",
     "start_time": "2025-02-06T17:06:31.404217Z"
    }
   },
   "cell_type": "code",
   "source": "df['LanguageHaveWorkedWith'].value_counts()",
   "id": "867a5dc16056cde6",
   "outputs": [
    {
     "data": {
      "text/plain": [
       "LanguageHaveWorkedWith\n",
       "HTML/CSS;JavaScript;TypeScript                                          1002\n",
       "Python                                                                   832\n",
       "HTML/CSS;JavaScript;PHP;SQL                                              503\n",
       "HTML/CSS;JavaScript                                                      452\n",
       "C#                                                                       452\n",
       "                                                                        ... \n",
       "Bash/Shell (all shells);Java;JavaScript;Python;Ruby;Scala;SQL              1\n",
       "Bash/Shell (all shells);Go;Groovy;Haskell;Java;Python                      1\n",
       "Bash/Shell (all shells);C#;C++;HTML/CSS;JavaScript;MATLAB;Python;SQL       1\n",
       "Bash/Shell (all shells);JavaScript;Perl;Python;Ruby;TypeScript             1\n",
       "C;HTML/CSS;Java;JavaScript;PHP;Python;TypeScript                           1\n",
       "Name: count, Length: 23864, dtype: int64"
      ]
     },
     "execution_count": 80,
     "metadata": {},
     "output_type": "execute_result"
    }
   ],
   "execution_count": 80
  },
  {
   "metadata": {
    "ExecuteTime": {
     "end_time": "2025-02-06T17:10:58.035665Z",
     "start_time": "2025-02-06T17:10:57.986411Z"
    }
   },
   "cell_type": "code",
   "source": "df['LanguageWantToWorkWith'].value_counts()",
   "id": "e28a3328c7220119",
   "outputs": [
    {
     "data": {
      "text/plain": [
       "LanguageWantToWorkWith\n",
       "Python                                                                                                        922\n",
       "Rust                                                                                                          737\n",
       "HTML/CSS;JavaScript;TypeScript                                                                                632\n",
       "C#                                                                                                            538\n",
       "Go                                                                                                            460\n",
       "                                                                                                             ... \n",
       "Dart;JavaScript;Kotlin;Python;Scala;SQL                                                                         1\n",
       "Bash/Shell (all shells);Go;Groovy;Haskell;Python                                                                1\n",
       "Bash/Shell (all shells);C#;C++;Lua;PowerShell;Python;R;Rust;SQL;TypeScript                                      1\n",
       "Bash/Shell (all shells);JavaScript;Perl;Ruby                                                                    1\n",
       "Bash/Shell (all shells);C#;Go;HTML/CSS;Java;JavaScript;Kotlin;Objective-C;Python;Rust;SQL;Swift;TypeScript      1\n",
       "Name: count, Length: 22769, dtype: int64"
      ]
     },
     "execution_count": 81,
     "metadata": {},
     "output_type": "execute_result"
    }
   ],
   "execution_count": 81
  },
  {
   "metadata": {},
   "cell_type": "markdown",
   "source": "# Make data frame form both column",
   "id": "3b7958f9cffa508d"
  },
  {
   "metadata": {
    "ExecuteTime": {
     "end_time": "2025-02-06T17:32:31.981089Z",
     "start_time": "2025-02-06T17:32:31.971840Z"
    }
   },
   "cell_type": "code",
   "source": [
    "from collections import Counter\n",
    "def count_languages(column):\n",
    "    all_lang = []\n",
    "    for lang in df[column].dropna():\n",
    "        all_lang.extend(lang.split(';'))\n",
    "    return Counter(all_lang)"
   ],
   "id": "1c9e6a8b2bdf1b29",
   "outputs": [],
   "execution_count": 88
  },
  {
   "metadata": {
    "ExecuteTime": {
     "end_time": "2025-02-07T06:34:04.592342Z",
     "start_time": "2025-02-07T06:34:04.391236Z"
    }
   },
   "cell_type": "code",
   "source": [
    "# Count all languages\n",
    "worked_count = count_languages('LanguageHaveWorkedWith')\n",
    "want_to_count = count_languages('LanguageWantToWorkWith')\n",
    "# Convert to Datafarme\n",
    "df_count = pd.DataFrame([worked_count, want_to_count]).T.fillna(0)\n",
    "df_count.columns = ['Worked with', 'want To with']"
   ],
   "id": "5e6b5976f20b07",
   "outputs": [
    {
     "ename": "NameError",
     "evalue": "name 'count_languages' is not defined",
     "output_type": "error",
     "traceback": [
      "\u001B[0;31m---------------------------------------------------------------------------\u001B[0m",
      "\u001B[0;31mNameError\u001B[0m                                 Traceback (most recent call last)",
      "Cell \u001B[0;32mIn[1], line 2\u001B[0m\n\u001B[1;32m      1\u001B[0m \u001B[38;5;66;03m# Count all languages\u001B[39;00m\n\u001B[0;32m----> 2\u001B[0m worked_count \u001B[38;5;241m=\u001B[39m count_languages(\u001B[38;5;124m'\u001B[39m\u001B[38;5;124mLanguageHaveWorkedWith\u001B[39m\u001B[38;5;124m'\u001B[39m)\n\u001B[1;32m      3\u001B[0m want_to_count \u001B[38;5;241m=\u001B[39m count_languages(\u001B[38;5;124m'\u001B[39m\u001B[38;5;124mLanguageWantToWorkWith\u001B[39m\u001B[38;5;124m'\u001B[39m)\n\u001B[1;32m      4\u001B[0m \u001B[38;5;66;03m# Convert to Datafarme\u001B[39;00m\n",
      "\u001B[0;31mNameError\u001B[0m: name 'count_languages' is not defined"
     ]
    }
   ],
   "execution_count": 1
  },
  {
   "metadata": {
    "ExecuteTime": {
     "end_time": "2025-02-06T18:02:59.900599Z",
     "start_time": "2025-02-06T18:02:59.680120Z"
    }
   },
   "cell_type": "code",
   "source": [
    "# SHOW BAR CHART\n",
    "plt.figure(figsize=(18,6))\n",
    "df_count.plot(kind='bar', figsize=(18,6), color=['blue', 'red'])\n",
    "plt.title('Worked vs Want to work with')\n",
    "plt.ylabel('Frequency')\n",
    "plt.legend(title='Worked vs Want to work with')\n",
    "plt.show()"
   ],
   "id": "1767fc725a4351ed",
   "outputs": [
    {
     "data": {
      "text/plain": [
       "<Figure size 1800x600 with 0 Axes>"
      ]
     },
     "metadata": {},
     "output_type": "display_data"
    },
    {
     "data": {
      "text/plain": [
       "<Figure size 1800x600 with 1 Axes>"
      ],
      "image/png": "[encoded data removed]"
     },
     "metadata": {},
     "output_type": "display_data"
    }
   ],
   "execution_count": 111
  },
  {
   "metadata": {
    "ExecuteTime": {
     "end_time": "2025-02-06T18:00:01.551518Z",
     "start_time": "2025-02-06T18:00:01.491072Z"
    }
   },
   "cell_type": "code",
   "source": [
    "from matplotlib_venn import venn2\n",
    "# 🔵 **Venn Diagram**\n",
    "set_worked = set(worked_count.keys())\n",
    "set_want = set(want_to_count.keys())\n",
    "\n",
    "plt.figure(figsize=(6,6))\n",
    "venn2([set_worked, set_want], set_labels=(\"Worked With\", \"Want to Work With\"))\n",
    "plt.title(\"Overlap Between Worked & Wanted Languages\")\n",
    "plt.show()"
   ],
   "id": "c0a5d98fda5e9bb6",
   "outputs": [
    {
     "data": {
      "text/plain": [
       "<Figure size 600x600 with 1 Axes>"
      ],
      "image/png": "[encoded data removed]"
     },
     "metadata": {},
     "output_type": "display_data"
    }
   ],
   "execution_count": 107
  },
  {
   "metadata": {},
   "cell_type": "code",
   "outputs": [],
   "execution_count": null,
   "source": "",
   "id": "c59d3c91b929d367"
  }
 ],
 "metadata": {
  "kernelspec": {
   "display_name": "Python 3",
   "language": "python",
   "name": "python3"
  },
  "language_info": {
   "codemirror_mode": {
    "name": "ipython",
    "version": 2
   },
   "file_extension": ".py",
   "mimetype": "text/x-python",
   "name": "python",
   "nbconvert_exporter": "python",
   "pygments_lexer": "ipython2",
   "version": "2.7.6"
  }
 },
 "nbformat": 4,
 "nbformat_minor": 5
}
