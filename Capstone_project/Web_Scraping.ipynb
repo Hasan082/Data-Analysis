{
 "cells": [
  {
   "metadata": {},
   "cell_type": "markdown",
   "source": "# Extracting the language names and annual average salaries, and saving them into a CSV file named popular-languages.csv",
   "id": "e327df9b681a6fdd"
  },
  {
   "metadata": {
    "ExecuteTime": {
     "end_time": "2025-01-26T13:07:50.367962Z",
     "start_time": "2025-01-26T13:07:50.363386Z"
    }
   },
   "cell_type": "code",
   "source": [
    "# Required Library\n",
    "import requests\n",
    "import pandas as pd\n",
    "from bs4 import BeautifulSoup"
   ],
   "id": "43e5b04de1505acc",
   "outputs": [],
   "execution_count": 2
  },
  {
   "metadata": {},
   "cell_type": "code",
   "outputs": [],
   "execution_count": null,
   "source": "# Download the Webpage\n",
   "id": "c9c62d331ce2a92"
  }
 ],
 "metadata": {
  "kernelspec": {
   "display_name": "Python 3",
   "language": "python",
   "name": "python3"
  },
  "language_info": {
   "codemirror_mode": {
    "name": "ipython",
    "version": 2
   },
   "file_extension": ".py",
   "mimetype": "text/x-python",
   "name": "python",
   "nbconvert_exporter": "python",
   "pygments_lexer": "ipython2",
   "version": "2.7.6"
  }
 },
 "nbformat": 4,
 "nbformat_minor": 5
}
