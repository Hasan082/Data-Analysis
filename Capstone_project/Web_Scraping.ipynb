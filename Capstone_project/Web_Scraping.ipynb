{
 "cells": [
  {
   "metadata": {},
   "cell_type": "markdown",
   "source": "# Extracting the language names and annual average salaries, and saving them into a CSV file named popular-languages.csv",
   "id": "e327df9b681a6fdd"
  },
  {
   "metadata": {
    "ExecuteTime": {
     "end_time": "2025-01-26T13:07:50.367962Z",
     "start_time": "2025-01-26T13:07:50.363386Z"
    }
   },
   "cell_type": "code",
   "source": [
    "# Required Library\n",
    "import requests\n",
    "import pandas as pd\n",
    "from bs4 import BeautifulSoup"
   ],
   "id": "43e5b04de1505acc",
   "outputs": [],
   "execution_count": 2
  },
  {
   "metadata": {
    "ExecuteTime": {
     "end_time": "2025-01-26T13:12:33.788635Z",
     "start_time": "2025-01-26T13:12:32.752594Z"
    }
   },
   "cell_type": "code",
   "source": [
    "# Download the Webpage\n",
    "url = \"https://cf-courses-data.s3.us.cloud-object-storage.appdomain.cloud/IBM-DA0321EN-SkillsNetwork/labs/datasets/Programming_Languages.html\"\n",
    "response = requests.get(url)\n",
    "if response.status_code == 200:\n",
    "    print(f\"Downloaded Successfully\")\n",
    "else:\n",
    "    print(f\"Downloading Failed\")"
   ],
   "id": "c9c62d331ce2a92",
   "outputs": [
    {
     "name": "stdout",
     "output_type": "stream",
     "text": [
      "Downloaded Successfully\n"
     ]
    }
   ],
   "execution_count": 4
  },
  {
   "metadata": {
    "ExecuteTime": {
     "end_time": "2025-01-26T13:20:29.504487Z",
     "start_time": "2025-01-26T13:20:29.494041Z"
    }
   },
   "cell_type": "code",
   "source": [
    "# Parse the webpage content using BeautifulSoup.\n",
    "soup = BeautifulSoup(response.text, \"html.parser\")\n",
    "# Scrape the Language Name and Average Salary\n",
    "table = soup.find(\"table\")\n",
    "language = []\n",
    "average_salary = []\n",
    "for row in table.find_all('tr')[1:]:\n",
    "    cols = row.find_all('td')\n",
    "    language.append(cols[1].text)\n",
    "    average_salary.append(cols[3].text)\n",
    "\n",
    "# create a dictionary which is nearly json\n",
    "data = {'language': language,': average_salary': average_salary}\n",
    "df = pd.DataFrame(data)\n",
    "df.head()"
   ],
   "id": "df838c9b0faed5f4",
   "outputs": [
    {
     "data": {
      "text/plain": [
       "     language : average_salary\n",
       "0      Python         $114,383\n",
       "1        Java         $101,013\n",
       "2           R          $92,037\n",
       "3  Javascript         $110,981\n",
       "4       Swift         $130,801"
      ],
      "text/html": [
       "<div>\n",
       "<style scoped>\n",
       "    .dataframe tbody tr th:only-of-type {\n",
       "        vertical-align: middle;\n",
       "    }\n",
       "\n",
       "    .dataframe tbody tr th {\n",
       "        vertical-align: top;\n",
       "    }\n",
       "\n",
       "    .dataframe thead th {\n",
       "        text-align: right;\n",
       "    }\n",
       "</style>\n",
       "<table border=\"1\" class=\"dataframe\">\n",
       "  <thead>\n",
       "    <tr style=\"text-align: right;\">\n",
       "      <th></th>\n",
       "      <th>language</th>\n",
       "      <th>: average_salary</th>\n",
       "    </tr>\n",
       "  </thead>\n",
       "  <tbody>\n",
       "    <tr>\n",
       "      <th>0</th>\n",
       "      <td>Python</td>\n",
       "      <td>$114,383</td>\n",
       "    </tr>\n",
       "    <tr>\n",
       "      <th>1</th>\n",
       "      <td>Java</td>\n",
       "      <td>$101,013</td>\n",
       "    </tr>\n",
       "    <tr>\n",
       "      <th>2</th>\n",
       "      <td>R</td>\n",
       "      <td>$92,037</td>\n",
       "    </tr>\n",
       "    <tr>\n",
       "      <th>3</th>\n",
       "      <td>Javascript</td>\n",
       "      <td>$110,981</td>\n",
       "    </tr>\n",
       "    <tr>\n",
       "      <th>4</th>\n",
       "      <td>Swift</td>\n",
       "      <td>$130,801</td>\n",
       "    </tr>\n",
       "  </tbody>\n",
       "</table>\n",
       "</div>"
      ]
     },
     "execution_count": 12,
     "metadata": {},
     "output_type": "execute_result"
    }
   ],
   "execution_count": 12
  },
  {
   "metadata": {
    "ExecuteTime": {
     "end_time": "2025-01-26T13:21:50.243304Z",
     "start_time": "2025-01-26T13:21:50.231655Z"
    }
   },
   "cell_type": "code",
   "source": [
    "# Save the data in csv\n",
    "file_name = 'popular-languages.csv'\n",
    "df.to_csv(file_name, index=False)\n",
    "print(f\"Saved Successfully to {file_name}\")"
   ],
   "id": "470a4ab7fa476ad6",
   "outputs": [
    {
     "name": "stdout",
     "output_type": "stream",
     "text": [
      "Saved Successfully to popular-languages.csv\n"
     ]
    }
   ],
   "execution_count": 13
  }
 ],
 "metadata": {
  "kernelspec": {
   "display_name": "Python 3",
   "language": "python",
   "name": "python3"
  },
  "language_info": {
   "codemirror_mode": {
    "name": "ipython",
    "version": 2
   },
   "file_extension": ".py",
   "mimetype": "text/x-python",
   "name": "python",
   "nbconvert_exporter": "python",
   "pygments_lexer": "ipython2",
   "version": "2.7.6"
  }
 },
 "nbformat": 4,
 "nbformat_minor": 5
}
