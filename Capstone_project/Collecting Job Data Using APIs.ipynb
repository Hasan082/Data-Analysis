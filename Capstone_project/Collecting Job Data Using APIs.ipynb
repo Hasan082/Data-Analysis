{
 "cells": [
  {
   "metadata": {},
   "cell_type": "markdown",
   "source": "# Collecting Job Data Using APIs",
   "id": "55e52f9d5f339976"
  },
  {
   "metadata": {
    "ExecuteTime": {
     "end_time": "2025-01-25T19:02:08.000373Z",
     "start_time": "2025-01-25T19:02:07.471791Z"
    }
   },
   "cell_type": "code",
   "source": [
    "import requests\n",
    "import json\n",
    "import pandas as pd"
   ],
   "id": "36577bf7cab661f2",
   "outputs": [],
   "execution_count": 2
  },
  {
   "metadata": {
    "ExecuteTime": {
     "end_time": "2025-01-25T18:54:05.671775Z",
     "start_time": "2025-01-25T18:54:05.158846Z"
    }
   },
   "cell_type": "code",
   "source": [
    "api_url = \"http://api.open-notify.org/astros.json\"\n",
    "response2 = requests.get(api_url)\n",
    "if response2.ok:\n",
    "    data = response2.json()\n",
    "# Total Number\n",
    "print(data.get('number'))\n",
    "# All people\n",
    "astronauts = data.get('people')\n",
    "print(\"There are {} people who are talking about\".format(len(data['people'])))\n",
    "print(\"And there name is as follows:\")\n",
    "for astronaut in astronauts:\n",
    "    print(astronaut['name'])"
   ],
   "id": "fb21f387c259df18",
   "outputs": [
    {
     "name": "stdout",
     "output_type": "stream",
     "text": [
      "12\n",
      "There are 12 people who are talking about\n",
      "And there name is as follows:\n",
      "Oleg Kononenko\n",
      "Nikolai Chub\n",
      "Tracy Caldwell Dyson\n",
      "Matthew Dominick\n",
      "Michael Barratt\n",
      "Jeanette Epps\n",
      "Alexander Grebenkin\n",
      "Butch Wilmore\n",
      "Sunita Williams\n",
      "Li Guangsu\n",
      "Li Cong\n",
      "Ye Guangfu\n"
     ]
    }
   ],
   "execution_count": 11
  },
  {
   "metadata": {},
   "cell_type": "markdown",
   "source": "# Objective: Determine the number of jobs currently open for various technologies and for various locations¶",
   "id": "11fd86ec31f3e1a7"
  },
  {
   "metadata": {
    "ExecuteTime": {
     "end_time": "2025-01-25T19:23:05.500948Z",
     "start_time": "2025-01-25T19:22:54.359585Z"
    }
   },
   "cell_type": "code",
   "source": [
    "job_api_url=\"https://cf-courses-data.s3.us.cloud-object-storage.appdomain.cloud/IBM-DA0321EN-SkillsNetwork/labs/module%201/Accessing%20Data%20Using%20APIs/jobs.json\"\n",
    "\n",
    "def get_number_of_jobs_T(technology):\n",
    "    number_of_jobs = 0\n",
    "    try:\n",
    "        response = requests.get(job_api_url)\n",
    "        if response.ok:\n",
    "            job_data = response.json()\n",
    "            number_of_jobs = sum(1 for job in job_data if technology in job.get(\"Key Skills\").lower())\n",
    "        else:\n",
    "            print(f\"There are no jobs for {technology}\")\n",
    "    except Exception as e:\n",
    "        print(e)\n",
    "    return technology, number_of_jobs\n",
    "\n",
    "python = get_number_of_jobs_T('python')\n",
    "print(python)"
   ],
   "id": "b8f0038bca024d92",
   "outputs": [
    {
     "name": "stdout",
     "output_type": "stream",
     "text": [
      "('python', 1173)\n"
     ]
    }
   ],
   "execution_count": 18
  },
  {
   "metadata": {
    "ExecuteTime": {
     "end_time": "2025-01-25T19:24:41.672170Z",
     "start_time": "2025-01-25T19:24:32.612348Z"
    }
   },
   "cell_type": "code",
   "source": [
    "java = get_number_of_jobs_T('java')\n",
    "print(java)"
   ],
   "id": "5463230e494ada13",
   "outputs": [
    {
     "name": "stdout",
     "output_type": "stream",
     "text": [
      "('java', 3428)\n"
     ]
    }
   ],
   "execution_count": 19
  }
 ],
 "metadata": {
  "kernelspec": {
   "display_name": "Python 3",
   "language": "python",
   "name": "python3"
  },
  "language_info": {
   "codemirror_mode": {
    "name": "ipython",
    "version": 2
   },
   "file_extension": ".py",
   "mimetype": "text/x-python",
   "name": "python",
   "nbconvert_exporter": "python",
   "pygments_lexer": "ipython2",
   "version": "2.7.6"
  }
 },
 "nbformat": 4,
 "nbformat_minor": 5
}
