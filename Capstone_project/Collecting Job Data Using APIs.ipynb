{
 "cells": [
  {
   "metadata": {},
   "cell_type": "markdown",
   "source": "# Collecting Job Data Using APIs",
   "id": "55e52f9d5f339976"
  },
  {
   "metadata": {
    "ExecuteTime": {
     "end_time": "2025-01-25T19:02:08.000373Z",
     "start_time": "2025-01-25T19:02:07.471791Z"
    }
   },
   "cell_type": "code",
   "source": [
    "import requests\n",
    "import json\n",
    "import pandas as pd"
   ],
   "id": "36577bf7cab661f2",
   "outputs": [],
   "execution_count": 2
  },
  {
   "metadata": {
    "ExecuteTime": {
     "end_time": "2025-01-25T18:54:05.671775Z",
     "start_time": "2025-01-25T18:54:05.158846Z"
    }
   },
   "cell_type": "code",
   "source": [
    "api_url = \"http://api.open-notify.org/astros.json\"\n",
    "response2 = requests.get(api_url)\n",
    "if response2.ok:\n",
    "    data = response2.json()\n",
    "# Total Number\n",
    "print(data.get('number'))\n",
    "# All people\n",
    "astronauts = data.get('people')\n",
    "print(\"There are {} people who are talking about\".format(len(data['people'])))\n",
    "print(\"And there name is as follows:\")\n",
    "for astronaut in astronauts:\n",
    "    print(astronaut['name'])"
   ],
   "id": "fb21f387c259df18",
   "outputs": [
    {
     "name": "stdout",
     "output_type": "stream",
     "text": [
      "12\n",
      "There are 12 people who are talking about\n",
      "And there name is as follows:\n",
      "Oleg Kononenko\n",
      "Nikolai Chub\n",
      "Tracy Caldwell Dyson\n",
      "Matthew Dominick\n",
      "Michael Barratt\n",
      "Jeanette Epps\n",
      "Alexander Grebenkin\n",
      "Butch Wilmore\n",
      "Sunita Williams\n",
      "Li Guangsu\n",
      "Li Cong\n",
      "Ye Guangfu\n"
     ]
    }
   ],
   "execution_count": 11
  },
  {
   "metadata": {},
   "cell_type": "markdown",
   "source": "# Objective: Determine the number of jobs currently open for various technologies and for various locations¶",
   "id": "11fd86ec31f3e1a7"
  },
  {
   "metadata": {
    "ExecuteTime": {
     "end_time": "2025-01-25T19:27:19.723345Z",
     "start_time": "2025-01-25T19:27:10.152617Z"
    }
   },
   "cell_type": "code",
   "source": [
    "job_api_url=\"https://cf-courses-data.s3.us.cloud-object-storage.appdomain.cloud/IBM-DA0321EN-SkillsNetwork/labs/module%201/Accessing%20Data%20Using%20APIs/jobs.json\"\n",
    "response = requests.get(job_api_url)\n",
    "\n",
    "def get_number_of_jobs_T(technology):\n",
    "    number_of_jobs = 0\n",
    "    try:\n",
    "        if response.ok:\n",
    "            job_data = response.json()\n",
    "            number_of_jobs = sum(1 for job in job_data if technology in job.get(\"Key Skills\").lower())\n",
    "        else:\n",
    "            print(f\"There are no jobs for {technology}\")\n",
    "    except Exception as e:\n",
    "        print(e)\n",
    "    return technology, number_of_jobs\n",
    "\n",
    "python = get_number_of_jobs_T('python')\n",
    "print(python)"
   ],
   "id": "b8f0038bca024d92",
   "outputs": [
    {
     "name": "stdout",
     "output_type": "stream",
     "text": [
      "('python', 1173)\n"
     ]
    }
   ],
   "execution_count": 20
  },
  {
   "metadata": {
    "ExecuteTime": {
     "end_time": "2025-01-25T19:27:19.781739Z",
     "start_time": "2025-01-25T19:27:19.724164Z"
    }
   },
   "cell_type": "code",
   "source": [
    "java = get_number_of_jobs_T('java')\n",
    "print(java)"
   ],
   "id": "5463230e494ada13",
   "outputs": [
    {
     "name": "stdout",
     "output_type": "stream",
     "text": [
      "('java', 3428)\n"
     ]
    }
   ],
   "execution_count": 21
  },
  {
   "metadata": {
    "ExecuteTime": {
     "end_time": "2025-01-25T19:35:24.029059Z",
     "start_time": "2025-01-25T19:35:23.908314Z"
    }
   },
   "cell_type": "code",
   "source": [
    "def get_number_of_jobs_L(location):\n",
    "    number_of_jobs_per_location = 0\n",
    "    try:\n",
    "        if response.ok:\n",
    "            job_data = response.json()\n",
    "            number_of_jobs_per_location = sum(1 for job in job_data if job.get('Location') == location)\n",
    "    except Exception as e:\n",
    "        print(e)\n",
    "            \n",
    "    #your coe goes here\n",
    "    return location, number_of_jobs_per_location\n",
    "\n",
    "\n",
    "location1 = get_number_of_jobs_L('San Francisco')\n",
    "location2 = get_number_of_jobs_L('Los Angeles')\n",
    "print(location1)\n",
    "print(location2)"
   ],
   "id": "125b924a6f81dd52",
   "outputs": [
    {
     "name": "stdout",
     "output_type": "stream",
     "text": [
      "('San Francisco', 435)\n",
      "('Los Angeles', 640)\n"
     ]
    }
   ],
   "execution_count": 25
  },
  {
   "metadata": {
    "ExecuteTime": {
     "end_time": "2025-01-25T19:44:37.082829Z",
     "start_time": "2025-01-25T19:44:36.989401Z"
    }
   },
   "cell_type": "code",
   "source": [
    "excel_header = ['Job Title', 'Job Experience Required', 'Key Skills', 'Role Category', 'Location', 'Functional Area', 'Industry', 'Role' ]\n",
    "df = pd.DataFrame(response.json(), columns = excel_header)\n",
    "df.head()"
   ],
   "id": "4951d0fe849252c7",
   "outputs": [
    {
     "data": {
      "text/plain": [
       "                                           Job Title Job Experience Required  \\\n",
       "0                              Digital Media Planner              5 - 10 yrs   \n",
       "1                           Online Bidding Executive               2 - 5 yrs   \n",
       "2  Trainee Research/ Research Executive- Hi- Tech...               0 - 1 yrs   \n",
       "3                                  Technical Support               0 - 5 yrs   \n",
       "4                  Software Test Engineer -hyderabad               2 - 5 yrs   \n",
       "\n",
       "                                          Key Skills  \\\n",
       "0                      Media Planning| Digital Media   \n",
       "1  pre sales| closing| software knowledge| client...   \n",
       "2  Computer science| Fabrication| Quality check| ...   \n",
       "3                                  Technical Support   \n",
       "4  manual testing| test engineering| test cases| ...   \n",
       "\n",
       "                                Role Category       Location  \\\n",
       "0                                 Advertising    Los Angeles   \n",
       "1                                Retail Sales       New York   \n",
       "2                                         R&D  San Francisco   \n",
       "3  Admin/Maintenance/Security/Datawarehousing  Washington DC   \n",
       "4                        Programming & Design         Boston   \n",
       "\n",
       "                                     Functional Area  \\\n",
       "0  Marketing , Advertising , MR , PR , Media Plan...   \n",
       "1              Sales , Retail , Business Development   \n",
       "2                           Engineering Design , R&D   \n",
       "3  IT Software - Application Programming , Mainte...   \n",
       "4                         IT Software - QA & Testing   \n",
       "\n",
       "                                Industry                              Role  \n",
       "0  Advertising, PR, MR, Event Management  Media Planning Executive/Manager  \n",
       "1         IT-Software, Software Services           Sales Executive/Officer  \n",
       "2                  Recruitment, Staffing                     R&D Executive  \n",
       "3         IT-Software, Software Services        Technical Support Engineer  \n",
       "4         IT-Software, Software Services                  Testing Engineer  "
      ],
      "text/html": [
       "<div>\n",
       "<style scoped>\n",
       "    .dataframe tbody tr th:only-of-type {\n",
       "        vertical-align: middle;\n",
       "    }\n",
       "\n",
       "    .dataframe tbody tr th {\n",
       "        vertical-align: top;\n",
       "    }\n",
       "\n",
       "    .dataframe thead th {\n",
       "        text-align: right;\n",
       "    }\n",
       "</style>\n",
       "<table border=\"1\" class=\"dataframe\">\n",
       "  <thead>\n",
       "    <tr style=\"text-align: right;\">\n",
       "      <th></th>\n",
       "      <th>Job Title</th>\n",
       "      <th>Job Experience Required</th>\n",
       "      <th>Key Skills</th>\n",
       "      <th>Role Category</th>\n",
       "      <th>Location</th>\n",
       "      <th>Functional Area</th>\n",
       "      <th>Industry</th>\n",
       "      <th>Role</th>\n",
       "    </tr>\n",
       "  </thead>\n",
       "  <tbody>\n",
       "    <tr>\n",
       "      <th>0</th>\n",
       "      <td>Digital Media Planner</td>\n",
       "      <td>5 - 10 yrs</td>\n",
       "      <td>Media Planning| Digital Media</td>\n",
       "      <td>Advertising</td>\n",
       "      <td>Los Angeles</td>\n",
       "      <td>Marketing , Advertising , MR , PR , Media Plan...</td>\n",
       "      <td>Advertising, PR, MR, Event Management</td>\n",
       "      <td>Media Planning Executive/Manager</td>\n",
       "    </tr>\n",
       "    <tr>\n",
       "      <th>1</th>\n",
       "      <td>Online Bidding Executive</td>\n",
       "      <td>2 - 5 yrs</td>\n",
       "      <td>pre sales| closing| software knowledge| client...</td>\n",
       "      <td>Retail Sales</td>\n",
       "      <td>New York</td>\n",
       "      <td>Sales , Retail , Business Development</td>\n",
       "      <td>IT-Software, Software Services</td>\n",
       "      <td>Sales Executive/Officer</td>\n",
       "    </tr>\n",
       "    <tr>\n",
       "      <th>2</th>\n",
       "      <td>Trainee Research/ Research Executive- Hi- Tech...</td>\n",
       "      <td>0 - 1 yrs</td>\n",
       "      <td>Computer science| Fabrication| Quality check| ...</td>\n",
       "      <td>R&amp;D</td>\n",
       "      <td>San Francisco</td>\n",
       "      <td>Engineering Design , R&amp;D</td>\n",
       "      <td>Recruitment, Staffing</td>\n",
       "      <td>R&amp;D Executive</td>\n",
       "    </tr>\n",
       "    <tr>\n",
       "      <th>3</th>\n",
       "      <td>Technical Support</td>\n",
       "      <td>0 - 5 yrs</td>\n",
       "      <td>Technical Support</td>\n",
       "      <td>Admin/Maintenance/Security/Datawarehousing</td>\n",
       "      <td>Washington DC</td>\n",
       "      <td>IT Software - Application Programming , Mainte...</td>\n",
       "      <td>IT-Software, Software Services</td>\n",
       "      <td>Technical Support Engineer</td>\n",
       "    </tr>\n",
       "    <tr>\n",
       "      <th>4</th>\n",
       "      <td>Software Test Engineer -hyderabad</td>\n",
       "      <td>2 - 5 yrs</td>\n",
       "      <td>manual testing| test engineering| test cases| ...</td>\n",
       "      <td>Programming &amp; Design</td>\n",
       "      <td>Boston</td>\n",
       "      <td>IT Software - QA &amp; Testing</td>\n",
       "      <td>IT-Software, Software Services</td>\n",
       "      <td>Testing Engineer</td>\n",
       "    </tr>\n",
       "  </tbody>\n",
       "</table>\n",
       "</div>"
      ]
     },
     "execution_count": 29,
     "metadata": {},
     "output_type": "execute_result"
    }
   ],
   "execution_count": 29
  },
  {
   "metadata": {
    "ExecuteTime": {
     "end_time": "2025-01-25T19:46:13.622003Z",
     "start_time": "2025-01-25T19:46:11.771511Z"
    }
   },
   "cell_type": "code",
   "source": "df.to_excel(\"job_data.xlsx\", index=False)",
   "id": "323e6fd4a8a8d902",
   "outputs": [],
   "execution_count": 31
  },
  {
   "metadata": {},
   "cell_type": "code",
   "outputs": [],
   "execution_count": null,
   "source": "",
   "id": "2d66763244566259"
  }
 ],
 "metadata": {
  "kernelspec": {
   "display_name": "Python 3",
   "language": "python",
   "name": "python3"
  },
  "language_info": {
   "codemirror_mode": {
    "name": "ipython",
    "version": 2
   },
   "file_extension": ".py",
   "mimetype": "text/x-python",
   "name": "python",
   "nbconvert_exporter": "python",
   "pygments_lexer": "ipython2",
   "version": "2.7.6"
  }
 },
 "nbformat": 4,
 "nbformat_minor": 5
}
