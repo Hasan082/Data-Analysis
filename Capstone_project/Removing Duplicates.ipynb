{
 "cells": [
  {
   "metadata": {},
   "cell_type": "markdown",
   "source": "# Removing Duplicates",
   "id": "ea765087037319db"
  },
  {
   "metadata": {
    "ExecuteTime": {
     "end_time": "2025-01-27T18:57:02.173120Z",
     "start_time": "2025-01-27T18:57:02.169842Z"
    }
   },
   "cell_type": "code",
   "source": "import pandas as pd",
   "id": "fee9ae08cdd6462a",
   "outputs": [],
   "execution_count": 3
  },
  {
   "metadata": {
    "jupyter": {
     "is_executing": true
    },
    "ExecuteTime": {
     "start_time": "2025-01-27T19:40:24.667506Z"
    }
   },
   "cell_type": "code",
   "source": [
    "file_path = \"https://cf-courses-data.s3.us.cloud-object-storage.appdomain.cloud/n01PQ9pSmiRX6520flujwQ/survey-data.csv\"\n",
    "df = pd.read_csv(file_path)\n",
    "df.head(5)"
   ],
   "id": "4d9b4e6ce90e681a",
   "outputs": [],
   "execution_count": null
  },
  {
   "metadata": {
    "ExecuteTime": {
     "end_time": "2025-01-27T19:36:54.436843Z",
     "start_time": "2025-01-27T19:36:54.122707Z"
    }
   },
   "cell_type": "code",
   "source": [
    "duplicates = df[df.duplicated()]\n",
    "len(duplicates)"
   ],
   "id": "8baaeef72e481a6b",
   "outputs": [
    {
     "data": {
      "text/plain": [
       "0"
      ]
     },
     "execution_count": 54,
     "metadata": {},
     "output_type": "execute_result"
    }
   ],
   "execution_count": 54
  },
  {
   "metadata": {
    "ExecuteTime": {
     "end_time": "2025-01-27T19:36:55.935778Z",
     "start_time": "2025-01-27T19:36:55.933136Z"
    }
   },
   "cell_type": "code",
   "source": [
    "if len(duplicates) > 0:\n",
    "    df = df.drop_duplicates()"
   ],
   "id": "dcb4b8694d951674",
   "outputs": [],
   "execution_count": 55
  },
  {
   "metadata": {},
   "cell_type": "markdown",
   "source": "## Identify and Handle Missing Values",
   "id": "b7c197582013f35f"
  },
  {
   "metadata": {
    "ExecuteTime": {
     "end_time": "2025-01-27T19:36:59.445583Z",
     "start_time": "2025-01-27T19:36:59.304369Z"
    }
   },
   "cell_type": "code",
   "source": [
    "missing_values = df.isnull().sum()\n",
    "print(missing_values)"
   ],
   "id": "ba2f7a79d5bbb544",
   "outputs": [
    {
     "name": "stdout",
     "output_type": "stream",
     "text": [
      "ResponseId                 0\n",
      "MainBranch                 0\n",
      "Age                        0\n",
      "Employment                 0\n",
      "RemoteWork             10631\n",
      "                       ...  \n",
      "JobSatPoints_11        35992\n",
      "SurveyLength            9255\n",
      "SurveyEase              9199\n",
      "ConvertedCompYearly    42002\n",
      "JobSat                 36311\n",
      "Length: 114, dtype: int64\n"
     ]
    }
   ],
   "execution_count": 56
  },
  {
   "metadata": {
    "ExecuteTime": {
     "end_time": "2025-01-27T19:37:02.029121Z",
     "start_time": "2025-01-27T19:37:02.024683Z"
    }
   },
   "cell_type": "code",
   "source": [
    "missing_values = missing_values[missing_values > 0]\n",
    "# Display columns with missing values\n",
    "print(missing_values)"
   ],
   "id": "5fc6297cb3ef9ef",
   "outputs": [
    {
     "name": "stdout",
     "output_type": "stream",
     "text": [
      "RemoteWork             10631\n",
      "CodingActivities       10971\n",
      "EdLevel                 4653\n",
      "LearnCode               4949\n",
      "LearnCodeOnline        16200\n",
      "                       ...  \n",
      "JobSatPoints_11        35992\n",
      "SurveyLength            9255\n",
      "SurveyEase              9199\n",
      "ConvertedCompYearly    42002\n",
      "JobSat                 36311\n",
      "Length: 109, dtype: int64\n"
     ]
    }
   ],
   "execution_count": 57
  },
  {
   "metadata": {
    "ExecuteTime": {
     "end_time": "2025-01-27T19:37:05.628009Z",
     "start_time": "2025-01-27T19:37:05.623200Z"
    }
   },
   "cell_type": "code",
   "source": [
    "# Sort and display the top 10 columns with missing values\n",
    "top_10_missing = missing_values.sort_values(ascending=False).head(10)\n",
    "\n",
    "print(\"Top 10 columns with missing values:\")\n",
    "print(top_10_missing)"
   ],
   "id": "af497ee1f0511b46",
   "outputs": [
    {
     "name": "stdout",
     "output_type": "stream",
     "text": [
      "Top 10 columns with missing values:\n",
      "AINextMuch less integrated       64289\n",
      "AINextLess integrated            63082\n",
      "AINextNo change                  52939\n",
      "AINextMuch more integrated       51999\n",
      "EmbeddedAdmired                  48704\n",
      "EmbeddedWantToWorkWith           47837\n",
      "EmbeddedHaveWorkedWith           43223\n",
      "ConvertedCompYearly              42002\n",
      "AIToolNot interested in Using    41023\n",
      "AINextMore integrated            41009\n",
      "dtype: int64\n"
     ]
    }
   ],
   "execution_count": 58
  },
  {
   "metadata": {
    "ExecuteTime": {
     "end_time": "2025-01-27T19:37:10.450550Z",
     "start_time": "2025-01-27T19:37:10.293661Z"
    }
   },
   "cell_type": "code",
   "source": [
    "# Calculate the percentage of missing values\n",
    "missing_percentage = (df.isnull().sum() / len(df)) * 100\n",
    "top_10_missing_percentage = missing_percentage.sort_values(ascending=False).head(10)\n",
    "print(top_10_missing_percentage)"
   ],
   "id": "7f7261fac342065f",
   "outputs": [
    {
     "name": "stdout",
     "output_type": "stream",
     "text": [
      "AINextMuch less integrated       98.245641\n",
      "AINextLess integrated            96.401119\n",
      "AINextNo change                  80.900714\n",
      "AINextMuch more integrated       79.464217\n",
      "EmbeddedAdmired                  74.428840\n",
      "EmbeddedWantToWorkWith           73.103901\n",
      "EmbeddedHaveWorkedWith           66.052845\n",
      "ConvertedCompYearly              64.186928\n",
      "AIToolNot interested in Using    62.690832\n",
      "AINextMore integrated            62.669438\n",
      "dtype: float64\n"
     ]
    }
   ],
   "execution_count": 59
  },
  {
   "metadata": {},
   "cell_type": "markdown",
   "source": "## Choose a column with significant missing values (e.g., EdLevel) and impute with the most frequent value.",
   "id": "ca5330827b2eae81"
  },
  {
   "metadata": {
    "ExecuteTime": {
     "end_time": "2025-01-27T19:37:13.586051Z",
     "start_time": "2025-01-27T19:37:13.579861Z"
    }
   },
   "cell_type": "code",
   "source": [
    "missing_ed_values = df['EdLevel'].isnull().sum()\n",
    "print(missing_ed_values)"
   ],
   "id": "4f3bc4c5690152d9",
   "outputs": [
    {
     "name": "stdout",
     "output_type": "stream",
     "text": [
      "4653\n"
     ]
    }
   ],
   "execution_count": 60
  },
  {
   "metadata": {},
   "cell_type": "markdown",
   "source": "###### Calculate the mode of EdLevel",
   "id": "adf763397b2e3e7b"
  },
  {
   "metadata": {
    "ExecuteTime": {
     "end_time": "2025-01-27T19:37:18.345752Z",
     "start_time": "2025-01-27T19:37:18.339718Z"
    }
   },
   "cell_type": "code",
   "source": [
    "eds_freq_values = df['EdLevel'].mode()[0]\n",
    "print(eds_freq_values)"
   ],
   "id": "ca8f0d1e74697003",
   "outputs": [
    {
     "name": "stdout",
     "output_type": "stream",
     "text": [
      "Bachelor’s degree (B.A., B.S., B.Eng., etc.)\n"
     ]
    }
   ],
   "execution_count": 61
  },
  {
   "metadata": {
    "ExecuteTime": {
     "end_time": "2025-01-27T19:26:31.361356Z",
     "start_time": "2025-01-27T19:26:31.339776Z"
    }
   },
   "cell_type": "code",
   "source": [
    "missing_ed_values1 = df['EdLevel'].isnull().sum()\n",
    "df['EdLevel'].value_counts()"
   ],
   "id": "61a006d8c9579c75",
   "outputs": [
    {
     "data": {
      "text/plain": [
       "EdLevel\n",
       "Bachelor’s degree (B.A., B.S., B.Eng., etc.)                                          29595\n",
       "Master’s degree (M.A., M.S., M.Eng., MBA, etc.)                                       15557\n",
       "Some college/university study without earning a degree                                 7651\n",
       "Secondary school (e.g. American high school, German Realschule or Gymnasium, etc.)     5793\n",
       "Professional degree (JD, MD, Ph.D, Ed.D, etc.)                                         2970\n",
       "Associate degree (A.A., A.S., etc.)                                                    1793\n",
       "Primary/elementary school                                                              1146\n",
       "Something else                                                                          932\n",
       "Name: count, dtype: int64"
      ]
     },
     "execution_count": 40,
     "metadata": {},
     "output_type": "execute_result"
    }
   ],
   "execution_count": 40
  },
  {
   "metadata": {
    "ExecuteTime": {
     "end_time": "2025-01-27T19:38:14.276742Z",
     "start_time": "2025-01-27T19:38:14.265720Z"
    }
   },
   "cell_type": "code",
   "source": [
    "missing_ed_values2 = df['EdLevel'].isnull().sum()\n",
    "print(missing_ed_values2)"
   ],
   "id": "63c2518fca97ccaa",
   "outputs": [
    {
     "name": "stdout",
     "output_type": "stream",
     "text": [
      "0\n"
     ]
    }
   ],
   "execution_count": 64
  },
  {
   "metadata": {},
   "cell_type": "markdown",
   "source": "## Step 6: Normalizing Compensation Data",
   "id": "b2259dbc2ca756e1"
  },
  {
   "metadata": {},
   "cell_type": "markdown",
   "source": [
    "* Task 4: Normalize Compensation Data Using ConvertedCompYearly\n",
    "\n",
    "* Use the ConvertedCompYearly column for compensation analysis as the normalized annual compensation is already provided.\n",
    "Check for missing values in ConvertedCompYearly and handle them if necessary."
   ],
   "id": "8ff004f90a16be12"
  },
  {
   "metadata": {
    "ExecuteTime": {
     "end_time": "2025-01-27T19:38:23.485815Z",
     "start_time": "2025-01-27T19:38:23.481387Z"
    }
   },
   "cell_type": "code",
   "source": [
    "missing_comp = df['ConvertedCompYearly'].isnull().sum()\n",
    "print(missing_comp)"
   ],
   "id": "9bdc09d5fb60eb46",
   "outputs": [
    {
     "name": "stdout",
     "output_type": "stream",
     "text": [
      "42002\n"
     ]
    }
   ],
   "execution_count": 65
  },
  {
   "metadata": {
    "ExecuteTime": {
     "end_time": "2025-01-27T19:40:10.235447Z",
     "start_time": "2025-01-27T19:40:09.958274Z"
    }
   },
   "cell_type": "code",
   "source": [
    "feq_comp = df['ConvertedCompYearly'].mode()[0]\n",
    "print(feq_comp)"
   ],
   "id": "f5653fcfe24026c",
   "outputs": [
    {
     "ename": "KeyError",
     "evalue": "0",
     "output_type": "error",
     "traceback": [
      "\u001B[0;31m---------------------------------------------------------------------------\u001B[0m",
      "\u001B[0;31mValueError\u001B[0m                                Traceback (most recent call last)",
      "File \u001B[0;32m~/miniconda3/lib/python3.12/site-packages/pandas/core/indexes/range.py:413\u001B[0m, in \u001B[0;36mRangeIndex.get_loc\u001B[0;34m(self, key)\u001B[0m\n\u001B[1;32m    412\u001B[0m \u001B[38;5;28;01mtry\u001B[39;00m:\n\u001B[0;32m--> 413\u001B[0m     \u001B[38;5;28;01mreturn\u001B[39;00m \u001B[38;5;28mself\u001B[39m\u001B[38;5;241m.\u001B[39m_range\u001B[38;5;241m.\u001B[39mindex(new_key)\n\u001B[1;32m    414\u001B[0m \u001B[38;5;28;01mexcept\u001B[39;00m \u001B[38;5;167;01mValueError\u001B[39;00m \u001B[38;5;28;01mas\u001B[39;00m err:\n",
      "\u001B[0;31mValueError\u001B[0m: 0 is not in range",
      "\nThe above exception was the direct cause of the following exception:\n",
      "\u001B[0;31mKeyError\u001B[0m                                  Traceback (most recent call last)",
      "Cell \u001B[0;32mIn[71], line 1\u001B[0m\n\u001B[0;32m----> 1\u001B[0m feq_comp \u001B[38;5;241m=\u001B[39m df[\u001B[38;5;124m'\u001B[39m\u001B[38;5;124mConvertedCompYearly\u001B[39m\u001B[38;5;124m'\u001B[39m]\u001B[38;5;241m.\u001B[39mmode()[\u001B[38;5;241m0\u001B[39m]\n\u001B[1;32m      2\u001B[0m \u001B[38;5;28mprint\u001B[39m(feq_comp)\n",
      "File \u001B[0;32m~/miniconda3/lib/python3.12/site-packages/pandas/core/series.py:1121\u001B[0m, in \u001B[0;36mSeries.__getitem__\u001B[0;34m(self, key)\u001B[0m\n\u001B[1;32m   1118\u001B[0m     \u001B[38;5;28;01mreturn\u001B[39;00m \u001B[38;5;28mself\u001B[39m\u001B[38;5;241m.\u001B[39m_values[key]\n\u001B[1;32m   1120\u001B[0m \u001B[38;5;28;01melif\u001B[39;00m key_is_scalar:\n\u001B[0;32m-> 1121\u001B[0m     \u001B[38;5;28;01mreturn\u001B[39;00m \u001B[38;5;28mself\u001B[39m\u001B[38;5;241m.\u001B[39m_get_value(key)\n\u001B[1;32m   1123\u001B[0m \u001B[38;5;66;03m# Convert generator to list before going through hashable part\u001B[39;00m\n\u001B[1;32m   1124\u001B[0m \u001B[38;5;66;03m# (We will iterate through the generator there to check for slices)\u001B[39;00m\n\u001B[1;32m   1125\u001B[0m \u001B[38;5;28;01mif\u001B[39;00m is_iterator(key):\n",
      "File \u001B[0;32m~/miniconda3/lib/python3.12/site-packages/pandas/core/series.py:1237\u001B[0m, in \u001B[0;36mSeries._get_value\u001B[0;34m(self, label, takeable)\u001B[0m\n\u001B[1;32m   1234\u001B[0m     \u001B[38;5;28;01mreturn\u001B[39;00m \u001B[38;5;28mself\u001B[39m\u001B[38;5;241m.\u001B[39m_values[label]\n\u001B[1;32m   1236\u001B[0m \u001B[38;5;66;03m# Similar to Index.get_value, but we do not fall back to positional\u001B[39;00m\n\u001B[0;32m-> 1237\u001B[0m loc \u001B[38;5;241m=\u001B[39m \u001B[38;5;28mself\u001B[39m\u001B[38;5;241m.\u001B[39mindex\u001B[38;5;241m.\u001B[39mget_loc(label)\n\u001B[1;32m   1239\u001B[0m \u001B[38;5;28;01mif\u001B[39;00m is_integer(loc):\n\u001B[1;32m   1240\u001B[0m     \u001B[38;5;28;01mreturn\u001B[39;00m \u001B[38;5;28mself\u001B[39m\u001B[38;5;241m.\u001B[39m_values[loc]\n",
      "File \u001B[0;32m~/miniconda3/lib/python3.12/site-packages/pandas/core/indexes/range.py:415\u001B[0m, in \u001B[0;36mRangeIndex.get_loc\u001B[0;34m(self, key)\u001B[0m\n\u001B[1;32m    413\u001B[0m         \u001B[38;5;28;01mreturn\u001B[39;00m \u001B[38;5;28mself\u001B[39m\u001B[38;5;241m.\u001B[39m_range\u001B[38;5;241m.\u001B[39mindex(new_key)\n\u001B[1;32m    414\u001B[0m     \u001B[38;5;28;01mexcept\u001B[39;00m \u001B[38;5;167;01mValueError\u001B[39;00m \u001B[38;5;28;01mas\u001B[39;00m err:\n\u001B[0;32m--> 415\u001B[0m         \u001B[38;5;28;01mraise\u001B[39;00m \u001B[38;5;167;01mKeyError\u001B[39;00m(key) \u001B[38;5;28;01mfrom\u001B[39;00m \u001B[38;5;21;01merr\u001B[39;00m\n\u001B[1;32m    416\u001B[0m \u001B[38;5;28;01mif\u001B[39;00m \u001B[38;5;28misinstance\u001B[39m(key, Hashable):\n\u001B[1;32m    417\u001B[0m     \u001B[38;5;28;01mraise\u001B[39;00m \u001B[38;5;167;01mKeyError\u001B[39;00m(key)\n",
      "\u001B[0;31mKeyError\u001B[0m: 0"
     ]
    }
   ],
   "execution_count": 71
  },
  {
   "metadata": {
    "ExecuteTime": {
     "end_time": "2025-01-27T19:39:53.962321Z",
     "start_time": "2025-01-27T19:39:53.915585Z"
    }
   },
   "cell_type": "code",
   "source": "df",
   "id": "dee9f621456d7639",
   "outputs": [
    {
     "data": {
      "text/plain": [
       "       ResponseId                      MainBranch                 Age  \\\n",
       "0               1  I am a developer by profession  Under 18 years old   \n",
       "1               2  I am a developer by profession     35-44 years old   \n",
       "2               3  I am a developer by profession     45-54 years old   \n",
       "3               4           I am learning to code     18-24 years old   \n",
       "4               5  I am a developer by profession     18-24 years old   \n",
       "...           ...                             ...                 ...   \n",
       "65432       65433  I am a developer by profession     18-24 years old   \n",
       "65433       65434  I am a developer by profession     25-34 years old   \n",
       "65434       65435  I am a developer by profession     25-34 years old   \n",
       "65435       65436  I am a developer by profession     18-24 years old   \n",
       "65436       65437     I code primarily as a hobby     18-24 years old   \n",
       "\n",
       "                Employment                            RemoteWork   Check  \\\n",
       "0      Employed, full-time                                Remote  Apples   \n",
       "1      Employed, full-time                                Remote  Apples   \n",
       "2      Employed, full-time                                Remote  Apples   \n",
       "3       Student, full-time                                   NaN  Apples   \n",
       "4       Student, full-time                                   NaN  Apples   \n",
       "...                    ...                                   ...     ...   \n",
       "65432  Employed, full-time                                Remote  Apples   \n",
       "65433  Employed, full-time                                Remote  Apples   \n",
       "65434  Employed, full-time                             In-person  Apples   \n",
       "65435  Employed, full-time  Hybrid (some remote, some in-person)  Apples   \n",
       "65436   Student, full-time                                   NaN  Apples   \n",
       "\n",
       "                                        CodingActivities  \\\n",
       "0                                                  Hobby   \n",
       "1      Hobby;Contribute to open-source projects;Other...   \n",
       "2      Hobby;Contribute to open-source projects;Other...   \n",
       "3                                                    NaN   \n",
       "4                                                    NaN   \n",
       "...                                                  ...   \n",
       "65432                      Hobby;School or academic work   \n",
       "65433           Hobby;Contribute to open-source projects   \n",
       "65434                                              Hobby   \n",
       "65435  Hobby;Contribute to open-source projects;Profe...   \n",
       "65436                                                NaN   \n",
       "\n",
       "                                                 EdLevel  \\\n",
       "0                              Primary/elementary school   \n",
       "1           Bachelor’s degree (B.A., B.S., B.Eng., etc.)   \n",
       "2        Master’s degree (M.A., M.S., M.Eng., MBA, etc.)   \n",
       "3      Some college/university study without earning ...   \n",
       "4      Secondary school (e.g. American high school, G...   \n",
       "...                                                  ...   \n",
       "65432       Bachelor’s degree (B.A., B.S., B.Eng., etc.)   \n",
       "65433       Bachelor’s degree (B.A., B.S., B.Eng., etc.)   \n",
       "65434       Bachelor’s degree (B.A., B.S., B.Eng., etc.)   \n",
       "65435  Secondary school (e.g. American high school, G...   \n",
       "65436       Bachelor’s degree (B.A., B.S., B.Eng., etc.)   \n",
       "\n",
       "                                               LearnCode  \\\n",
       "0                                 Books / Physical media   \n",
       "1      Books / Physical media;Colleague;On the job tr...   \n",
       "2      Books / Physical media;Colleague;On the job tr...   \n",
       "3      Other online resources (e.g., videos, blogs, f...   \n",
       "4      Other online resources (e.g., videos, blogs, f...   \n",
       "...                                                  ...   \n",
       "65432  On the job training;School (i.e., University, ...   \n",
       "65433                                                NaN   \n",
       "65434  Other online resources (e.g., videos, blogs, f...   \n",
       "65435  On the job training;Other online resources (e....   \n",
       "65436                                                NaN   \n",
       "\n",
       "                                         LearnCodeOnline  ... JobSatPoints_6  \\\n",
       "0                                                    NaN  ...            NaN   \n",
       "1      Technical documentation;Blogs;Books;Written Tu...  ...            0.0   \n",
       "2      Technical documentation;Blogs;Books;Written Tu...  ...            NaN   \n",
       "3      Stack Overflow;How-to videos;Interactive tutorial  ...            NaN   \n",
       "4      Technical documentation;Blogs;Written Tutorial...  ...            NaN   \n",
       "...                                                  ...  ...            ...   \n",
       "65432                                                NaN  ...            NaN   \n",
       "65433                                                NaN  ...            NaN   \n",
       "65434  Technical documentation;Stack Overflow;Social ...  ...            NaN   \n",
       "65435  Technical documentation;Blogs;Written Tutorial...  ...            0.0   \n",
       "65436                                                NaN  ...            NaN   \n",
       "\n",
       "      JobSatPoints_7 JobSatPoints_8 JobSatPoints_9 JobSatPoints_10  \\\n",
       "0                NaN            NaN            NaN             NaN   \n",
       "1                0.0            0.0            0.0             0.0   \n",
       "2                NaN            NaN            NaN             NaN   \n",
       "3                NaN            NaN            NaN             NaN   \n",
       "4                NaN            NaN            NaN             NaN   \n",
       "...              ...            ...            ...             ...   \n",
       "65432            NaN            NaN            NaN             NaN   \n",
       "65433            NaN            NaN            NaN             NaN   \n",
       "65434            NaN            NaN            NaN             NaN   \n",
       "65435            0.0            0.0            0.0             0.0   \n",
       "65436            NaN            NaN            NaN             NaN   \n",
       "\n",
       "      JobSatPoints_11           SurveyLength SurveyEase ConvertedCompYearly  \\\n",
       "0                 NaN                    NaN        NaN                None   \n",
       "1                 0.0                    NaN        NaN                None   \n",
       "2                 NaN  Appropriate in length       Easy                None   \n",
       "3                 NaN               Too long       Easy                None   \n",
       "4                 NaN              Too short       Easy                None   \n",
       "...               ...                    ...        ...                 ...   \n",
       "65432             NaN                    NaN        NaN                None   \n",
       "65433             NaN                    NaN        NaN                None   \n",
       "65434             NaN                    NaN        NaN                None   \n",
       "65435             0.0                    NaN        NaN                None   \n",
       "65436             NaN                    NaN        NaN                None   \n",
       "\n",
       "      JobSat  \n",
       "0        NaN  \n",
       "1        NaN  \n",
       "2        NaN  \n",
       "3        NaN  \n",
       "4        NaN  \n",
       "...      ...  \n",
       "65432    NaN  \n",
       "65433    NaN  \n",
       "65434    NaN  \n",
       "65435    NaN  \n",
       "65436    NaN  \n",
       "\n",
       "[65437 rows x 114 columns]"
      ],
      "text/html": [
       "<div>\n",
       "<style scoped>\n",
       "    .dataframe tbody tr th:only-of-type {\n",
       "        vertical-align: middle;\n",
       "    }\n",
       "\n",
       "    .dataframe tbody tr th {\n",
       "        vertical-align: top;\n",
       "    }\n",
       "\n",
       "    .dataframe thead th {\n",
       "        text-align: right;\n",
       "    }\n",
       "</style>\n",
       "<table border=\"1\" class=\"dataframe\">\n",
       "  <thead>\n",
       "    <tr style=\"text-align: right;\">\n",
       "      <th></th>\n",
       "      <th>ResponseId</th>\n",
       "      <th>MainBranch</th>\n",
       "      <th>Age</th>\n",
       "      <th>Employment</th>\n",
       "      <th>RemoteWork</th>\n",
       "      <th>Check</th>\n",
       "      <th>CodingActivities</th>\n",
       "      <th>EdLevel</th>\n",
       "      <th>LearnCode</th>\n",
       "      <th>LearnCodeOnline</th>\n",
       "      <th>...</th>\n",
       "      <th>JobSatPoints_6</th>\n",
       "      <th>JobSatPoints_7</th>\n",
       "      <th>JobSatPoints_8</th>\n",
       "      <th>JobSatPoints_9</th>\n",
       "      <th>JobSatPoints_10</th>\n",
       "      <th>JobSatPoints_11</th>\n",
       "      <th>SurveyLength</th>\n",
       "      <th>SurveyEase</th>\n",
       "      <th>ConvertedCompYearly</th>\n",
       "      <th>JobSat</th>\n",
       "    </tr>\n",
       "  </thead>\n",
       "  <tbody>\n",
       "    <tr>\n",
       "      <th>0</th>\n",
       "      <td>1</td>\n",
       "      <td>I am a developer by profession</td>\n",
       "      <td>Under 18 years old</td>\n",
       "      <td>Employed, full-time</td>\n",
       "      <td>Remote</td>\n",
       "      <td>Apples</td>\n",
       "      <td>Hobby</td>\n",
       "      <td>Primary/elementary school</td>\n",
       "      <td>Books / Physical media</td>\n",
       "      <td>NaN</td>\n",
       "      <td>...</td>\n",
       "      <td>NaN</td>\n",
       "      <td>NaN</td>\n",
       "      <td>NaN</td>\n",
       "      <td>NaN</td>\n",
       "      <td>NaN</td>\n",
       "      <td>NaN</td>\n",
       "      <td>NaN</td>\n",
       "      <td>NaN</td>\n",
       "      <td>None</td>\n",
       "      <td>NaN</td>\n",
       "    </tr>\n",
       "    <tr>\n",
       "      <th>1</th>\n",
       "      <td>2</td>\n",
       "      <td>I am a developer by profession</td>\n",
       "      <td>35-44 years old</td>\n",
       "      <td>Employed, full-time</td>\n",
       "      <td>Remote</td>\n",
       "      <td>Apples</td>\n",
       "      <td>Hobby;Contribute to open-source projects;Other...</td>\n",
       "      <td>Bachelor’s degree (B.A., B.S., B.Eng., etc.)</td>\n",
       "      <td>Books / Physical media;Colleague;On the job tr...</td>\n",
       "      <td>Technical documentation;Blogs;Books;Written Tu...</td>\n",
       "      <td>...</td>\n",
       "      <td>0.0</td>\n",
       "      <td>0.0</td>\n",
       "      <td>0.0</td>\n",
       "      <td>0.0</td>\n",
       "      <td>0.0</td>\n",
       "      <td>0.0</td>\n",
       "      <td>NaN</td>\n",
       "      <td>NaN</td>\n",
       "      <td>None</td>\n",
       "      <td>NaN</td>\n",
       "    </tr>\n",
       "    <tr>\n",
       "      <th>2</th>\n",
       "      <td>3</td>\n",
       "      <td>I am a developer by profession</td>\n",
       "      <td>45-54 years old</td>\n",
       "      <td>Employed, full-time</td>\n",
       "      <td>Remote</td>\n",
       "      <td>Apples</td>\n",
       "      <td>Hobby;Contribute to open-source projects;Other...</td>\n",
       "      <td>Master’s degree (M.A., M.S., M.Eng., MBA, etc.)</td>\n",
       "      <td>Books / Physical media;Colleague;On the job tr...</td>\n",
       "      <td>Technical documentation;Blogs;Books;Written Tu...</td>\n",
       "      <td>...</td>\n",
       "      <td>NaN</td>\n",
       "      <td>NaN</td>\n",
       "      <td>NaN</td>\n",
       "      <td>NaN</td>\n",
       "      <td>NaN</td>\n",
       "      <td>NaN</td>\n",
       "      <td>Appropriate in length</td>\n",
       "      <td>Easy</td>\n",
       "      <td>None</td>\n",
       "      <td>NaN</td>\n",
       "    </tr>\n",
       "    <tr>\n",
       "      <th>3</th>\n",
       "      <td>4</td>\n",
       "      <td>I am learning to code</td>\n",
       "      <td>18-24 years old</td>\n",
       "      <td>Student, full-time</td>\n",
       "      <td>NaN</td>\n",
       "      <td>Apples</td>\n",
       "      <td>NaN</td>\n",
       "      <td>Some college/university study without earning ...</td>\n",
       "      <td>Other online resources (e.g., videos, blogs, f...</td>\n",
       "      <td>Stack Overflow;How-to videos;Interactive tutorial</td>\n",
       "      <td>...</td>\n",
       "      <td>NaN</td>\n",
       "      <td>NaN</td>\n",
       "      <td>NaN</td>\n",
       "      <td>NaN</td>\n",
       "      <td>NaN</td>\n",
       "      <td>NaN</td>\n",
       "      <td>Too long</td>\n",
       "      <td>Easy</td>\n",
       "      <td>None</td>\n",
       "      <td>NaN</td>\n",
       "    </tr>\n",
       "    <tr>\n",
       "      <th>4</th>\n",
       "      <td>5</td>\n",
       "      <td>I am a developer by profession</td>\n",
       "      <td>18-24 years old</td>\n",
       "      <td>Student, full-time</td>\n",
       "      <td>NaN</td>\n",
       "      <td>Apples</td>\n",
       "      <td>NaN</td>\n",
       "      <td>Secondary school (e.g. American high school, G...</td>\n",
       "      <td>Other online resources (e.g., videos, blogs, f...</td>\n",
       "      <td>Technical documentation;Blogs;Written Tutorial...</td>\n",
       "      <td>...</td>\n",
       "      <td>NaN</td>\n",
       "      <td>NaN</td>\n",
       "      <td>NaN</td>\n",
       "      <td>NaN</td>\n",
       "      <td>NaN</td>\n",
       "      <td>NaN</td>\n",
       "      <td>Too short</td>\n",
       "      <td>Easy</td>\n",
       "      <td>None</td>\n",
       "      <td>NaN</td>\n",
       "    </tr>\n",
       "    <tr>\n",
       "      <th>...</th>\n",
       "      <td>...</td>\n",
       "      <td>...</td>\n",
       "      <td>...</td>\n",
       "      <td>...</td>\n",
       "      <td>...</td>\n",
       "      <td>...</td>\n",
       "      <td>...</td>\n",
       "      <td>...</td>\n",
       "      <td>...</td>\n",
       "      <td>...</td>\n",
       "      <td>...</td>\n",
       "      <td>...</td>\n",
       "      <td>...</td>\n",
       "      <td>...</td>\n",
       "      <td>...</td>\n",
       "      <td>...</td>\n",
       "      <td>...</td>\n",
       "      <td>...</td>\n",
       "      <td>...</td>\n",
       "      <td>...</td>\n",
       "      <td>...</td>\n",
       "    </tr>\n",
       "    <tr>\n",
       "      <th>65432</th>\n",
       "      <td>65433</td>\n",
       "      <td>I am a developer by profession</td>\n",
       "      <td>18-24 years old</td>\n",
       "      <td>Employed, full-time</td>\n",
       "      <td>Remote</td>\n",
       "      <td>Apples</td>\n",
       "      <td>Hobby;School or academic work</td>\n",
       "      <td>Bachelor’s degree (B.A., B.S., B.Eng., etc.)</td>\n",
       "      <td>On the job training;School (i.e., University, ...</td>\n",
       "      <td>NaN</td>\n",
       "      <td>...</td>\n",
       "      <td>NaN</td>\n",
       "      <td>NaN</td>\n",
       "      <td>NaN</td>\n",
       "      <td>NaN</td>\n",
       "      <td>NaN</td>\n",
       "      <td>NaN</td>\n",
       "      <td>NaN</td>\n",
       "      <td>NaN</td>\n",
       "      <td>None</td>\n",
       "      <td>NaN</td>\n",
       "    </tr>\n",
       "    <tr>\n",
       "      <th>65433</th>\n",
       "      <td>65434</td>\n",
       "      <td>I am a developer by profession</td>\n",
       "      <td>25-34 years old</td>\n",
       "      <td>Employed, full-time</td>\n",
       "      <td>Remote</td>\n",
       "      <td>Apples</td>\n",
       "      <td>Hobby;Contribute to open-source projects</td>\n",
       "      <td>Bachelor’s degree (B.A., B.S., B.Eng., etc.)</td>\n",
       "      <td>NaN</td>\n",
       "      <td>NaN</td>\n",
       "      <td>...</td>\n",
       "      <td>NaN</td>\n",
       "      <td>NaN</td>\n",
       "      <td>NaN</td>\n",
       "      <td>NaN</td>\n",
       "      <td>NaN</td>\n",
       "      <td>NaN</td>\n",
       "      <td>NaN</td>\n",
       "      <td>NaN</td>\n",
       "      <td>None</td>\n",
       "      <td>NaN</td>\n",
       "    </tr>\n",
       "    <tr>\n",
       "      <th>65434</th>\n",
       "      <td>65435</td>\n",
       "      <td>I am a developer by profession</td>\n",
       "      <td>25-34 years old</td>\n",
       "      <td>Employed, full-time</td>\n",
       "      <td>In-person</td>\n",
       "      <td>Apples</td>\n",
       "      <td>Hobby</td>\n",
       "      <td>Bachelor’s degree (B.A., B.S., B.Eng., etc.)</td>\n",
       "      <td>Other online resources (e.g., videos, blogs, f...</td>\n",
       "      <td>Technical documentation;Stack Overflow;Social ...</td>\n",
       "      <td>...</td>\n",
       "      <td>NaN</td>\n",
       "      <td>NaN</td>\n",
       "      <td>NaN</td>\n",
       "      <td>NaN</td>\n",
       "      <td>NaN</td>\n",
       "      <td>NaN</td>\n",
       "      <td>NaN</td>\n",
       "      <td>NaN</td>\n",
       "      <td>None</td>\n",
       "      <td>NaN</td>\n",
       "    </tr>\n",
       "    <tr>\n",
       "      <th>65435</th>\n",
       "      <td>65436</td>\n",
       "      <td>I am a developer by profession</td>\n",
       "      <td>18-24 years old</td>\n",
       "      <td>Employed, full-time</td>\n",
       "      <td>Hybrid (some remote, some in-person)</td>\n",
       "      <td>Apples</td>\n",
       "      <td>Hobby;Contribute to open-source projects;Profe...</td>\n",
       "      <td>Secondary school (e.g. American high school, G...</td>\n",
       "      <td>On the job training;Other online resources (e....</td>\n",
       "      <td>Technical documentation;Blogs;Written Tutorial...</td>\n",
       "      <td>...</td>\n",
       "      <td>0.0</td>\n",
       "      <td>0.0</td>\n",
       "      <td>0.0</td>\n",
       "      <td>0.0</td>\n",
       "      <td>0.0</td>\n",
       "      <td>0.0</td>\n",
       "      <td>NaN</td>\n",
       "      <td>NaN</td>\n",
       "      <td>None</td>\n",
       "      <td>NaN</td>\n",
       "    </tr>\n",
       "    <tr>\n",
       "      <th>65436</th>\n",
       "      <td>65437</td>\n",
       "      <td>I code primarily as a hobby</td>\n",
       "      <td>18-24 years old</td>\n",
       "      <td>Student, full-time</td>\n",
       "      <td>NaN</td>\n",
       "      <td>Apples</td>\n",
       "      <td>NaN</td>\n",
       "      <td>Bachelor’s degree (B.A., B.S., B.Eng., etc.)</td>\n",
       "      <td>NaN</td>\n",
       "      <td>NaN</td>\n",
       "      <td>...</td>\n",
       "      <td>NaN</td>\n",
       "      <td>NaN</td>\n",
       "      <td>NaN</td>\n",
       "      <td>NaN</td>\n",
       "      <td>NaN</td>\n",
       "      <td>NaN</td>\n",
       "      <td>NaN</td>\n",
       "      <td>NaN</td>\n",
       "      <td>None</td>\n",
       "      <td>NaN</td>\n",
       "    </tr>\n",
       "  </tbody>\n",
       "</table>\n",
       "<p>65437 rows × 114 columns</p>\n",
       "</div>"
      ]
     },
     "execution_count": 70,
     "metadata": {},
     "output_type": "execute_result"
    }
   ],
   "execution_count": 70
  },
  {
   "metadata": {},
   "cell_type": "code",
   "outputs": [],
   "execution_count": null,
   "source": "",
   "id": "e99de338ded12d2c"
  }
 ],
 "metadata": {
  "kernelspec": {
   "display_name": "Python 3",
   "language": "python",
   "name": "python3"
  },
  "language_info": {
   "codemirror_mode": {
    "name": "ipython",
    "version": 2
   },
   "file_extension": ".py",
   "mimetype": "text/x-python",
   "name": "python",
   "nbconvert_exporter": "python",
   "pygments_lexer": "ipython2",
   "version": "2.7.6"
  }
 },
 "nbformat": 4,
 "nbformat_minor": 5
}
