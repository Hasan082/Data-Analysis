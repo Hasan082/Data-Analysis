{
 "cells": [
  {
   "metadata": {},
   "cell_type": "markdown",
   "source": "# Removing Duplicates",
   "id": "ea765087037319db"
  },
  {
   "metadata": {
    "ExecuteTime": {
     "end_time": "2025-01-27T18:57:02.173120Z",
     "start_time": "2025-01-27T18:57:02.169842Z"
    }
   },
   "cell_type": "code",
   "source": "import pandas as pd",
   "id": "fee9ae08cdd6462a",
   "outputs": [],
   "execution_count": 3
  },
  {
   "metadata": {
    "ExecuteTime": {
     "end_time": "2025-01-27T19:41:32.332031Z",
     "start_time": "2025-01-27T19:40:24.667506Z"
    }
   },
   "cell_type": "code",
   "source": [
    "file_path = \"https://cf-courses-data.s3.us.cloud-object-storage.appdomain.cloud/n01PQ9pSmiRX6520flujwQ/survey-data.csv\"\n",
    "df = pd.read_csv(file_path)\n",
    "df.head(5)"
   ],
   "id": "4d9b4e6ce90e681a",
   "outputs": [
    {
     "data": {
      "text/plain": [
       "   ResponseId                      MainBranch                 Age  \\\n",
       "0           1  I am a developer by profession  Under 18 years old   \n",
       "1           2  I am a developer by profession     35-44 years old   \n",
       "2           3  I am a developer by profession     45-54 years old   \n",
       "3           4           I am learning to code     18-24 years old   \n",
       "4           5  I am a developer by profession     18-24 years old   \n",
       "\n",
       "            Employment RemoteWork   Check  \\\n",
       "0  Employed, full-time     Remote  Apples   \n",
       "1  Employed, full-time     Remote  Apples   \n",
       "2  Employed, full-time     Remote  Apples   \n",
       "3   Student, full-time        NaN  Apples   \n",
       "4   Student, full-time        NaN  Apples   \n",
       "\n",
       "                                    CodingActivities  \\\n",
       "0                                              Hobby   \n",
       "1  Hobby;Contribute to open-source projects;Other...   \n",
       "2  Hobby;Contribute to open-source projects;Other...   \n",
       "3                                                NaN   \n",
       "4                                                NaN   \n",
       "\n",
       "                                             EdLevel  \\\n",
       "0                          Primary/elementary school   \n",
       "1       Bachelor’s degree (B.A., B.S., B.Eng., etc.)   \n",
       "2    Master’s degree (M.A., M.S., M.Eng., MBA, etc.)   \n",
       "3  Some college/university study without earning ...   \n",
       "4  Secondary school (e.g. American high school, G...   \n",
       "\n",
       "                                           LearnCode  \\\n",
       "0                             Books / Physical media   \n",
       "1  Books / Physical media;Colleague;On the job tr...   \n",
       "2  Books / Physical media;Colleague;On the job tr...   \n",
       "3  Other online resources (e.g., videos, blogs, f...   \n",
       "4  Other online resources (e.g., videos, blogs, f...   \n",
       "\n",
       "                                     LearnCodeOnline  ... JobSatPoints_6  \\\n",
       "0                                                NaN  ...            NaN   \n",
       "1  Technical documentation;Blogs;Books;Written Tu...  ...            0.0   \n",
       "2  Technical documentation;Blogs;Books;Written Tu...  ...            NaN   \n",
       "3  Stack Overflow;How-to videos;Interactive tutorial  ...            NaN   \n",
       "4  Technical documentation;Blogs;Written Tutorial...  ...            NaN   \n",
       "\n",
       "  JobSatPoints_7 JobSatPoints_8 JobSatPoints_9 JobSatPoints_10  \\\n",
       "0            NaN            NaN            NaN             NaN   \n",
       "1            0.0            0.0            0.0             0.0   \n",
       "2            NaN            NaN            NaN             NaN   \n",
       "3            NaN            NaN            NaN             NaN   \n",
       "4            NaN            NaN            NaN             NaN   \n",
       "\n",
       "  JobSatPoints_11           SurveyLength SurveyEase ConvertedCompYearly JobSat  \n",
       "0             NaN                    NaN        NaN                 NaN    NaN  \n",
       "1             0.0                    NaN        NaN                 NaN    NaN  \n",
       "2             NaN  Appropriate in length       Easy                 NaN    NaN  \n",
       "3             NaN               Too long       Easy                 NaN    NaN  \n",
       "4             NaN              Too short       Easy                 NaN    NaN  \n",
       "\n",
       "[5 rows x 114 columns]"
      ],
      "text/html": [
       "<div>\n",
       "<style scoped>\n",
       "    .dataframe tbody tr th:only-of-type {\n",
       "        vertical-align: middle;\n",
       "    }\n",
       "\n",
       "    .dataframe tbody tr th {\n",
       "        vertical-align: top;\n",
       "    }\n",
       "\n",
       "    .dataframe thead th {\n",
       "        text-align: right;\n",
       "    }\n",
       "</style>\n",
       "<table border=\"1\" class=\"dataframe\">\n",
       "  <thead>\n",
       "    <tr style=\"text-align: right;\">\n",
       "      <th></th>\n",
       "      <th>ResponseId</th>\n",
       "      <th>MainBranch</th>\n",
       "      <th>Age</th>\n",
       "      <th>Employment</th>\n",
       "      <th>RemoteWork</th>\n",
       "      <th>Check</th>\n",
       "      <th>CodingActivities</th>\n",
       "      <th>EdLevel</th>\n",
       "      <th>LearnCode</th>\n",
       "      <th>LearnCodeOnline</th>\n",
       "      <th>...</th>\n",
       "      <th>JobSatPoints_6</th>\n",
       "      <th>JobSatPoints_7</th>\n",
       "      <th>JobSatPoints_8</th>\n",
       "      <th>JobSatPoints_9</th>\n",
       "      <th>JobSatPoints_10</th>\n",
       "      <th>JobSatPoints_11</th>\n",
       "      <th>SurveyLength</th>\n",
       "      <th>SurveyEase</th>\n",
       "      <th>ConvertedCompYearly</th>\n",
       "      <th>JobSat</th>\n",
       "    </tr>\n",
       "  </thead>\n",
       "  <tbody>\n",
       "    <tr>\n",
       "      <th>0</th>\n",
       "      <td>1</td>\n",
       "      <td>I am a developer by profession</td>\n",
       "      <td>Under 18 years old</td>\n",
       "      <td>Employed, full-time</td>\n",
       "      <td>Remote</td>\n",
       "      <td>Apples</td>\n",
       "      <td>Hobby</td>\n",
       "      <td>Primary/elementary school</td>\n",
       "      <td>Books / Physical media</td>\n",
       "      <td>NaN</td>\n",
       "      <td>...</td>\n",
       "      <td>NaN</td>\n",
       "      <td>NaN</td>\n",
       "      <td>NaN</td>\n",
       "      <td>NaN</td>\n",
       "      <td>NaN</td>\n",
       "      <td>NaN</td>\n",
       "      <td>NaN</td>\n",
       "      <td>NaN</td>\n",
       "      <td>NaN</td>\n",
       "      <td>NaN</td>\n",
       "    </tr>\n",
       "    <tr>\n",
       "      <th>1</th>\n",
       "      <td>2</td>\n",
       "      <td>I am a developer by profession</td>\n",
       "      <td>35-44 years old</td>\n",
       "      <td>Employed, full-time</td>\n",
       "      <td>Remote</td>\n",
       "      <td>Apples</td>\n",
       "      <td>Hobby;Contribute to open-source projects;Other...</td>\n",
       "      <td>Bachelor’s degree (B.A., B.S., B.Eng., etc.)</td>\n",
       "      <td>Books / Physical media;Colleague;On the job tr...</td>\n",
       "      <td>Technical documentation;Blogs;Books;Written Tu...</td>\n",
       "      <td>...</td>\n",
       "      <td>0.0</td>\n",
       "      <td>0.0</td>\n",
       "      <td>0.0</td>\n",
       "      <td>0.0</td>\n",
       "      <td>0.0</td>\n",
       "      <td>0.0</td>\n",
       "      <td>NaN</td>\n",
       "      <td>NaN</td>\n",
       "      <td>NaN</td>\n",
       "      <td>NaN</td>\n",
       "    </tr>\n",
       "    <tr>\n",
       "      <th>2</th>\n",
       "      <td>3</td>\n",
       "      <td>I am a developer by profession</td>\n",
       "      <td>45-54 years old</td>\n",
       "      <td>Employed, full-time</td>\n",
       "      <td>Remote</td>\n",
       "      <td>Apples</td>\n",
       "      <td>Hobby;Contribute to open-source projects;Other...</td>\n",
       "      <td>Master’s degree (M.A., M.S., M.Eng., MBA, etc.)</td>\n",
       "      <td>Books / Physical media;Colleague;On the job tr...</td>\n",
       "      <td>Technical documentation;Blogs;Books;Written Tu...</td>\n",
       "      <td>...</td>\n",
       "      <td>NaN</td>\n",
       "      <td>NaN</td>\n",
       "      <td>NaN</td>\n",
       "      <td>NaN</td>\n",
       "      <td>NaN</td>\n",
       "      <td>NaN</td>\n",
       "      <td>Appropriate in length</td>\n",
       "      <td>Easy</td>\n",
       "      <td>NaN</td>\n",
       "      <td>NaN</td>\n",
       "    </tr>\n",
       "    <tr>\n",
       "      <th>3</th>\n",
       "      <td>4</td>\n",
       "      <td>I am learning to code</td>\n",
       "      <td>18-24 years old</td>\n",
       "      <td>Student, full-time</td>\n",
       "      <td>NaN</td>\n",
       "      <td>Apples</td>\n",
       "      <td>NaN</td>\n",
       "      <td>Some college/university study without earning ...</td>\n",
       "      <td>Other online resources (e.g., videos, blogs, f...</td>\n",
       "      <td>Stack Overflow;How-to videos;Interactive tutorial</td>\n",
       "      <td>...</td>\n",
       "      <td>NaN</td>\n",
       "      <td>NaN</td>\n",
       "      <td>NaN</td>\n",
       "      <td>NaN</td>\n",
       "      <td>NaN</td>\n",
       "      <td>NaN</td>\n",
       "      <td>Too long</td>\n",
       "      <td>Easy</td>\n",
       "      <td>NaN</td>\n",
       "      <td>NaN</td>\n",
       "    </tr>\n",
       "    <tr>\n",
       "      <th>4</th>\n",
       "      <td>5</td>\n",
       "      <td>I am a developer by profession</td>\n",
       "      <td>18-24 years old</td>\n",
       "      <td>Student, full-time</td>\n",
       "      <td>NaN</td>\n",
       "      <td>Apples</td>\n",
       "      <td>NaN</td>\n",
       "      <td>Secondary school (e.g. American high school, G...</td>\n",
       "      <td>Other online resources (e.g., videos, blogs, f...</td>\n",
       "      <td>Technical documentation;Blogs;Written Tutorial...</td>\n",
       "      <td>...</td>\n",
       "      <td>NaN</td>\n",
       "      <td>NaN</td>\n",
       "      <td>NaN</td>\n",
       "      <td>NaN</td>\n",
       "      <td>NaN</td>\n",
       "      <td>NaN</td>\n",
       "      <td>Too short</td>\n",
       "      <td>Easy</td>\n",
       "      <td>NaN</td>\n",
       "      <td>NaN</td>\n",
       "    </tr>\n",
       "  </tbody>\n",
       "</table>\n",
       "<p>5 rows × 114 columns</p>\n",
       "</div>"
      ]
     },
     "execution_count": 72,
     "metadata": {},
     "output_type": "execute_result"
    }
   ],
   "execution_count": 72
  },
  {
   "metadata": {
    "ExecuteTime": {
     "end_time": "2025-01-27T19:36:54.436843Z",
     "start_time": "2025-01-27T19:36:54.122707Z"
    }
   },
   "cell_type": "code",
   "source": [
    "duplicates = df[df.duplicated()]\n",
    "len(duplicates)"
   ],
   "id": "8baaeef72e481a6b",
   "outputs": [
    {
     "data": {
      "text/plain": [
       "0"
      ]
     },
     "execution_count": 54,
     "metadata": {},
     "output_type": "execute_result"
    }
   ],
   "execution_count": 54
  },
  {
   "metadata": {
    "ExecuteTime": {
     "end_time": "2025-01-27T19:36:55.935778Z",
     "start_time": "2025-01-27T19:36:55.933136Z"
    }
   },
   "cell_type": "code",
   "source": [
    "if len(duplicates) > 0:\n",
    "    df = df.drop_duplicates()"
   ],
   "id": "dcb4b8694d951674",
   "outputs": [],
   "execution_count": 55
  },
  {
   "metadata": {},
   "cell_type": "markdown",
   "source": "## Identify and Handle Missing Values",
   "id": "b7c197582013f35f"
  },
  {
   "metadata": {
    "ExecuteTime": {
     "end_time": "2025-01-27T19:36:59.445583Z",
     "start_time": "2025-01-27T19:36:59.304369Z"
    }
   },
   "cell_type": "code",
   "source": [
    "missing_values = df.isnull().sum()\n",
    "print(missing_values)"
   ],
   "id": "ba2f7a79d5bbb544",
   "outputs": [
    {
     "name": "stdout",
     "output_type": "stream",
     "text": [
      "ResponseId                 0\n",
      "MainBranch                 0\n",
      "Age                        0\n",
      "Employment                 0\n",
      "RemoteWork             10631\n",
      "                       ...  \n",
      "JobSatPoints_11        35992\n",
      "SurveyLength            9255\n",
      "SurveyEase              9199\n",
      "ConvertedCompYearly    42002\n",
      "JobSat                 36311\n",
      "Length: 114, dtype: int64\n"
     ]
    }
   ],
   "execution_count": 56
  },
  {
   "metadata": {
    "ExecuteTime": {
     "end_time": "2025-01-27T19:37:02.029121Z",
     "start_time": "2025-01-27T19:37:02.024683Z"
    }
   },
   "cell_type": "code",
   "source": [
    "missing_values = missing_values[missing_values > 0]\n",
    "# Display columns with missing values\n",
    "print(missing_values)"
   ],
   "id": "5fc6297cb3ef9ef",
   "outputs": [
    {
     "name": "stdout",
     "output_type": "stream",
     "text": [
      "RemoteWork             10631\n",
      "CodingActivities       10971\n",
      "EdLevel                 4653\n",
      "LearnCode               4949\n",
      "LearnCodeOnline        16200\n",
      "                       ...  \n",
      "JobSatPoints_11        35992\n",
      "SurveyLength            9255\n",
      "SurveyEase              9199\n",
      "ConvertedCompYearly    42002\n",
      "JobSat                 36311\n",
      "Length: 109, dtype: int64\n"
     ]
    }
   ],
   "execution_count": 57
  },
  {
   "metadata": {
    "ExecuteTime": {
     "end_time": "2025-01-27T19:37:05.628009Z",
     "start_time": "2025-01-27T19:37:05.623200Z"
    }
   },
   "cell_type": "code",
   "source": [
    "# Sort and display the top 10 columns with missing values\n",
    "top_10_missing = missing_values.sort_values(ascending=False).head(10)\n",
    "\n",
    "print(\"Top 10 columns with missing values:\")\n",
    "print(top_10_missing)"
   ],
   "id": "af497ee1f0511b46",
   "outputs": [
    {
     "name": "stdout",
     "output_type": "stream",
     "text": [
      "Top 10 columns with missing values:\n",
      "AINextMuch less integrated       64289\n",
      "AINextLess integrated            63082\n",
      "AINextNo change                  52939\n",
      "AINextMuch more integrated       51999\n",
      "EmbeddedAdmired                  48704\n",
      "EmbeddedWantToWorkWith           47837\n",
      "EmbeddedHaveWorkedWith           43223\n",
      "ConvertedCompYearly              42002\n",
      "AIToolNot interested in Using    41023\n",
      "AINextMore integrated            41009\n",
      "dtype: int64\n"
     ]
    }
   ],
   "execution_count": 58
  },
  {
   "metadata": {
    "ExecuteTime": {
     "end_time": "2025-01-27T19:37:10.450550Z",
     "start_time": "2025-01-27T19:37:10.293661Z"
    }
   },
   "cell_type": "code",
   "source": [
    "# Calculate the percentage of missing values\n",
    "missing_percentage = (df.isnull().sum() / len(df)) * 100\n",
    "top_10_missing_percentage = missing_percentage.sort_values(ascending=False).head(10)\n",
    "print(top_10_missing_percentage)"
   ],
   "id": "7f7261fac342065f",
   "outputs": [
    {
     "name": "stdout",
     "output_type": "stream",
     "text": [
      "AINextMuch less integrated       98.245641\n",
      "AINextLess integrated            96.401119\n",
      "AINextNo change                  80.900714\n",
      "AINextMuch more integrated       79.464217\n",
      "EmbeddedAdmired                  74.428840\n",
      "EmbeddedWantToWorkWith           73.103901\n",
      "EmbeddedHaveWorkedWith           66.052845\n",
      "ConvertedCompYearly              64.186928\n",
      "AIToolNot interested in Using    62.690832\n",
      "AINextMore integrated            62.669438\n",
      "dtype: float64\n"
     ]
    }
   ],
   "execution_count": 59
  },
  {
   "metadata": {},
   "cell_type": "markdown",
   "source": "## Choose a column with significant missing values (e.g., EdLevel) and impute with the most frequent value.",
   "id": "ca5330827b2eae81"
  },
  {
   "metadata": {
    "ExecuteTime": {
     "end_time": "2025-01-27T19:37:13.586051Z",
     "start_time": "2025-01-27T19:37:13.579861Z"
    }
   },
   "cell_type": "code",
   "source": [
    "missing_ed_values = df['EdLevel'].isnull().sum()\n",
    "print(missing_ed_values)"
   ],
   "id": "4f3bc4c5690152d9",
   "outputs": [
    {
     "name": "stdout",
     "output_type": "stream",
     "text": [
      "4653\n"
     ]
    }
   ],
   "execution_count": 60
  },
  {
   "metadata": {},
   "cell_type": "markdown",
   "source": "###### Calculate the mode of EdLevel",
   "id": "adf763397b2e3e7b"
  },
  {
   "metadata": {
    "ExecuteTime": {
     "end_time": "2025-01-27T19:41:45.773090Z",
     "start_time": "2025-01-27T19:41:45.754919Z"
    }
   },
   "cell_type": "code",
   "source": [
    "eds_freq_values = df['EdLevel'].mode()[0]\n",
    "print(eds_freq_values)"
   ],
   "id": "ca8f0d1e74697003",
   "outputs": [
    {
     "name": "stdout",
     "output_type": "stream",
     "text": [
      "Bachelor’s degree (B.A., B.S., B.Eng., etc.)\n"
     ]
    }
   ],
   "execution_count": 73
  },
  {
   "metadata": {
    "ExecuteTime": {
     "end_time": "2025-01-27T19:41:48.443632Z",
     "start_time": "2025-01-27T19:41:48.431403Z"
    }
   },
   "cell_type": "code",
   "source": [
    "missing_ed_values1 = df['EdLevel'].isnull().sum()\n",
    "df['EdLevel'].value_counts()"
   ],
   "id": "61a006d8c9579c75",
   "outputs": [
    {
     "data": {
      "text/plain": [
       "EdLevel\n",
       "Bachelor’s degree (B.A., B.S., B.Eng., etc.)                                          24942\n",
       "Master’s degree (M.A., M.S., M.Eng., MBA, etc.)                                       15557\n",
       "Some college/university study without earning a degree                                 7651\n",
       "Secondary school (e.g. American high school, German Realschule or Gymnasium, etc.)     5793\n",
       "Professional degree (JD, MD, Ph.D, Ed.D, etc.)                                         2970\n",
       "Associate degree (A.A., A.S., etc.)                                                    1793\n",
       "Primary/elementary school                                                              1146\n",
       "Something else                                                                          932\n",
       "Name: count, dtype: int64"
      ]
     },
     "execution_count": 74,
     "metadata": {},
     "output_type": "execute_result"
    }
   ],
   "execution_count": 74
  },
  {
   "metadata": {
    "ExecuteTime": {
     "end_time": "2025-01-27T19:41:53.986730Z",
     "start_time": "2025-01-27T19:41:53.979717Z"
    }
   },
   "cell_type": "code",
   "source": [
    "missing_ed_values2 = df['EdLevel'].isnull().sum()\n",
    "print(missing_ed_values2)"
   ],
   "id": "63c2518fca97ccaa",
   "outputs": [
    {
     "name": "stdout",
     "output_type": "stream",
     "text": [
      "4653\n"
     ]
    }
   ],
   "execution_count": 75
  },
  {
   "metadata": {},
   "cell_type": "markdown",
   "source": "## Step 6: Normalizing Compensation Data",
   "id": "b2259dbc2ca756e1"
  },
  {
   "metadata": {},
   "cell_type": "markdown",
   "source": [
    "* Task 4: Normalize Compensation Data Using ConvertedCompYearly\n",
    "\n",
    "* Use the ConvertedCompYearly column for compensation analysis as the normalized annual compensation is already provided.\n",
    "Check for missing values in ConvertedCompYearly and handle them if necessary."
   ],
   "id": "8ff004f90a16be12"
  },
  {
   "metadata": {
    "ExecuteTime": {
     "end_time": "2025-01-27T19:41:58.513379Z",
     "start_time": "2025-01-27T19:41:58.508783Z"
    }
   },
   "cell_type": "code",
   "source": [
    "missing_comp = df['ConvertedCompYearly'].isnull().sum()\n",
    "print(missing_comp)"
   ],
   "id": "9bdc09d5fb60eb46",
   "outputs": [
    {
     "name": "stdout",
     "output_type": "stream",
     "text": [
      "42002\n"
     ]
    }
   ],
   "execution_count": 76
  },
  {
   "metadata": {
    "ExecuteTime": {
     "end_time": "2025-01-27T19:42:02.432356Z",
     "start_time": "2025-01-27T19:42:02.427096Z"
    }
   },
   "cell_type": "code",
   "source": [
    "feq_comp = df['ConvertedCompYearly'].mode()[0]\n",
    "print(feq_comp)"
   ],
   "id": "f5653fcfe24026c",
   "outputs": [
    {
     "name": "stdout",
     "output_type": "stream",
     "text": [
      "64444.0\n"
     ]
    }
   ],
   "execution_count": 77
  },
  {
   "metadata": {
    "ExecuteTime": {
     "end_time": "2025-01-27T19:42:21.692969Z",
     "start_time": "2025-01-27T19:42:21.682438Z"
    }
   },
   "cell_type": "code",
   "source": "df['ConvertedCompYearly'] = df['ConvertedCompYearly'].fillna(feq_comp)",
   "id": "e99de338ded12d2c",
   "outputs": [],
   "execution_count": 78
  },
  {
   "metadata": {
    "ExecuteTime": {
     "end_time": "2025-01-27T19:42:41.625263Z",
     "start_time": "2025-01-27T19:42:41.618640Z"
    }
   },
   "cell_type": "code",
   "source": [
    "# Verify all available data have counts\n",
    "df['ConvertedCompYearly'].value_counts()"
   ],
   "id": "dd7e31107734d263",
   "outputs": [
    {
     "data": {
      "text/plain": [
       "ConvertedCompYearly\n",
       "64444.0     42323\n",
       "53703.0       308\n",
       "75184.0       230\n",
       "85925.0       226\n",
       "107406.0      208\n",
       "            ...  \n",
       "46145.0         1\n",
       "154440.0        1\n",
       "27391.0         1\n",
       "11562.0         1\n",
       "116844.0        1\n",
       "Name: count, Length: 6113, dtype: int64"
      ]
     },
     "execution_count": 80,
     "metadata": {},
     "output_type": "execute_result"
    }
   ],
   "execution_count": 80
  },
  {
   "metadata": {
    "ExecuteTime": {
     "end_time": "2025-01-27T19:44:48.394803Z",
     "start_time": "2025-01-27T19:44:48.391660Z"
    }
   },
   "cell_type": "code",
   "source": [
    "# Checking any empty value remain\n",
    "duplicate_check = df['ConvertedCompYearly'].isnull().sum()\n",
    "print(duplicate_check)"
   ],
   "id": "af0ab5a09f443732",
   "outputs": [
    {
     "name": "stdout",
     "output_type": "stream",
     "text": [
      "0\n"
     ]
    }
   ],
   "execution_count": 83
  },
  {
   "metadata": {},
   "cell_type": "code",
   "outputs": [],
   "execution_count": null,
   "source": "",
   "id": "e6a35732f0fc3260"
  }
 ],
 "metadata": {
  "kernelspec": {
   "display_name": "Python 3",
   "language": "python",
   "name": "python3"
  },
  "language_info": {
   "codemirror_mode": {
    "name": "ipython",
    "version": 2
   },
   "file_extension": ".py",
   "mimetype": "text/x-python",
   "name": "python",
   "nbconvert_exporter": "python",
   "pygments_lexer": "ipython2",
   "version": "2.7.6"
  }
 },
 "nbformat": 4,
 "nbformat_minor": 5
}
