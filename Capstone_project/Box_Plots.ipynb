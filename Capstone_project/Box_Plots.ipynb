{
 "cells": [
  {
   "metadata": {},
   "cell_type": "markdown",
   "source": "# Box Plots",
   "id": "44b9dd52f46a60e1"
  },
  {
   "metadata": {
    "ExecuteTime": {
     "end_time": "2025-02-10T14:46:51.772446Z",
     "start_time": "2025-02-10T14:44:53.069875Z"
    }
   },
   "cell_type": "code",
   "source": [
    "# Down the file to local\n",
    "!wget https://cf-courses-data.s3.us.cloud-object-storage.appdomain.cloud/QR9YeprUYhOoLafzlLspAw/survey-results-public.sqlite"
   ],
   "id": "38b1407482efeda0",
   "outputs": [
    {
     "name": "stdout",
     "output_type": "stream",
     "text": [
      "--2025-02-10 20:44:53--  https://cf-courses-data.s3.us.cloud-object-storage.appdomain.cloud/QR9YeprUYhOoLafzlLspAw/survey-results-public.sqlite\r\n",
      "Resolving cf-courses-data.s3.us.cloud-object-storage.appdomain.cloud (cf-courses-data.s3.us.cloud-object-storage.appdomain.cloud)... 169.45.118.108\r\n",
      "Connecting to cf-courses-data.s3.us.cloud-object-storage.appdomain.cloud (cf-courses-data.s3.us.cloud-object-storage.appdomain.cloud)|169.45.118.108|:443... connected.\r\n",
      "HTTP request sent, awaiting response... 200 OK\r\n",
      "Length: 211415040 (202M) [application/octet-stream]\r\n",
      "Saving to: ‘survey-results-public.sqlite’\r\n",
      "\r\n",
      "survey-results-publ 100%[===================>] 201.62M  2.36MB/s    in 1m 57s  \r\n",
      "\r\n",
      "2025-02-10 20:46:51 (1.73 MB/s) - ‘survey-results-public.sqlite’ saved [211415040/211415040]\r\n",
      "\r\n"
     ]
    }
   ],
   "execution_count": 1
  },
  {
   "metadata": {
    "ExecuteTime": {
     "end_time": "2025-02-10T15:29:41.570249Z",
     "start_time": "2025-02-10T15:29:41.527793Z"
    }
   },
   "cell_type": "code",
   "source": [
    "# Import all package\n",
    "import sqlite3\n",
    "import pandas as pd\n",
    "import numpy as np\n",
    "import matplotlib.pyplot as plt\n",
    "import seaborn as sns"
   ],
   "id": "19d131e5ff15461d",
   "outputs": [],
   "execution_count": 2
  },
  {
   "metadata": {},
   "cell_type": "markdown",
   "source": "# Connect the Database",
   "id": "d46202a67b4bba64"
  },
  {
   "metadata": {
    "ExecuteTime": {
     "end_time": "2025-02-10T15:30:18.387691Z",
     "start_time": "2025-02-10T15:30:18.381461Z"
    }
   },
   "cell_type": "code",
   "source": "conn = sqlite3.connect('survey-results-public.sqlite')",
   "id": "c56f3a6c83375f6",
   "outputs": [],
   "execution_count": 3
  },
  {
   "metadata": {},
   "cell_type": "markdown",
   "source": "",
   "id": "de4b6f0c1cb5daf6"
  },
  {
   "metadata": {
    "ExecuteTime": {
     "end_time": "2025-02-10T18:31:58.553003Z",
     "start_time": "2025-02-10T18:31:58.243936Z"
    }
   },
   "cell_type": "code",
   "source": [
    "#  Read The database\n",
    "QUERY = \"\"\"\n",
    "SELECT COUNT(*) FROM main\n",
    "\"\"\"\n",
    "df = pd.read_sql_query(QUERY, conn)\n",
    "df"
   ],
   "id": "2e675961a1e35b1c",
   "outputs": [
    {
     "data": {
      "text/plain": [
       "   COUNT(*)\n",
       "0     65437"
      ],
      "text/html": [
       "<div>\n",
       "<style scoped>\n",
       "    .dataframe tbody tr th:only-of-type {\n",
       "        vertical-align: middle;\n",
       "    }\n",
       "\n",
       "    .dataframe tbody tr th {\n",
       "        vertical-align: top;\n",
       "    }\n",
       "\n",
       "    .dataframe thead th {\n",
       "        text-align: right;\n",
       "    }\n",
       "</style>\n",
       "<table border=\"1\" class=\"dataframe\">\n",
       "  <thead>\n",
       "    <tr style=\"text-align: right;\">\n",
       "      <th></th>\n",
       "      <th>COUNT(*)</th>\n",
       "    </tr>\n",
       "  </thead>\n",
       "  <tbody>\n",
       "    <tr>\n",
       "      <th>0</th>\n",
       "      <td>65437</td>\n",
       "    </tr>\n",
       "  </tbody>\n",
       "</table>\n",
       "</div>"
      ]
     },
     "execution_count": 118,
     "metadata": {},
     "output_type": "execute_result"
    }
   ],
   "execution_count": 118
  },
  {
   "metadata": {
    "ExecuteTime": {
     "end_time": "2025-02-10T15:35:26.709162Z",
     "start_time": "2025-02-10T15:35:26.675412Z"
    }
   },
   "cell_type": "code",
   "source": [
    "# List of All Tables\n",
    "QUERY =\"\"\"\n",
    "SELECT name as Table_Name\n",
    "FROM sqlite_master\n",
    "WHERE type='table'\n",
    "\"\"\"\n",
    "table_info = pd.read_sql_query(QUERY, conn)\n",
    "table_info"
   ],
   "id": "31514c1fadf2714a",
   "outputs": [
    {
     "data": {
      "text/plain": [
       "  Table_Name\n",
       "0       main"
      ],
      "text/html": [
       "<div>\n",
       "<style scoped>\n",
       "    .dataframe tbody tr th:only-of-type {\n",
       "        vertical-align: middle;\n",
       "    }\n",
       "\n",
       "    .dataframe tbody tr th {\n",
       "        vertical-align: top;\n",
       "    }\n",
       "\n",
       "    .dataframe thead th {\n",
       "        text-align: right;\n",
       "    }\n",
       "</style>\n",
       "<table border=\"1\" class=\"dataframe\">\n",
       "  <thead>\n",
       "    <tr style=\"text-align: right;\">\n",
       "      <th></th>\n",
       "      <th>Table_Name</th>\n",
       "    </tr>\n",
       "  </thead>\n",
       "  <tbody>\n",
       "    <tr>\n",
       "      <th>0</th>\n",
       "      <td>main</td>\n",
       "    </tr>\n",
       "  </tbody>\n",
       "</table>\n",
       "</div>"
      ]
     },
     "execution_count": 5,
     "metadata": {},
     "output_type": "execute_result"
    }
   ],
   "execution_count": 5
  },
  {
   "metadata": {
    "ExecuteTime": {
     "end_time": "2025-02-10T15:58:30.861712Z",
     "start_time": "2025-02-10T15:58:30.430238Z"
    }
   },
   "cell_type": "code",
   "source": [
    "# GROUP DATA by Age\n",
    "QUERY = \"\"\"\n",
    "SELECT 'Age', COUNT(*) FROM main\n",
    "GROUP BY Age\n",
    "ORDER BY Age\n",
    "\"\"\"\n",
    "df_age = pd.read_sql_query(QUERY, conn)\n",
    "df_age"
   ],
   "id": "1cb4f95e2e82dd16",
   "outputs": [
    {
     "data": {
      "text/plain": [
       "  'Age'  COUNT(*)\n",
       "0   Age     14098\n",
       "1   Age     23911\n",
       "2   Age     14942\n",
       "3   Age      6249\n",
       "4   Age      2575\n",
       "5   Age       772\n",
       "6   Age       322\n",
       "7   Age      2568"
      ],
      "text/html": [
       "<div>\n",
       "<style scoped>\n",
       "    .dataframe tbody tr th:only-of-type {\n",
       "        vertical-align: middle;\n",
       "    }\n",
       "\n",
       "    .dataframe tbody tr th {\n",
       "        vertical-align: top;\n",
       "    }\n",
       "\n",
       "    .dataframe thead th {\n",
       "        text-align: right;\n",
       "    }\n",
       "</style>\n",
       "<table border=\"1\" class=\"dataframe\">\n",
       "  <thead>\n",
       "    <tr style=\"text-align: right;\">\n",
       "      <th></th>\n",
       "      <th>'Age'</th>\n",
       "      <th>COUNT(*)</th>\n",
       "    </tr>\n",
       "  </thead>\n",
       "  <tbody>\n",
       "    <tr>\n",
       "      <th>0</th>\n",
       "      <td>Age</td>\n",
       "      <td>14098</td>\n",
       "    </tr>\n",
       "    <tr>\n",
       "      <th>1</th>\n",
       "      <td>Age</td>\n",
       "      <td>23911</td>\n",
       "    </tr>\n",
       "    <tr>\n",
       "      <th>2</th>\n",
       "      <td>Age</td>\n",
       "      <td>14942</td>\n",
       "    </tr>\n",
       "    <tr>\n",
       "      <th>3</th>\n",
       "      <td>Age</td>\n",
       "      <td>6249</td>\n",
       "    </tr>\n",
       "    <tr>\n",
       "      <th>4</th>\n",
       "      <td>Age</td>\n",
       "      <td>2575</td>\n",
       "    </tr>\n",
       "    <tr>\n",
       "      <th>5</th>\n",
       "      <td>Age</td>\n",
       "      <td>772</td>\n",
       "    </tr>\n",
       "    <tr>\n",
       "      <th>6</th>\n",
       "      <td>Age</td>\n",
       "      <td>322</td>\n",
       "    </tr>\n",
       "    <tr>\n",
       "      <th>7</th>\n",
       "      <td>Age</td>\n",
       "      <td>2568</td>\n",
       "    </tr>\n",
       "  </tbody>\n",
       "</table>\n",
       "</div>"
      ]
     },
     "execution_count": 6,
     "metadata": {},
     "output_type": "execute_result"
    }
   ],
   "execution_count": 6
  },
  {
   "metadata": {},
   "cell_type": "markdown",
   "source": [
    "# VISUALIZING Data\n",
    "Box plot of 'CompTotal' (Total Compensation)"
   ],
   "id": "d85f43a9b69663cb"
  },
  {
   "metadata": {
    "ExecuteTime": {
     "end_time": "2025-02-10T18:42:09.387881Z",
     "start_time": "2025-02-10T18:42:07.493007Z"
    }
   },
   "cell_type": "code",
   "source": [
    "QUERY = \"\"\"\n",
    "SELECT * FROM main\n",
    "\"\"\"\n",
    "df = pd.read_sql_query(QUERY, conn)"
   ],
   "id": "df05fd98f28e5d16",
   "outputs": [],
   "execution_count": 144
  },
  {
   "metadata": {
    "ExecuteTime": {
     "end_time": "2025-02-10T18:42:11.194225Z",
     "start_time": "2025-02-10T18:42:11.181103Z"
    }
   },
   "cell_type": "code",
   "source": "df.head()",
   "id": "63344f8ddd4bb6ce",
   "outputs": [
    {
     "data": {
      "text/plain": [
       "   ResponseId                      MainBranch                 Age  \\\n",
       "0           1  I am a developer by profession  Under 18 years old   \n",
       "1           2  I am a developer by profession     35-44 years old   \n",
       "2           3  I am a developer by profession     45-54 years old   \n",
       "3           4           I am learning to code     18-24 years old   \n",
       "4           5  I am a developer by profession     18-24 years old   \n",
       "\n",
       "            Employment RemoteWork   Check  \\\n",
       "0  Employed, full-time     Remote  Apples   \n",
       "1  Employed, full-time     Remote  Apples   \n",
       "2  Employed, full-time     Remote  Apples   \n",
       "3   Student, full-time       None  Apples   \n",
       "4   Student, full-time       None  Apples   \n",
       "\n",
       "                                    CodingActivities  \\\n",
       "0                                              Hobby   \n",
       "1  Hobby;Contribute to open-source projects;Other...   \n",
       "2  Hobby;Contribute to open-source projects;Other...   \n",
       "3                                               None   \n",
       "4                                               None   \n",
       "\n",
       "                                             EdLevel  \\\n",
       "0                          Primary/elementary school   \n",
       "1       Bachelor’s degree (B.A., B.S., B.Eng., etc.)   \n",
       "2    Master’s degree (M.A., M.S., M.Eng., MBA, etc.)   \n",
       "3  Some college/university study without earning ...   \n",
       "4  Secondary school (e.g. American high school, G...   \n",
       "\n",
       "                                           LearnCode  \\\n",
       "0                             Books / Physical media   \n",
       "1  Books / Physical media;Colleague;On the job tr...   \n",
       "2  Books / Physical media;Colleague;On the job tr...   \n",
       "3  Other online resources (e.g., videos, blogs, f...   \n",
       "4  Other online resources (e.g., videos, blogs, f...   \n",
       "\n",
       "                                     LearnCodeOnline  ... JobSatPoints_6  \\\n",
       "0                                               None  ...            NaN   \n",
       "1  Technical documentation;Blogs;Books;Written Tu...  ...            0.0   \n",
       "2  Technical documentation;Blogs;Books;Written Tu...  ...            NaN   \n",
       "3  Stack Overflow;How-to videos;Interactive tutorial  ...            NaN   \n",
       "4  Technical documentation;Blogs;Written Tutorial...  ...            NaN   \n",
       "\n",
       "  JobSatPoints_7 JobSatPoints_8 JobSatPoints_9 JobSatPoints_10  \\\n",
       "0            NaN            NaN            NaN             NaN   \n",
       "1            0.0            0.0            0.0             0.0   \n",
       "2            NaN            NaN            NaN             NaN   \n",
       "3            NaN            NaN            NaN             NaN   \n",
       "4            NaN            NaN            NaN             NaN   \n",
       "\n",
       "  JobSatPoints_11           SurveyLength SurveyEase ConvertedCompYearly JobSat  \n",
       "0             NaN                   None       None                 NaN    NaN  \n",
       "1             0.0                   None       None                 NaN    NaN  \n",
       "2             NaN  Appropriate in length       Easy                 NaN    NaN  \n",
       "3             NaN               Too long       Easy                 NaN    NaN  \n",
       "4             NaN              Too short       Easy                 NaN    NaN  \n",
       "\n",
       "[5 rows x 114 columns]"
      ],
      "text/html": [
       "<div>\n",
       "<style scoped>\n",
       "    .dataframe tbody tr th:only-of-type {\n",
       "        vertical-align: middle;\n",
       "    }\n",
       "\n",
       "    .dataframe tbody tr th {\n",
       "        vertical-align: top;\n",
       "    }\n",
       "\n",
       "    .dataframe thead th {\n",
       "        text-align: right;\n",
       "    }\n",
       "</style>\n",
       "<table border=\"1\" class=\"dataframe\">\n",
       "  <thead>\n",
       "    <tr style=\"text-align: right;\">\n",
       "      <th></th>\n",
       "      <th>ResponseId</th>\n",
       "      <th>MainBranch</th>\n",
       "      <th>Age</th>\n",
       "      <th>Employment</th>\n",
       "      <th>RemoteWork</th>\n",
       "      <th>Check</th>\n",
       "      <th>CodingActivities</th>\n",
       "      <th>EdLevel</th>\n",
       "      <th>LearnCode</th>\n",
       "      <th>LearnCodeOnline</th>\n",
       "      <th>...</th>\n",
       "      <th>JobSatPoints_6</th>\n",
       "      <th>JobSatPoints_7</th>\n",
       "      <th>JobSatPoints_8</th>\n",
       "      <th>JobSatPoints_9</th>\n",
       "      <th>JobSatPoints_10</th>\n",
       "      <th>JobSatPoints_11</th>\n",
       "      <th>SurveyLength</th>\n",
       "      <th>SurveyEase</th>\n",
       "      <th>ConvertedCompYearly</th>\n",
       "      <th>JobSat</th>\n",
       "    </tr>\n",
       "  </thead>\n",
       "  <tbody>\n",
       "    <tr>\n",
       "      <th>0</th>\n",
       "      <td>1</td>\n",
       "      <td>I am a developer by profession</td>\n",
       "      <td>Under 18 years old</td>\n",
       "      <td>Employed, full-time</td>\n",
       "      <td>Remote</td>\n",
       "      <td>Apples</td>\n",
       "      <td>Hobby</td>\n",
       "      <td>Primary/elementary school</td>\n",
       "      <td>Books / Physical media</td>\n",
       "      <td>None</td>\n",
       "      <td>...</td>\n",
       "      <td>NaN</td>\n",
       "      <td>NaN</td>\n",
       "      <td>NaN</td>\n",
       "      <td>NaN</td>\n",
       "      <td>NaN</td>\n",
       "      <td>NaN</td>\n",
       "      <td>None</td>\n",
       "      <td>None</td>\n",
       "      <td>NaN</td>\n",
       "      <td>NaN</td>\n",
       "    </tr>\n",
       "    <tr>\n",
       "      <th>1</th>\n",
       "      <td>2</td>\n",
       "      <td>I am a developer by profession</td>\n",
       "      <td>35-44 years old</td>\n",
       "      <td>Employed, full-time</td>\n",
       "      <td>Remote</td>\n",
       "      <td>Apples</td>\n",
       "      <td>Hobby;Contribute to open-source projects;Other...</td>\n",
       "      <td>Bachelor’s degree (B.A., B.S., B.Eng., etc.)</td>\n",
       "      <td>Books / Physical media;Colleague;On the job tr...</td>\n",
       "      <td>Technical documentation;Blogs;Books;Written Tu...</td>\n",
       "      <td>...</td>\n",
       "      <td>0.0</td>\n",
       "      <td>0.0</td>\n",
       "      <td>0.0</td>\n",
       "      <td>0.0</td>\n",
       "      <td>0.0</td>\n",
       "      <td>0.0</td>\n",
       "      <td>None</td>\n",
       "      <td>None</td>\n",
       "      <td>NaN</td>\n",
       "      <td>NaN</td>\n",
       "    </tr>\n",
       "    <tr>\n",
       "      <th>2</th>\n",
       "      <td>3</td>\n",
       "      <td>I am a developer by profession</td>\n",
       "      <td>45-54 years old</td>\n",
       "      <td>Employed, full-time</td>\n",
       "      <td>Remote</td>\n",
       "      <td>Apples</td>\n",
       "      <td>Hobby;Contribute to open-source projects;Other...</td>\n",
       "      <td>Master’s degree (M.A., M.S., M.Eng., MBA, etc.)</td>\n",
       "      <td>Books / Physical media;Colleague;On the job tr...</td>\n",
       "      <td>Technical documentation;Blogs;Books;Written Tu...</td>\n",
       "      <td>...</td>\n",
       "      <td>NaN</td>\n",
       "      <td>NaN</td>\n",
       "      <td>NaN</td>\n",
       "      <td>NaN</td>\n",
       "      <td>NaN</td>\n",
       "      <td>NaN</td>\n",
       "      <td>Appropriate in length</td>\n",
       "      <td>Easy</td>\n",
       "      <td>NaN</td>\n",
       "      <td>NaN</td>\n",
       "    </tr>\n",
       "    <tr>\n",
       "      <th>3</th>\n",
       "      <td>4</td>\n",
       "      <td>I am learning to code</td>\n",
       "      <td>18-24 years old</td>\n",
       "      <td>Student, full-time</td>\n",
       "      <td>None</td>\n",
       "      <td>Apples</td>\n",
       "      <td>None</td>\n",
       "      <td>Some college/university study without earning ...</td>\n",
       "      <td>Other online resources (e.g., videos, blogs, f...</td>\n",
       "      <td>Stack Overflow;How-to videos;Interactive tutorial</td>\n",
       "      <td>...</td>\n",
       "      <td>NaN</td>\n",
       "      <td>NaN</td>\n",
       "      <td>NaN</td>\n",
       "      <td>NaN</td>\n",
       "      <td>NaN</td>\n",
       "      <td>NaN</td>\n",
       "      <td>Too long</td>\n",
       "      <td>Easy</td>\n",
       "      <td>NaN</td>\n",
       "      <td>NaN</td>\n",
       "    </tr>\n",
       "    <tr>\n",
       "      <th>4</th>\n",
       "      <td>5</td>\n",
       "      <td>I am a developer by profession</td>\n",
       "      <td>18-24 years old</td>\n",
       "      <td>Student, full-time</td>\n",
       "      <td>None</td>\n",
       "      <td>Apples</td>\n",
       "      <td>None</td>\n",
       "      <td>Secondary school (e.g. American high school, G...</td>\n",
       "      <td>Other online resources (e.g., videos, blogs, f...</td>\n",
       "      <td>Technical documentation;Blogs;Written Tutorial...</td>\n",
       "      <td>...</td>\n",
       "      <td>NaN</td>\n",
       "      <td>NaN</td>\n",
       "      <td>NaN</td>\n",
       "      <td>NaN</td>\n",
       "      <td>NaN</td>\n",
       "      <td>NaN</td>\n",
       "      <td>Too short</td>\n",
       "      <td>Easy</td>\n",
       "      <td>NaN</td>\n",
       "      <td>NaN</td>\n",
       "    </tr>\n",
       "  </tbody>\n",
       "</table>\n",
       "<p>5 rows × 114 columns</p>\n",
       "</div>"
      ]
     },
     "execution_count": 145,
     "metadata": {},
     "output_type": "execute_result"
    }
   ],
   "execution_count": 145
  },
  {
   "metadata": {
    "ExecuteTime": {
     "end_time": "2025-02-10T16:04:55.079129Z",
     "start_time": "2025-02-10T16:04:55.069199Z"
    }
   },
   "cell_type": "code",
   "source": [
    "missing_value = df['CompTotal'].isnull().sum()\n",
    "missing_value"
   ],
   "id": "976f642876b77307",
   "outputs": [
    {
     "data": {
      "text/plain": [
       "np.int64(31697)"
      ]
     },
     "execution_count": 14,
     "metadata": {},
     "output_type": "execute_result"
    }
   ],
   "execution_count": 14
  },
  {
   "metadata": {
    "ExecuteTime": {
     "end_time": "2025-02-10T16:05:43.765094Z",
     "start_time": "2025-02-10T16:05:43.744799Z"
    }
   },
   "cell_type": "code",
   "source": "df['CompTotal'] = df['CompTotal'].fillna(df['CompTotal'].mean())",
   "id": "15292a34cffd0448",
   "outputs": [
    {
     "data": {
      "text/plain": [
       "CompTotal\n",
       "2.963841e+145    31697\n",
       "1.000000e+05       939\n",
       "6.000000e+04       839\n",
       "1.200000e+05       793\n",
       "8.000000e+04       728\n",
       "                 ...  \n",
       "5.980000e+04         1\n",
       "2.880500e+04         1\n",
       "3.775320e+05         1\n",
       "5.184000e+05         1\n",
       "7.770000e+04         1\n",
       "Name: count, Length: 3338, dtype: int64"
      ]
     },
     "execution_count": 15,
     "metadata": {},
     "output_type": "execute_result"
    }
   ],
   "execution_count": 15
  },
  {
   "metadata": {
    "ExecuteTime": {
     "end_time": "2025-02-10T16:16:36.949925Z",
     "start_time": "2025-02-10T16:16:36.942770Z"
    }
   },
   "cell_type": "code",
   "source": [
    "comp_data = df['CompTotal'].value_counts()\n",
    "comp_data_df = comp_data.reset_index()\n",
    "comp_data_df.columns = ['CompTotal', 'Count']"
   ],
   "id": "7764e0d58150917d",
   "outputs": [],
   "execution_count": 30
  },
  {
   "metadata": {},
   "cell_type": "markdown",
   "source": "## Show box plot for compensation total",
   "id": "c889fdcd7ae11f15"
  },
  {
   "metadata": {
    "ExecuteTime": {
     "end_time": "2025-02-10T16:46:28.735906Z",
     "start_time": "2025-02-10T16:46:28.614661Z"
    }
   },
   "cell_type": "code",
   "source": [
    "plt.figure(figsize=(8, 6))\n",
    "sns.boxplot(y='CompTotal', data=comp_data_df) \n",
    "plt.show()"
   ],
   "id": "52c4b74d7137e27f",
   "outputs": [
    {
     "data": {
      "text/plain": [
       "<Figure size 800x600 with 1 Axes>"
      ],
      "image/png": "[encoded data removed]"
     },
     "metadata": {},
     "output_type": "display_data"
    }
   ],
   "execution_count": 70
  },
  {
   "metadata": {},
   "cell_type": "markdown",
   "source": "# Box Plot of Age (converted to numeric values)",
   "id": "f7fec0c2efa09d51"
  },
  {
   "metadata": {
    "ExecuteTime": {
     "end_time": "2025-02-10T16:20:37.025895Z",
     "start_time": "2025-02-10T16:20:37.003675Z"
    }
   },
   "cell_type": "code",
   "source": "df['Age'].value_counts()",
   "id": "b59046b55874297e",
   "outputs": [
    {
     "data": {
      "text/plain": [
       "Age\n",
       "25-34 years old       23911\n",
       "35-44 years old       14942\n",
       "18-24 years old       14098\n",
       "45-54 years old        6249\n",
       "55-64 years old        2575\n",
       "Under 18 years old     2568\n",
       "65 years or older       772\n",
       "Prefer not to say       322\n",
       "Name: count, dtype: int64"
      ]
     },
     "execution_count": 39,
     "metadata": {},
     "output_type": "execute_result"
    }
   ],
   "execution_count": 39
  },
  {
   "metadata": {
    "ExecuteTime": {
     "end_time": "2025-02-10T16:36:23.549341Z",
     "start_time": "2025-02-10T16:36:23.539795Z"
    }
   },
   "cell_type": "code",
   "source": [
    "import re\n",
    "def convert_age(column: str) -> int:\n",
    "    if isinstance(column, str):\n",
    "        if 'older' in column or 'Under' in column:\n",
    "            match = re.search(r'\\d+', column)\n",
    "            if match:\n",
    "                return int(match.group())\n",
    "        elif 'Prefer not' in column:\n",
    "            return 0\n",
    "        else:\n",
    "            match = re.findall(r'\\d+', column)\n",
    "            if match:\n",
    "                return sum(int(i) for i in match) // len(match)   "
   ],
   "id": "742565f680850d63",
   "outputs": [],
   "execution_count": 58
  },
  {
   "metadata": {},
   "cell_type": "code",
   "outputs": [],
   "execution_count": null,
   "source": "df['Age'] = df['Age'].apply(convert_age)",
   "id": "160cc2fd7cabe330"
  },
  {
   "metadata": {
    "ExecuteTime": {
     "end_time": "2025-02-10T16:36:51.725433Z",
     "start_time": "2025-02-10T16:36:51.712108Z"
    }
   },
   "cell_type": "code",
   "source": "df['Age'].value_counts()",
   "id": "30a7347f82df07c6",
   "outputs": [
    {
     "data": {
      "text/plain": [
       "Age\n",
       "29    23911\n",
       "39    14942\n",
       "21    14098\n",
       "49     6249\n",
       "59     2575\n",
       "18     2568\n",
       "65      772\n",
       "0       322\n",
       "Name: count, dtype: int64"
      ]
     },
     "execution_count": 59,
     "metadata": {},
     "output_type": "execute_result"
    }
   ],
   "execution_count": 59
  },
  {
   "metadata": {
    "ExecuteTime": {
     "end_time": "2025-02-10T16:37:53.109921Z",
     "start_time": "2025-02-10T16:37:53.098870Z"
    }
   },
   "cell_type": "code",
   "source": "df['Age'] = df['Age'].replace(0, df['Age'].mean())",
   "id": "b2c78e0a3354f301",
   "outputs": [],
   "execution_count": 60
  },
  {
   "metadata": {
    "ExecuteTime": {
     "end_time": "2025-02-10T16:37:55.156005Z",
     "start_time": "2025-02-10T16:37:55.149941Z"
    }
   },
   "cell_type": "code",
   "source": "df['Age'].value_counts()",
   "id": "dbb9cc07c055e4dc",
   "outputs": [
    {
     "data": {
      "text/plain": [
       "Age\n",
       "29.000000    23911\n",
       "39.000000    14942\n",
       "21.000000    14098\n",
       "49.000000     6249\n",
       "59.000000     2575\n",
       "18.000000     2568\n",
       "65.000000      772\n",
       "32.500649      322\n",
       "Name: count, dtype: int64"
      ]
     },
     "execution_count": 61,
     "metadata": {},
     "output_type": "execute_result"
    }
   ],
   "execution_count": 61
  },
  {
   "metadata": {
    "ExecuteTime": {
     "end_time": "2025-02-10T16:38:37.895607Z",
     "start_time": "2025-02-10T16:38:37.882840Z"
    }
   },
   "cell_type": "code",
   "source": [
    "df['Age'] = df['Age'].astype('int64')\n",
    "df['Age'].value_counts()"
   ],
   "id": "392dbc76ade4b88d",
   "outputs": [
    {
     "data": {
      "text/plain": [
       "Age\n",
       "29    23911\n",
       "39    14942\n",
       "21    14098\n",
       "49     6249\n",
       "59     2575\n",
       "18     2568\n",
       "65      772\n",
       "32      322\n",
       "Name: count, dtype: int64"
      ]
     },
     "execution_count": 62,
     "metadata": {},
     "output_type": "execute_result"
    }
   ],
   "execution_count": 62
  },
  {
   "metadata": {},
   "cell_type": "markdown",
   "source": "## Show Box plot for Age",
   "id": "25e79d5151728a77"
  },
  {
   "metadata": {
    "ExecuteTime": {
     "end_time": "2025-02-10T16:41:39.441587Z",
     "start_time": "2025-02-10T16:41:39.230548Z"
    }
   },
   "cell_type": "code",
   "source": [
    "plt.figure(figsize=(8, 6))\n",
    "sns.boxplot(y=df['Age'])\n",
    "plt.title('Age Distribution')\n",
    "plt.show()"
   ],
   "id": "ed77718a3ff35444",
   "outputs": [
    {
     "data": {
      "text/plain": [
       "<Figure size 800x600 with 1 Axes>"
      ],
      "image/png": "[encoded data removed]"
     },
     "metadata": {},
     "output_type": "display_data"
    }
   ],
   "execution_count": 63
  },
  {
   "metadata": {},
   "cell_type": "markdown",
   "source": "# Visualizing the Composition of Data",
   "id": "f4d04d7e559a46be"
  },
  {
   "metadata": {},
   "cell_type": "markdown",
   "source": "## Box Plot of ConvertedCompYearly for the Top 5 Developer Types:",
   "id": "14f793745f09a2c2"
  },
  {
   "metadata": {},
   "cell_type": "markdown",
   "source": "",
   "id": "383da9bff0020900"
  },
  {
   "metadata": {
    "ExecuteTime": {
     "end_time": "2025-02-10T16:57:21.083833Z",
     "start_time": "2025-02-10T16:57:21.075172Z"
    }
   },
   "cell_type": "code",
   "source": [
    "# Check Missing value\n",
    "missing_con_comp = df['ConvertedCompYearly'].isnull().sum()\n",
    "missing_con_comp"
   ],
   "id": "ca19963141c1a787",
   "outputs": [
    {
     "data": {
      "text/plain": [
       "np.int64(42002)"
      ]
     },
     "execution_count": 81,
     "metadata": {},
     "output_type": "execute_result"
    }
   ],
   "execution_count": 81
  },
  {
   "metadata": {
    "ExecuteTime": {
     "end_time": "2025-02-10T16:57:25.209555Z",
     "start_time": "2025-02-10T16:57:25.204163Z"
    }
   },
   "cell_type": "code",
   "source": [
    "# CHeck type\n",
    "df['ConvertedCompYearly'].dtypes"
   ],
   "id": "b2867d4e80ee689f",
   "outputs": [
    {
     "data": {
      "text/plain": [
       "dtype('float64')"
      ]
     },
     "execution_count": 83,
     "metadata": {},
     "output_type": "execute_result"
    }
   ],
   "execution_count": 83
  },
  {
   "metadata": {
    "ExecuteTime": {
     "end_time": "2025-02-10T16:53:02.520178Z",
     "start_time": "2025-02-10T16:53:02.511565Z"
    }
   },
   "cell_type": "code",
   "source": "# Show few row ",
   "id": "b67e791dbb624bee",
   "outputs": [],
   "execution_count": 74
  },
  {
   "metadata": {
    "ExecuteTime": {
     "end_time": "2025-02-10T16:57:32.979327Z",
     "start_time": "2025-02-10T16:57:32.967900Z"
    }
   },
   "cell_type": "code",
   "source": "df['ConvertedCompYearly'] = df['ConvertedCompYearly'].fillna(df['ConvertedCompYearly'].median())",
   "id": "d679c7cb94719c4f",
   "outputs": [],
   "execution_count": 84
  },
  {
   "metadata": {
    "ExecuteTime": {
     "end_time": "2025-02-10T16:57:36.203691Z",
     "start_time": "2025-02-10T16:57:36.197839Z"
    }
   },
   "cell_type": "code",
   "source": [
    "# gain check any more missing value\n",
    "missing_con_comp = df['ConvertedCompYearly'].isnull().sum()\n",
    "missing_con_comp"
   ],
   "id": "5f993d79a5aa80d6",
   "outputs": [
    {
     "data": {
      "text/plain": [
       "np.int64(0)"
      ]
     },
     "execution_count": 86,
     "metadata": {},
     "output_type": "execute_result"
    }
   ],
   "execution_count": 86
  },
  {
   "metadata": {
    "ExecuteTime": {
     "end_time": "2025-02-10T17:04:30.810660Z",
     "start_time": "2025-02-10T17:04:30.786512Z"
    }
   },
   "cell_type": "code",
   "source": [
    "xxx = df['ConvertedCompYearly'].value_counts()\n",
    "top_5_dev = df['ConvertedCompYearly'].sort_values(ascending=False)[:5]\n",
    "top_5_dev"
   ],
   "id": "53fee4d1ba7a5395",
   "outputs": [
    {
     "data": {
      "text/plain": [
       "15837    16256603.0\n",
       "12723    13818022.0\n",
       "28379     9000000.0\n",
       "17593     6340564.0\n",
       "17672     4936778.0\n",
       "Name: ConvertedCompYearly, dtype: float64"
      ]
     },
     "execution_count": 99,
     "metadata": {},
     "output_type": "execute_result"
    }
   ],
   "execution_count": 99
  },
  {
   "metadata": {
    "ExecuteTime": {
     "end_time": "2025-02-10T17:04:55.597304Z",
     "start_time": "2025-02-10T17:04:55.508088Z"
    }
   },
   "cell_type": "code",
   "source": [
    "plt.figure(figsize=(8, 6))\n",
    "sns.boxplot(y=top_5_dev)\n",
    "plt.title('Converted Comp Yearly')\n",
    "plt.show()"
   ],
   "id": "3b561c135eaa4825",
   "outputs": [
    {
     "data": {
      "text/plain": [
       "<Figure size 800x600 with 1 Axes>"
      ],
      "image/png": "[encoded data removed]"
     },
     "metadata": {},
     "output_type": "display_data"
    }
   ],
   "execution_count": 100
  },
  {
   "metadata": {},
   "cell_type": "markdown",
   "source": "## Box Plot of CompTotal for the Top 5 Countries:",
   "id": "a4c641964cd83813"
  },
  {
   "metadata": {
    "ExecuteTime": {
     "end_time": "2025-02-10T18:42:34.683777Z",
     "start_time": "2025-02-10T18:42:34.671099Z"
    }
   },
   "cell_type": "code",
   "source": [
    "comp_total_missing = df['CompTotal'].isnull().sum()\n",
    "comp_total_missing"
   ],
   "id": "24f3d5522bf3cb95",
   "outputs": [
    {
     "data": {
      "text/plain": [
       "np.int64(31697)"
      ]
     },
     "execution_count": 147,
     "metadata": {},
     "output_type": "execute_result"
    }
   ],
   "execution_count": 147
  },
  {
   "metadata": {
    "ExecuteTime": {
     "end_time": "2025-02-10T18:43:02.322024Z",
     "start_time": "2025-02-10T18:43:02.309776Z"
    }
   },
   "cell_type": "code",
   "source": "df['CompTotal'].bfill()",
   "id": "d58133c691a66d31",
   "outputs": [
    {
     "data": {
      "text/plain": [
       "0        2040000.0\n",
       "1        2040000.0\n",
       "2        2040000.0\n",
       "3        2040000.0\n",
       "4        2040000.0\n",
       "           ...    \n",
       "65432          NaN\n",
       "65433          NaN\n",
       "65434          NaN\n",
       "65435          NaN\n",
       "65436          NaN\n",
       "Name: CompTotal, Length: 65437, dtype: float64"
      ]
     },
     "execution_count": 148,
     "metadata": {},
     "output_type": "execute_result"
    }
   ],
   "execution_count": 148
  },
  {
   "metadata": {
    "ExecuteTime": {
     "end_time": "2025-02-10T18:45:28.643478Z",
     "start_time": "2025-02-10T18:45:28.618481Z"
    }
   },
   "cell_type": "code",
   "source": "df.head()",
   "id": "a15638dfa3aba776",
   "outputs": [
    {
     "data": {
      "text/plain": [
       "   ResponseId                      MainBranch                 Age  \\\n",
       "0           1  I am a developer by profession  Under 18 years old   \n",
       "1           2  I am a developer by profession     35-44 years old   \n",
       "2           3  I am a developer by profession     45-54 years old   \n",
       "3           4           I am learning to code     18-24 years old   \n",
       "4           5  I am a developer by profession     18-24 years old   \n",
       "\n",
       "            Employment RemoteWork   Check  \\\n",
       "0  Employed, full-time     Remote  Apples   \n",
       "1  Employed, full-time     Remote  Apples   \n",
       "2  Employed, full-time     Remote  Apples   \n",
       "3   Student, full-time       None  Apples   \n",
       "4   Student, full-time       None  Apples   \n",
       "\n",
       "                                    CodingActivities  \\\n",
       "0                                              Hobby   \n",
       "1  Hobby;Contribute to open-source projects;Other...   \n",
       "2  Hobby;Contribute to open-source projects;Other...   \n",
       "3                                               None   \n",
       "4                                               None   \n",
       "\n",
       "                                             EdLevel  \\\n",
       "0                          Primary/elementary school   \n",
       "1       Bachelor’s degree (B.A., B.S., B.Eng., etc.)   \n",
       "2    Master’s degree (M.A., M.S., M.Eng., MBA, etc.)   \n",
       "3  Some college/university study without earning ...   \n",
       "4  Secondary school (e.g. American high school, G...   \n",
       "\n",
       "                                           LearnCode  \\\n",
       "0                             Books / Physical media   \n",
       "1  Books / Physical media;Colleague;On the job tr...   \n",
       "2  Books / Physical media;Colleague;On the job tr...   \n",
       "3  Other online resources (e.g., videos, blogs, f...   \n",
       "4  Other online resources (e.g., videos, blogs, f...   \n",
       "\n",
       "                                     LearnCodeOnline  ... JobSatPoints_6  \\\n",
       "0                                               None  ...            NaN   \n",
       "1  Technical documentation;Blogs;Books;Written Tu...  ...            0.0   \n",
       "2  Technical documentation;Blogs;Books;Written Tu...  ...            NaN   \n",
       "3  Stack Overflow;How-to videos;Interactive tutorial  ...            NaN   \n",
       "4  Technical documentation;Blogs;Written Tutorial...  ...            NaN   \n",
       "\n",
       "  JobSatPoints_7 JobSatPoints_8 JobSatPoints_9 JobSatPoints_10  \\\n",
       "0            NaN            NaN            NaN             NaN   \n",
       "1            0.0            0.0            0.0             0.0   \n",
       "2            NaN            NaN            NaN             NaN   \n",
       "3            NaN            NaN            NaN             NaN   \n",
       "4            NaN            NaN            NaN             NaN   \n",
       "\n",
       "  JobSatPoints_11           SurveyLength SurveyEase ConvertedCompYearly JobSat  \n",
       "0             NaN                   None       None                 NaN    NaN  \n",
       "1             0.0                   None       None                 NaN    NaN  \n",
       "2             NaN  Appropriate in length       Easy                 NaN    NaN  \n",
       "3             NaN               Too long       Easy                 NaN    NaN  \n",
       "4             NaN              Too short       Easy                 NaN    NaN  \n",
       "\n",
       "[5 rows x 114 columns]"
      ],
      "text/html": [
       "<div>\n",
       "<style scoped>\n",
       "    .dataframe tbody tr th:only-of-type {\n",
       "        vertical-align: middle;\n",
       "    }\n",
       "\n",
       "    .dataframe tbody tr th {\n",
       "        vertical-align: top;\n",
       "    }\n",
       "\n",
       "    .dataframe thead th {\n",
       "        text-align: right;\n",
       "    }\n",
       "</style>\n",
       "<table border=\"1\" class=\"dataframe\">\n",
       "  <thead>\n",
       "    <tr style=\"text-align: right;\">\n",
       "      <th></th>\n",
       "      <th>ResponseId</th>\n",
       "      <th>MainBranch</th>\n",
       "      <th>Age</th>\n",
       "      <th>Employment</th>\n",
       "      <th>RemoteWork</th>\n",
       "      <th>Check</th>\n",
       "      <th>CodingActivities</th>\n",
       "      <th>EdLevel</th>\n",
       "      <th>LearnCode</th>\n",
       "      <th>LearnCodeOnline</th>\n",
       "      <th>...</th>\n",
       "      <th>JobSatPoints_6</th>\n",
       "      <th>JobSatPoints_7</th>\n",
       "      <th>JobSatPoints_8</th>\n",
       "      <th>JobSatPoints_9</th>\n",
       "      <th>JobSatPoints_10</th>\n",
       "      <th>JobSatPoints_11</th>\n",
       "      <th>SurveyLength</th>\n",
       "      <th>SurveyEase</th>\n",
       "      <th>ConvertedCompYearly</th>\n",
       "      <th>JobSat</th>\n",
       "    </tr>\n",
       "  </thead>\n",
       "  <tbody>\n",
       "    <tr>\n",
       "      <th>0</th>\n",
       "      <td>1</td>\n",
       "      <td>I am a developer by profession</td>\n",
       "      <td>Under 18 years old</td>\n",
       "      <td>Employed, full-time</td>\n",
       "      <td>Remote</td>\n",
       "      <td>Apples</td>\n",
       "      <td>Hobby</td>\n",
       "      <td>Primary/elementary school</td>\n",
       "      <td>Books / Physical media</td>\n",
       "      <td>None</td>\n",
       "      <td>...</td>\n",
       "      <td>NaN</td>\n",
       "      <td>NaN</td>\n",
       "      <td>NaN</td>\n",
       "      <td>NaN</td>\n",
       "      <td>NaN</td>\n",
       "      <td>NaN</td>\n",
       "      <td>None</td>\n",
       "      <td>None</td>\n",
       "      <td>NaN</td>\n",
       "      <td>NaN</td>\n",
       "    </tr>\n",
       "    <tr>\n",
       "      <th>1</th>\n",
       "      <td>2</td>\n",
       "      <td>I am a developer by profession</td>\n",
       "      <td>35-44 years old</td>\n",
       "      <td>Employed, full-time</td>\n",
       "      <td>Remote</td>\n",
       "      <td>Apples</td>\n",
       "      <td>Hobby;Contribute to open-source projects;Other...</td>\n",
       "      <td>Bachelor’s degree (B.A., B.S., B.Eng., etc.)</td>\n",
       "      <td>Books / Physical media;Colleague;On the job tr...</td>\n",
       "      <td>Technical documentation;Blogs;Books;Written Tu...</td>\n",
       "      <td>...</td>\n",
       "      <td>0.0</td>\n",
       "      <td>0.0</td>\n",
       "      <td>0.0</td>\n",
       "      <td>0.0</td>\n",
       "      <td>0.0</td>\n",
       "      <td>0.0</td>\n",
       "      <td>None</td>\n",
       "      <td>None</td>\n",
       "      <td>NaN</td>\n",
       "      <td>NaN</td>\n",
       "    </tr>\n",
       "    <tr>\n",
       "      <th>2</th>\n",
       "      <td>3</td>\n",
       "      <td>I am a developer by profession</td>\n",
       "      <td>45-54 years old</td>\n",
       "      <td>Employed, full-time</td>\n",
       "      <td>Remote</td>\n",
       "      <td>Apples</td>\n",
       "      <td>Hobby;Contribute to open-source projects;Other...</td>\n",
       "      <td>Master’s degree (M.A., M.S., M.Eng., MBA, etc.)</td>\n",
       "      <td>Books / Physical media;Colleague;On the job tr...</td>\n",
       "      <td>Technical documentation;Blogs;Books;Written Tu...</td>\n",
       "      <td>...</td>\n",
       "      <td>NaN</td>\n",
       "      <td>NaN</td>\n",
       "      <td>NaN</td>\n",
       "      <td>NaN</td>\n",
       "      <td>NaN</td>\n",
       "      <td>NaN</td>\n",
       "      <td>Appropriate in length</td>\n",
       "      <td>Easy</td>\n",
       "      <td>NaN</td>\n",
       "      <td>NaN</td>\n",
       "    </tr>\n",
       "    <tr>\n",
       "      <th>3</th>\n",
       "      <td>4</td>\n",
       "      <td>I am learning to code</td>\n",
       "      <td>18-24 years old</td>\n",
       "      <td>Student, full-time</td>\n",
       "      <td>None</td>\n",
       "      <td>Apples</td>\n",
       "      <td>None</td>\n",
       "      <td>Some college/university study without earning ...</td>\n",
       "      <td>Other online resources (e.g., videos, blogs, f...</td>\n",
       "      <td>Stack Overflow;How-to videos;Interactive tutorial</td>\n",
       "      <td>...</td>\n",
       "      <td>NaN</td>\n",
       "      <td>NaN</td>\n",
       "      <td>NaN</td>\n",
       "      <td>NaN</td>\n",
       "      <td>NaN</td>\n",
       "      <td>NaN</td>\n",
       "      <td>Too long</td>\n",
       "      <td>Easy</td>\n",
       "      <td>NaN</td>\n",
       "      <td>NaN</td>\n",
       "    </tr>\n",
       "    <tr>\n",
       "      <th>4</th>\n",
       "      <td>5</td>\n",
       "      <td>I am a developer by profession</td>\n",
       "      <td>18-24 years old</td>\n",
       "      <td>Student, full-time</td>\n",
       "      <td>None</td>\n",
       "      <td>Apples</td>\n",
       "      <td>None</td>\n",
       "      <td>Secondary school (e.g. American high school, G...</td>\n",
       "      <td>Other online resources (e.g., videos, blogs, f...</td>\n",
       "      <td>Technical documentation;Blogs;Written Tutorial...</td>\n",
       "      <td>...</td>\n",
       "      <td>NaN</td>\n",
       "      <td>NaN</td>\n",
       "      <td>NaN</td>\n",
       "      <td>NaN</td>\n",
       "      <td>NaN</td>\n",
       "      <td>NaN</td>\n",
       "      <td>Too short</td>\n",
       "      <td>Easy</td>\n",
       "      <td>NaN</td>\n",
       "      <td>NaN</td>\n",
       "    </tr>\n",
       "  </tbody>\n",
       "</table>\n",
       "<p>5 rows × 114 columns</p>\n",
       "</div>"
      ]
     },
     "execution_count": 152,
     "metadata": {},
     "output_type": "execute_result"
    }
   ],
   "execution_count": 152
  },
  {
   "metadata": {
    "ExecuteTime": {
     "end_time": "2025-02-10T18:44:05.482873Z",
     "start_time": "2025-02-10T18:44:05.461969Z"
    }
   },
   "cell_type": "code",
   "source": "df['CompTotal'].value_counts().sort_index(ascending=False)",
   "id": "ea7b91fdff03a956",
   "outputs": [
    {
     "data": {
      "text/plain": [
       "CompTotal\n",
       "1.000000e+150      1\n",
       "1.000000e+65       1\n",
       "1.000000e+53       1\n",
       "1.000000e+44       1\n",
       "8.000000e+27       1\n",
       "                ... \n",
       "4.000000e+00       4\n",
       "3.000000e+00       1\n",
       "2.000000e+00       4\n",
       "1.000000e+00      12\n",
       "0.000000e+00     127\n",
       "Name: count, Length: 3337, dtype: int64"
      ]
     },
     "execution_count": 151,
     "metadata": {},
     "output_type": "execute_result"
    }
   ],
   "execution_count": 151
  },
  {
   "metadata": {
    "ExecuteTime": {
     "end_time": "2025-02-10T19:02:43.997885Z",
     "start_time": "2025-02-10T19:02:43.890883Z"
    }
   },
   "cell_type": "code",
   "source": [
    "grouped = df.groupby(['CompTotal', 'Country']).size().reset_index(name='count')\n",
    "sorted_group=grouped.sort_values(ascending=False, by='CompTotal')\n",
    "top_5_country = sorted_group[['Country', 'CompTotal']][:6]\n",
    "top_5_country"
   ],
   "id": "8727f1ddd52f6084",
   "outputs": [
    {
     "data": {
      "text/plain": [
       "                                     Country      CompTotal\n",
       "10330  Democratic People's Republic of Korea  1.000000e+150\n",
       "10329                                Nomadic   1.000000e+65\n",
       "10328                            Afghanistan   1.000000e+53\n",
       "10327                            Afghanistan   1.000000e+44\n",
       "10326                                  Niger   8.000000e+27\n",
       "10325                               Slovakia   1.000000e+20"
      ],
      "text/html": [
       "<div>\n",
       "<style scoped>\n",
       "    .dataframe tbody tr th:only-of-type {\n",
       "        vertical-align: middle;\n",
       "    }\n",
       "\n",
       "    .dataframe tbody tr th {\n",
       "        vertical-align: top;\n",
       "    }\n",
       "\n",
       "    .dataframe thead th {\n",
       "        text-align: right;\n",
       "    }\n",
       "</style>\n",
       "<table border=\"1\" class=\"dataframe\">\n",
       "  <thead>\n",
       "    <tr style=\"text-align: right;\">\n",
       "      <th></th>\n",
       "      <th>Country</th>\n",
       "      <th>CompTotal</th>\n",
       "    </tr>\n",
       "  </thead>\n",
       "  <tbody>\n",
       "    <tr>\n",
       "      <th>10330</th>\n",
       "      <td>Democratic People's Republic of Korea</td>\n",
       "      <td>1.000000e+150</td>\n",
       "    </tr>\n",
       "    <tr>\n",
       "      <th>10329</th>\n",
       "      <td>Nomadic</td>\n",
       "      <td>1.000000e+65</td>\n",
       "    </tr>\n",
       "    <tr>\n",
       "      <th>10328</th>\n",
       "      <td>Afghanistan</td>\n",
       "      <td>1.000000e+53</td>\n",
       "    </tr>\n",
       "    <tr>\n",
       "      <th>10327</th>\n",
       "      <td>Afghanistan</td>\n",
       "      <td>1.000000e+44</td>\n",
       "    </tr>\n",
       "    <tr>\n",
       "      <th>10326</th>\n",
       "      <td>Niger</td>\n",
       "      <td>8.000000e+27</td>\n",
       "    </tr>\n",
       "    <tr>\n",
       "      <th>10325</th>\n",
       "      <td>Slovakia</td>\n",
       "      <td>1.000000e+20</td>\n",
       "    </tr>\n",
       "  </tbody>\n",
       "</table>\n",
       "</div>"
      ]
     },
     "execution_count": 178,
     "metadata": {},
     "output_type": "execute_result"
    }
   ],
   "execution_count": 178
  },
  {
   "metadata": {},
   "cell_type": "markdown",
   "source": "# Show Boxplot ",
   "id": "ae481f253804913e"
  },
  {
   "metadata": {
    "ExecuteTime": {
     "end_time": "2025-02-10T19:02:47.423778Z",
     "start_time": "2025-02-10T19:02:47.335868Z"
    }
   },
   "cell_type": "code",
   "source": [
    "plt.figure(figsize=(8, 6))\n",
    "sns.boxplot(x='Country', y='CompTotal', data=top_5_country, linewidth=10)\n",
    "plt.title('Box plot of Compensation by Country')\n",
    "plt.xticks(rotation=45)\n",
    "plt.show()"
   ],
   "id": "2d60f4e1e49576ad",
   "outputs": [
    {
     "data": {
      "text/plain": [
       "<Figure size 800x600 with 1 Axes>"
      ],
      "image/png": "[encoded data removed]"
     },
     "metadata": {},
     "output_type": "display_data"
    }
   ],
   "execution_count": 179
  }
 ],
 "metadata": {
  "kernelspec": {
   "display_name": "Python 3",
   "language": "python",
   "name": "python3"
  },
  "language_info": {
   "codemirror_mode": {
    "name": "ipython",
    "version": 2
   },
   "file_extension": ".py",
   "mimetype": "text/x-python",
   "name": "python",
   "nbconvert_exporter": "python",
   "pygments_lexer": "ipython2",
   "version": "2.7.6"
  }
 },
 "nbformat": 4,
 "nbformat_minor": 5
}
