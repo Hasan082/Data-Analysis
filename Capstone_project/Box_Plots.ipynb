{
 "cells": [
  {
   "metadata": {},
   "cell_type": "markdown",
   "source": "# Box Plots",
   "id": "44b9dd52f46a60e1"
  },
  {
   "metadata": {
    "ExecuteTime": {
     "end_time": "2025-02-10T14:46:51.772446Z",
     "start_time": "2025-02-10T14:44:53.069875Z"
    }
   },
   "cell_type": "code",
   "source": [
    "# Down the file to local\n",
    "!wget https://cf-courses-data.s3.us.cloud-object-storage.appdomain.cloud/QR9YeprUYhOoLafzlLspAw/survey-results-public.sqlite"
   ],
   "id": "38b1407482efeda0",
   "outputs": [
    {
     "name": "stdout",
     "output_type": "stream",
     "text": [
      "--2025-02-10 20:44:53--  https://cf-courses-data.s3.us.cloud-object-storage.appdomain.cloud/QR9YeprUYhOoLafzlLspAw/survey-results-public.sqlite\r\n",
      "Resolving cf-courses-data.s3.us.cloud-object-storage.appdomain.cloud (cf-courses-data.s3.us.cloud-object-storage.appdomain.cloud)... 169.45.118.108\r\n",
      "Connecting to cf-courses-data.s3.us.cloud-object-storage.appdomain.cloud (cf-courses-data.s3.us.cloud-object-storage.appdomain.cloud)|169.45.118.108|:443... connected.\r\n",
      "HTTP request sent, awaiting response... 200 OK\r\n",
      "Length: 211415040 (202M) [application/octet-stream]\r\n",
      "Saving to: ‘survey-results-public.sqlite’\r\n",
      "\r\n",
      "survey-results-publ 100%[===================>] 201.62M  2.36MB/s    in 1m 57s  \r\n",
      "\r\n",
      "2025-02-10 20:46:51 (1.73 MB/s) - ‘survey-results-public.sqlite’ saved [211415040/211415040]\r\n",
      "\r\n"
     ]
    }
   ],
   "execution_count": 1
  },
  {
   "metadata": {
    "ExecuteTime": {
     "end_time": "2025-02-10T15:29:41.570249Z",
     "start_time": "2025-02-10T15:29:41.527793Z"
    }
   },
   "cell_type": "code",
   "source": [
    "# Import all package\n",
    "import sqlite3\n",
    "import pandas as pd\n",
    "import numpy as np\n",
    "import matplotlib.pyplot as plt\n",
    "import seaborn as sns"
   ],
   "id": "19d131e5ff15461d",
   "outputs": [],
   "execution_count": 2
  },
  {
   "metadata": {},
   "cell_type": "markdown",
   "source": "# Connect the Database",
   "id": "d46202a67b4bba64"
  },
  {
   "metadata": {
    "ExecuteTime": {
     "end_time": "2025-02-10T15:30:18.387691Z",
     "start_time": "2025-02-10T15:30:18.381461Z"
    }
   },
   "cell_type": "code",
   "source": "conn = sqlite3.connect('survey-results-public.sqlite')",
   "id": "c56f3a6c83375f6",
   "outputs": [],
   "execution_count": 3
  },
  {
   "metadata": {},
   "cell_type": "markdown",
   "source": "",
   "id": "de4b6f0c1cb5daf6"
  },
  {
   "metadata": {
    "ExecuteTime": {
     "end_time": "2025-02-10T15:32:53.464337Z",
     "start_time": "2025-02-10T15:32:52.993970Z"
    }
   },
   "cell_type": "code",
   "source": [
    "#  Read The database\n",
    "QUERY = \"\"\"\n",
    "SELECT COUNT(*) FROM main\n",
    "\"\"\"\n",
    "df = pd.read_sql_query(QUERY, conn)\n",
    "df"
   ],
   "id": "2e675961a1e35b1c",
   "outputs": [
    {
     "data": {
      "text/plain": [
       "   COUNT(*)\n",
       "0     65437"
      ],
      "text/html": [
       "<div>\n",
       "<style scoped>\n",
       "    .dataframe tbody tr th:only-of-type {\n",
       "        vertical-align: middle;\n",
       "    }\n",
       "\n",
       "    .dataframe tbody tr th {\n",
       "        vertical-align: top;\n",
       "    }\n",
       "\n",
       "    .dataframe thead th {\n",
       "        text-align: right;\n",
       "    }\n",
       "</style>\n",
       "<table border=\"1\" class=\"dataframe\">\n",
       "  <thead>\n",
       "    <tr style=\"text-align: right;\">\n",
       "      <th></th>\n",
       "      <th>COUNT(*)</th>\n",
       "    </tr>\n",
       "  </thead>\n",
       "  <tbody>\n",
       "    <tr>\n",
       "      <th>0</th>\n",
       "      <td>65437</td>\n",
       "    </tr>\n",
       "  </tbody>\n",
       "</table>\n",
       "</div>"
      ]
     },
     "execution_count": 4,
     "metadata": {},
     "output_type": "execute_result"
    }
   ],
   "execution_count": 4
  },
  {
   "metadata": {
    "ExecuteTime": {
     "end_time": "2025-02-10T15:35:26.709162Z",
     "start_time": "2025-02-10T15:35:26.675412Z"
    }
   },
   "cell_type": "code",
   "source": [
    "# List of All Tables\n",
    "QUERY =\"\"\"\n",
    "SELECT name as Table_Name\n",
    "FROM sqlite_master\n",
    "WHERE type='table'\n",
    "\"\"\"\n",
    "table_info = pd.read_sql_query(QUERY, conn)\n",
    "table_info"
   ],
   "id": "31514c1fadf2714a",
   "outputs": [
    {
     "data": {
      "text/plain": [
       "  Table_Name\n",
       "0       main"
      ],
      "text/html": [
       "<div>\n",
       "<style scoped>\n",
       "    .dataframe tbody tr th:only-of-type {\n",
       "        vertical-align: middle;\n",
       "    }\n",
       "\n",
       "    .dataframe tbody tr th {\n",
       "        vertical-align: top;\n",
       "    }\n",
       "\n",
       "    .dataframe thead th {\n",
       "        text-align: right;\n",
       "    }\n",
       "</style>\n",
       "<table border=\"1\" class=\"dataframe\">\n",
       "  <thead>\n",
       "    <tr style=\"text-align: right;\">\n",
       "      <th></th>\n",
       "      <th>Table_Name</th>\n",
       "    </tr>\n",
       "  </thead>\n",
       "  <tbody>\n",
       "    <tr>\n",
       "      <th>0</th>\n",
       "      <td>main</td>\n",
       "    </tr>\n",
       "  </tbody>\n",
       "</table>\n",
       "</div>"
      ]
     },
     "execution_count": 5,
     "metadata": {},
     "output_type": "execute_result"
    }
   ],
   "execution_count": 5
  },
  {
   "metadata": {},
   "cell_type": "code",
   "outputs": [],
   "execution_count": null,
   "source": "",
   "id": "1cb4f95e2e82dd16"
  }
 ],
 "metadata": {
  "kernelspec": {
   "display_name": "Python 3",
   "language": "python",
   "name": "python3"
  },
  "language_info": {
   "codemirror_mode": {
    "name": "ipython",
    "version": 2
   },
   "file_extension": ".py",
   "mimetype": "text/x-python",
   "name": "python",
   "nbconvert_exporter": "python",
   "pygments_lexer": "ipython2",
   "version": "2.7.6"
  }
 },
 "nbformat": 4,
 "nbformat_minor": 5
}
