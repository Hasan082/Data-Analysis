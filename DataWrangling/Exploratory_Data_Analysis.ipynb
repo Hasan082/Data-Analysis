{
 "cells": [
  {
   "metadata": {},
   "cell_type": "markdown",
   "source": "# Exploratory Data Analysis",
   "id": "52c3bd6170dc9052"
  },
  {
   "metadata": {},
   "cell_type": "markdown",
   "source": [
    "# Objectives\n",
    "### After completing this lab you will be able to:\n",
    "* Explore features or characteristics to predict price of car\n",
    "* Analyze patterns and run descriptive statistical analysis\n",
    "* Group data based on identified parameters and create pivot tables\n",
    "* Identify the effect of independent attributes on price of cars"
   ],
   "id": "a4baad45d990e7e9"
  },
  {
   "metadata": {
    "ExecuteTime": {
     "end_time": "2025-01-12T14:00:53.553003Z",
     "start_time": "2025-01-12T14:00:53.427211Z"
    }
   },
   "cell_type": "code",
   "source": [
    "import pandas as pd\n",
    "import numpy as np\n",
    "import matplotlib.pyplot as plt\n",
    "%matplotlib inline\n",
    "import seaborn as sns\n",
    "import requests"
   ],
   "id": "70f07e5704d622b4",
   "outputs": [],
   "execution_count": 3
  },
  {
   "metadata": {},
   "cell_type": "markdown",
   "source": "# Download the csv from server",
   "id": "a25aedfc81c55ec7"
  },
  {
   "metadata": {
    "ExecuteTime": {
     "end_time": "2025-01-12T14:01:48.864395Z",
     "start_time": "2025-01-12T14:01:46.734131Z"
    }
   },
   "cell_type": "code",
   "source": [
    "file_path= \"https://cf-courses-data.s3.us.cloud-object-storage.appdomain.cloud/IBMDeveloperSkillsNetwork-DA0101EN-SkillsNetwork/labs/Data%20files/automobileEDA.csv\"\n",
    "\n",
    "response = requests.get(file_path)\n",
    "with open('automobileEDA.csv','wb') as f:\n",
    "    f.write(response.content)"
   ],
   "id": "5a2795e9efd97772",
   "outputs": [],
   "execution_count": 4
  },
  {
   "metadata": {},
   "cell_type": "markdown",
   "source": "# Make dataframe using pandas",
   "id": "779a598d1107bfed"
  },
  {
   "metadata": {
    "ExecuteTime": {
     "end_time": "2025-01-12T14:09:04.689981Z",
     "start_time": "2025-01-12T14:09:04.675186Z"
    }
   },
   "cell_type": "code",
   "source": "df = pd.read_csv(\"automobileEDA.csv\", header=0)",
   "id": "b6908c93e0265069",
   "outputs": [],
   "execution_count": 11
  },
  {
   "metadata": {},
   "cell_type": "markdown",
   "source": [
    "## How to choose the right visualization method?\n",
    "* When visualizing individual variables, it is important to first understand what type of variable you are dealing with. This will help us find the right visualization method for that variable."
   ],
   "id": "5db2759a857bc110"
  },
  {
   "metadata": {},
   "cell_type": "markdown",
   "source": [
    "## Question #1:¶\n",
    "#### What is the data type of the column \"peak-rpm\"?"
   ],
   "id": "91edd1becf741b0e"
  },
  {
   "metadata": {
    "ExecuteTime": {
     "end_time": "2025-01-12T14:13:07.997080Z",
     "start_time": "2025-01-12T14:13:07.987445Z"
    }
   },
   "cell_type": "code",
   "source": [
    "#Ans:\n",
    "df[\"peak-rpm\"].dtypes"
   ],
   "id": "4177bc2e4abc512c",
   "outputs": [
    {
     "data": {
      "text/plain": [
       "dtype('float64')"
      ]
     },
     "execution_count": 13,
     "metadata": {},
     "output_type": "execute_result"
    }
   ],
   "execution_count": 13
  },
  {
   "metadata": {},
   "cell_type": "markdown",
   "source": "## We can calculate the correlation between variables of type \"int64\" or \"float64\" using the method \"corr\":",
   "id": "5f244ee5c13cb917"
  },
  {
   "metadata": {
    "ExecuteTime": {
     "end_time": "2025-01-12T14:17:19.493598Z",
     "start_time": "2025-01-12T14:17:19.475935Z"
    }
   },
   "cell_type": "code",
   "source": [
    "numeric_df = df.select_dtypes(include=[\"int64\",\"float64\"])\n",
    "numeric_df.corr().head(5)"
   ],
   "id": "d1c602e5bd16c0e7",
   "outputs": [
    {
     "data": {
      "text/plain": [
       "                   symboling  normalized-losses  wheel-base    length  \\\n",
       "symboling           1.000000           0.466264   -0.535987 -0.365404   \n",
       "normalized-losses   0.466264           1.000000   -0.056661  0.019424   \n",
       "wheel-base         -0.535987          -0.056661    1.000000  0.876024   \n",
       "length             -0.365404           0.019424    0.876024  1.000000   \n",
       "width              -0.242423           0.086802    0.814507  0.857170   \n",
       "\n",
       "                      width    height  curb-weight  engine-size      bore  \\\n",
       "symboling         -0.242423 -0.550160    -0.233118    -0.110581 -0.140019   \n",
       "normalized-losses  0.086802 -0.373737     0.099404     0.112360 -0.029862   \n",
       "wheel-base         0.814507  0.590742     0.782097     0.572027  0.493244   \n",
       "length             0.857170  0.492063     0.880665     0.685025  0.608971   \n",
       "width              1.000000  0.306002     0.866201     0.729436  0.544885   \n",
       "\n",
       "                     stroke  compression-ratio  horsepower  peak-rpm  \\\n",
       "symboling         -0.008245          -0.182196    0.075819  0.279740   \n",
       "normalized-losses  0.055563          -0.114713    0.217299  0.239543   \n",
       "wheel-base         0.158502           0.250313    0.371147 -0.360305   \n",
       "length             0.124139           0.159733    0.579821 -0.285970   \n",
       "width              0.188829           0.189867    0.615077 -0.245800   \n",
       "\n",
       "                   city-mpg  highway-mpg     price  city-L/100km    diesel  \\\n",
       "symboling         -0.035527     0.036233 -0.082391      0.066171 -0.196735   \n",
       "normalized-losses -0.225016    -0.181877  0.133999      0.238567 -0.101546   \n",
       "wheel-base        -0.470606    -0.543304  0.584642      0.476153  0.307237   \n",
       "length            -0.665192    -0.698142  0.690628      0.657373  0.211187   \n",
       "width             -0.633531    -0.680635  0.751265      0.673363  0.244356   \n",
       "\n",
       "                        gas  \n",
       "symboling          0.196735  \n",
       "normalized-losses  0.101546  \n",
       "wheel-base        -0.307237  \n",
       "length            -0.211187  \n",
       "width             -0.244356  "
      ],
      "text/html": [
       "<div>\n",
       "<style scoped>\n",
       "    .dataframe tbody tr th:only-of-type {\n",
       "        vertical-align: middle;\n",
       "    }\n",
       "\n",
       "    .dataframe tbody tr th {\n",
       "        vertical-align: top;\n",
       "    }\n",
       "\n",
       "    .dataframe thead th {\n",
       "        text-align: right;\n",
       "    }\n",
       "</style>\n",
       "<table border=\"1\" class=\"dataframe\">\n",
       "  <thead>\n",
       "    <tr style=\"text-align: right;\">\n",
       "      <th></th>\n",
       "      <th>symboling</th>\n",
       "      <th>normalized-losses</th>\n",
       "      <th>wheel-base</th>\n",
       "      <th>length</th>\n",
       "      <th>width</th>\n",
       "      <th>height</th>\n",
       "      <th>curb-weight</th>\n",
       "      <th>engine-size</th>\n",
       "      <th>bore</th>\n",
       "      <th>stroke</th>\n",
       "      <th>compression-ratio</th>\n",
       "      <th>horsepower</th>\n",
       "      <th>peak-rpm</th>\n",
       "      <th>city-mpg</th>\n",
       "      <th>highway-mpg</th>\n",
       "      <th>price</th>\n",
       "      <th>city-L/100km</th>\n",
       "      <th>diesel</th>\n",
       "      <th>gas</th>\n",
       "    </tr>\n",
       "  </thead>\n",
       "  <tbody>\n",
       "    <tr>\n",
       "      <th>symboling</th>\n",
       "      <td>1.000000</td>\n",
       "      <td>0.466264</td>\n",
       "      <td>-0.535987</td>\n",
       "      <td>-0.365404</td>\n",
       "      <td>-0.242423</td>\n",
       "      <td>-0.550160</td>\n",
       "      <td>-0.233118</td>\n",
       "      <td>-0.110581</td>\n",
       "      <td>-0.140019</td>\n",
       "      <td>-0.008245</td>\n",
       "      <td>-0.182196</td>\n",
       "      <td>0.075819</td>\n",
       "      <td>0.279740</td>\n",
       "      <td>-0.035527</td>\n",
       "      <td>0.036233</td>\n",
       "      <td>-0.082391</td>\n",
       "      <td>0.066171</td>\n",
       "      <td>-0.196735</td>\n",
       "      <td>0.196735</td>\n",
       "    </tr>\n",
       "    <tr>\n",
       "      <th>normalized-losses</th>\n",
       "      <td>0.466264</td>\n",
       "      <td>1.000000</td>\n",
       "      <td>-0.056661</td>\n",
       "      <td>0.019424</td>\n",
       "      <td>0.086802</td>\n",
       "      <td>-0.373737</td>\n",
       "      <td>0.099404</td>\n",
       "      <td>0.112360</td>\n",
       "      <td>-0.029862</td>\n",
       "      <td>0.055563</td>\n",
       "      <td>-0.114713</td>\n",
       "      <td>0.217299</td>\n",
       "      <td>0.239543</td>\n",
       "      <td>-0.225016</td>\n",
       "      <td>-0.181877</td>\n",
       "      <td>0.133999</td>\n",
       "      <td>0.238567</td>\n",
       "      <td>-0.101546</td>\n",
       "      <td>0.101546</td>\n",
       "    </tr>\n",
       "    <tr>\n",
       "      <th>wheel-base</th>\n",
       "      <td>-0.535987</td>\n",
       "      <td>-0.056661</td>\n",
       "      <td>1.000000</td>\n",
       "      <td>0.876024</td>\n",
       "      <td>0.814507</td>\n",
       "      <td>0.590742</td>\n",
       "      <td>0.782097</td>\n",
       "      <td>0.572027</td>\n",
       "      <td>0.493244</td>\n",
       "      <td>0.158502</td>\n",
       "      <td>0.250313</td>\n",
       "      <td>0.371147</td>\n",
       "      <td>-0.360305</td>\n",
       "      <td>-0.470606</td>\n",
       "      <td>-0.543304</td>\n",
       "      <td>0.584642</td>\n",
       "      <td>0.476153</td>\n",
       "      <td>0.307237</td>\n",
       "      <td>-0.307237</td>\n",
       "    </tr>\n",
       "    <tr>\n",
       "      <th>length</th>\n",
       "      <td>-0.365404</td>\n",
       "      <td>0.019424</td>\n",
       "      <td>0.876024</td>\n",
       "      <td>1.000000</td>\n",
       "      <td>0.857170</td>\n",
       "      <td>0.492063</td>\n",
       "      <td>0.880665</td>\n",
       "      <td>0.685025</td>\n",
       "      <td>0.608971</td>\n",
       "      <td>0.124139</td>\n",
       "      <td>0.159733</td>\n",
       "      <td>0.579821</td>\n",
       "      <td>-0.285970</td>\n",
       "      <td>-0.665192</td>\n",
       "      <td>-0.698142</td>\n",
       "      <td>0.690628</td>\n",
       "      <td>0.657373</td>\n",
       "      <td>0.211187</td>\n",
       "      <td>-0.211187</td>\n",
       "    </tr>\n",
       "    <tr>\n",
       "      <th>width</th>\n",
       "      <td>-0.242423</td>\n",
       "      <td>0.086802</td>\n",
       "      <td>0.814507</td>\n",
       "      <td>0.857170</td>\n",
       "      <td>1.000000</td>\n",
       "      <td>0.306002</td>\n",
       "      <td>0.866201</td>\n",
       "      <td>0.729436</td>\n",
       "      <td>0.544885</td>\n",
       "      <td>0.188829</td>\n",
       "      <td>0.189867</td>\n",
       "      <td>0.615077</td>\n",
       "      <td>-0.245800</td>\n",
       "      <td>-0.633531</td>\n",
       "      <td>-0.680635</td>\n",
       "      <td>0.751265</td>\n",
       "      <td>0.673363</td>\n",
       "      <td>0.244356</td>\n",
       "      <td>-0.244356</td>\n",
       "    </tr>\n",
       "  </tbody>\n",
       "</table>\n",
       "</div>"
      ]
     },
     "execution_count": 19,
     "metadata": {},
     "output_type": "execute_result"
    }
   ],
   "execution_count": 19
  },
  {
   "metadata": {},
   "cell_type": "markdown",
   "source": [
    "# Question #2: \n",
    "### Find the correlation between the following columns: bore, stroke, compression-ratio, and horsepower.\n",
    "\n",
    "Hint: if you would like to select those columns, use the following syntax: df[['bore','stroke','compression-ratio','horsepower']]"
   ],
   "id": "a0236bec37d0d8c0"
  },
  {
   "metadata": {
    "ExecuteTime": {
     "end_time": "2025-01-12T14:23:04.994432Z",
     "start_time": "2025-01-12T14:23:04.971805Z"
    }
   },
   "cell_type": "code",
   "source": "df[['bore','stroke','compression-ratio','horsepower']].corr().head(2)",
   "id": "6d1c38cb52737cef",
   "outputs": [
    {
     "data": {
      "text/plain": [
       "           bore   stroke  compression-ratio  horsepower\n",
       "bore    1.00000 -0.05539           0.001263    0.566936\n",
       "stroke -0.05539  1.00000           0.187923    0.098462"
      ],
      "text/html": [
       "<div>\n",
       "<style scoped>\n",
       "    .dataframe tbody tr th:only-of-type {\n",
       "        vertical-align: middle;\n",
       "    }\n",
       "\n",
       "    .dataframe tbody tr th {\n",
       "        vertical-align: top;\n",
       "    }\n",
       "\n",
       "    .dataframe thead th {\n",
       "        text-align: right;\n",
       "    }\n",
       "</style>\n",
       "<table border=\"1\" class=\"dataframe\">\n",
       "  <thead>\n",
       "    <tr style=\"text-align: right;\">\n",
       "      <th></th>\n",
       "      <th>bore</th>\n",
       "      <th>stroke</th>\n",
       "      <th>compression-ratio</th>\n",
       "      <th>horsepower</th>\n",
       "    </tr>\n",
       "  </thead>\n",
       "  <tbody>\n",
       "    <tr>\n",
       "      <th>bore</th>\n",
       "      <td>1.00000</td>\n",
       "      <td>-0.05539</td>\n",
       "      <td>0.001263</td>\n",
       "      <td>0.566936</td>\n",
       "    </tr>\n",
       "    <tr>\n",
       "      <th>stroke</th>\n",
       "      <td>-0.05539</td>\n",
       "      <td>1.00000</td>\n",
       "      <td>0.187923</td>\n",
       "      <td>0.098462</td>\n",
       "    </tr>\n",
       "  </tbody>\n",
       "</table>\n",
       "</div>"
      ]
     },
     "execution_count": 22,
     "metadata": {},
     "output_type": "execute_result"
    }
   ],
   "execution_count": 22
  },
  {
   "metadata": {},
   "cell_type": "markdown",
   "source": [
    "# Positive Linear Relationship\n",
    "* Let's find the scatterplot of \"engine-size\" and \"price\"."
   ],
   "id": "621addd45e420930"
  },
  {
   "metadata": {
    "ExecuteTime": {
     "end_time": "2025-01-12T14:26:47.737376Z",
     "start_time": "2025-01-12T14:26:47.609872Z"
    }
   },
   "cell_type": "code",
   "source": [
    "sns.regplot(x = \"engine-size\", y = \"price\", data = df)\n",
    "plt.ylim(0,)"
   ],
   "id": "8988eee5dc947dec",
   "outputs": [
    {
     "data": {
      "text/plain": [
       "(0.0, 53425.38496855859)"
      ]
     },
     "execution_count": 24,
     "metadata": {},
     "output_type": "execute_result"
    },
    {
     "data": {
      "text/plain": [
       "<Figure size 640x480 with 1 Axes>"
      ],
      "image/png": "[encoded data removed]"
     },
     "metadata": {},
     "output_type": "display_data"
    }
   ],
   "execution_count": 24
  },
  {
   "metadata": {},
   "cell_type": "markdown",
   "source": "## Highway mpg is a potential predictor variable of price. Let's find the scatterplot of \"highway-mpg\" and \"price\".",
   "id": "bf03dc7b1dd32520"
  },
  {
   "metadata": {
    "ExecuteTime": {
     "end_time": "2025-01-12T14:30:24.944034Z",
     "start_time": "2025-01-12T14:30:24.784864Z"
    }
   },
   "cell_type": "code",
   "source": "sns.regplot(x = 'highway-mpg', y = 'price', data = df)",
   "id": "43a99e43a49056f0",
   "outputs": [
    {
     "data": {
      "text/plain": [
       "<Axes: xlabel='highway-mpg', ylabel='price'>"
      ]
     },
     "execution_count": 25,
     "metadata": {},
     "output_type": "execute_result"
    },
    {
     "data": {
      "text/plain": [
       "<Figure size 640x480 with 1 Axes>"
      ],
      "image/png": "[encoded data removed]"
     },
     "metadata": {},
     "output_type": "display_data"
    }
   ],
   "execution_count": 25
  },
  {
   "metadata": {
    "ExecuteTime": {
     "end_time": "2025-01-12T14:31:56.461225Z",
     "start_time": "2025-01-12T14:31:56.444238Z"
    }
   },
   "cell_type": "code",
   "source": [
    "df[['highway-mpg', 'price']].corr()\n",
    "# We can examine the correlation between 'highway-mpg' and 'price' and see it's approximately -0.704."
   ],
   "id": "210de334db474d72",
   "outputs": [
    {
     "data": {
      "text/plain": [
       "             highway-mpg     price\n",
       "highway-mpg     1.000000 -0.704692\n",
       "price          -0.704692  1.000000"
      ],
      "text/html": [
       "<div>\n",
       "<style scoped>\n",
       "    .dataframe tbody tr th:only-of-type {\n",
       "        vertical-align: middle;\n",
       "    }\n",
       "\n",
       "    .dataframe tbody tr th {\n",
       "        vertical-align: top;\n",
       "    }\n",
       "\n",
       "    .dataframe thead th {\n",
       "        text-align: right;\n",
       "    }\n",
       "</style>\n",
       "<table border=\"1\" class=\"dataframe\">\n",
       "  <thead>\n",
       "    <tr style=\"text-align: right;\">\n",
       "      <th></th>\n",
       "      <th>highway-mpg</th>\n",
       "      <th>price</th>\n",
       "    </tr>\n",
       "  </thead>\n",
       "  <tbody>\n",
       "    <tr>\n",
       "      <th>highway-mpg</th>\n",
       "      <td>1.000000</td>\n",
       "      <td>-0.704692</td>\n",
       "    </tr>\n",
       "    <tr>\n",
       "      <th>price</th>\n",
       "      <td>-0.704692</td>\n",
       "      <td>1.000000</td>\n",
       "    </tr>\n",
       "  </tbody>\n",
       "</table>\n",
       "</div>"
      ]
     },
     "execution_count": 27,
     "metadata": {},
     "output_type": "execute_result"
    }
   ],
   "execution_count": 27
  },
  {
   "metadata": {},
   "cell_type": "markdown",
   "source": "# Weak Linear Relationship",
   "id": "aa80bb34ef17b138"
  },
  {
   "metadata": {},
   "cell_type": "markdown",
   "source": "### Let's see if \"peak-rpm\" is a predictor variable of \"price\".",
   "id": "5071e2e7e182eb14"
  },
  {
   "metadata": {
    "ExecuteTime": {
     "end_time": "2025-01-12T14:34:07.932485Z",
     "start_time": "2025-01-12T14:34:07.806467Z"
    }
   },
   "cell_type": "code",
   "source": [
    "sns.regplot(x=\"peak-rpm\", y=\"price\", data=df)\n",
    "df[['peak-rpm','price']].corr()"
   ],
   "id": "f4c8817f8cc23f49",
   "outputs": [
    {
     "data": {
      "text/plain": [
       "          peak-rpm     price\n",
       "peak-rpm  1.000000 -0.101616\n",
       "price    -0.101616  1.000000"
      ],
      "text/html": [
       "<div>\n",
       "<style scoped>\n",
       "    .dataframe tbody tr th:only-of-type {\n",
       "        vertical-align: middle;\n",
       "    }\n",
       "\n",
       "    .dataframe tbody tr th {\n",
       "        vertical-align: top;\n",
       "    }\n",
       "\n",
       "    .dataframe thead th {\n",
       "        text-align: right;\n",
       "    }\n",
       "</style>\n",
       "<table border=\"1\" class=\"dataframe\">\n",
       "  <thead>\n",
       "    <tr style=\"text-align: right;\">\n",
       "      <th></th>\n",
       "      <th>peak-rpm</th>\n",
       "      <th>price</th>\n",
       "    </tr>\n",
       "  </thead>\n",
       "  <tbody>\n",
       "    <tr>\n",
       "      <th>peak-rpm</th>\n",
       "      <td>1.000000</td>\n",
       "      <td>-0.101616</td>\n",
       "    </tr>\n",
       "    <tr>\n",
       "      <th>price</th>\n",
       "      <td>-0.101616</td>\n",
       "      <td>1.000000</td>\n",
       "    </tr>\n",
       "  </tbody>\n",
       "</table>\n",
       "</div>"
      ]
     },
     "execution_count": 28,
     "metadata": {},
     "output_type": "execute_result"
    },
    {
     "data": {
      "text/plain": [
       "<Figure size 640x480 with 1 Axes>"
      ],
      "image/png": "[encoded data removed]"
     },
     "metadata": {},
     "output_type": "display_data"
    }
   ],
   "execution_count": 28
  },
  {
   "metadata": {},
   "cell_type": "markdown",
   "source": [
    "# Question 3 a): \n",
    "### Find the correlation between x=\"stroke\" and y=\"price\".\n",
    "\n",
    "Hint: if you would like to select those columns, use the following syntax: df[[\"stroke\",\"price\"]]."
   ],
   "id": "8509c69feea7b4ac"
  },
  {
   "metadata": {
    "ExecuteTime": {
     "end_time": "2025-01-12T14:40:00.735434Z",
     "start_time": "2025-01-12T14:40:00.714882Z"
    }
   },
   "cell_type": "code",
   "source": "df[[\"stroke\",\"price\"]].corr()",
   "id": "827448401d61eac7",
   "outputs": [
    {
     "data": {
      "text/plain": [
       "         stroke    price\n",
       "stroke  1.00000  0.08231\n",
       "price   0.08231  1.00000"
      ],
      "text/html": [
       "<div>\n",
       "<style scoped>\n",
       "    .dataframe tbody tr th:only-of-type {\n",
       "        vertical-align: middle;\n",
       "    }\n",
       "\n",
       "    .dataframe tbody tr th {\n",
       "        vertical-align: top;\n",
       "    }\n",
       "\n",
       "    .dataframe thead th {\n",
       "        text-align: right;\n",
       "    }\n",
       "</style>\n",
       "<table border=\"1\" class=\"dataframe\">\n",
       "  <thead>\n",
       "    <tr style=\"text-align: right;\">\n",
       "      <th></th>\n",
       "      <th>stroke</th>\n",
       "      <th>price</th>\n",
       "    </tr>\n",
       "  </thead>\n",
       "  <tbody>\n",
       "    <tr>\n",
       "      <th>stroke</th>\n",
       "      <td>1.00000</td>\n",
       "      <td>0.08231</td>\n",
       "    </tr>\n",
       "    <tr>\n",
       "      <th>price</th>\n",
       "      <td>0.08231</td>\n",
       "      <td>1.00000</td>\n",
       "    </tr>\n",
       "  </tbody>\n",
       "</table>\n",
       "</div>"
      ]
     },
     "execution_count": 35,
     "metadata": {},
     "output_type": "execute_result"
    }
   ],
   "execution_count": 35
  },
  {
   "metadata": {},
   "cell_type": "markdown",
   "source": [
    "# Question 3 b):\n",
    "### Given the correlation results between \"price\" and \"stroke\", do you expect a linear relationship?\n",
    "\n",
    "Verify your results using the function \"regplot()\"."
   ],
   "id": "1f79c58b833c6f60"
  },
  {
   "metadata": {
    "ExecuteTime": {
     "end_time": "2025-01-12T14:40:06.926923Z",
     "start_time": "2025-01-12T14:40:06.826091Z"
    }
   },
   "cell_type": "code",
   "source": "sns.regplot(x=\"stroke\", y=\"price\", data=df)",
   "id": "bb9b8f53becaf794",
   "outputs": [
    {
     "data": {
      "text/plain": [
       "<Axes: xlabel='stroke', ylabel='price'>"
      ]
     },
     "execution_count": 36,
     "metadata": {},
     "output_type": "execute_result"
    },
    {
     "data": {
      "text/plain": [
       "<Figure size 640x480 with 1 Axes>"
      ],
      "image/png": "[encoded data removed]"
     },
     "metadata": {},
     "output_type": "display_data"
    }
   ],
   "execution_count": 36
  },
  {
   "metadata": {},
   "cell_type": "markdown",
   "source": [
    "# Categorical Variables\n",
    "* These are variables that describe a 'characteristic' of a data unit, and are selected from a small group of categories. The categorical variables can have the type \"object\" or \"int64\". A good way to visualize categorical variables is by using boxplots.\n",
    "\n",
    "#### Let's look at the relationship between \"body-style\" and \"price\"."
   ],
   "id": "f14ba61631b79c6d"
  },
  {
   "metadata": {
    "ExecuteTime": {
     "end_time": "2025-01-12T14:42:52.828498Z",
     "start_time": "2025-01-12T14:42:52.681312Z"
    }
   },
   "cell_type": "code",
   "source": "sns.boxplot(x = \"body-style\", y = \"price\", data = df)",
   "id": "73035131f68a2f83",
   "outputs": [
    {
     "data": {
      "text/plain": [
       "<Axes: xlabel='body-style', ylabel='price'>"
      ]
     },
     "execution_count": 37,
     "metadata": {},
     "output_type": "execute_result"
    },
    {
     "data": {
      "text/plain": [
       "<Figure size 640x480 with 1 Axes>"
      ],
      "image/png": "[encoded data removed]"
     },
     "metadata": {},
     "output_type": "display_data"
    }
   ],
   "execution_count": 37
  },
  {
   "metadata": {},
   "cell_type": "markdown",
   "source": "##### We see that the distributions of price between the different body-style categories have a significant overlap, so body-style would not be a good predictor of price. Let's examine engine \"engine-location\" and \"price\":",
   "id": "e670802b0ed8ccc0"
  },
  {
   "metadata": {
    "ExecuteTime": {
     "end_time": "2025-01-12T14:43:49.539802Z",
     "start_time": "2025-01-12T14:43:49.464550Z"
    }
   },
   "cell_type": "code",
   "source": "sns.boxplot(x=\"engine-location\", y=\"price\", data=df)",
   "id": "f0f94af68ad9ec79",
   "outputs": [
    {
     "data": {
      "text/plain": [
       "<Axes: xlabel='engine-location', ylabel='price'>"
      ]
     },
     "execution_count": 38,
     "metadata": {},
     "output_type": "execute_result"
    },
    {
     "data": {
      "text/plain": [
       "<Figure size 640x480 with 1 Axes>"
      ],
      "image/png": "[encoded data removed]"
     },
     "metadata": {},
     "output_type": "display_data"
    }
   ],
   "execution_count": 38
  },
  {
   "metadata": {
    "ExecuteTime": {
     "end_time": "2025-01-12T14:44:34.864366Z",
     "start_time": "2025-01-12T14:44:34.777920Z"
    }
   },
   "cell_type": "code",
   "source": [
    "# drive-wheels\n",
    "sns.boxplot(x=\"drive-wheels\", y=\"price\", data=df)"
   ],
   "id": "d9d6b4fe19d9bd56",
   "outputs": [
    {
     "data": {
      "text/plain": [
       "<Axes: xlabel='drive-wheels', ylabel='price'>"
      ]
     },
     "execution_count": 39,
     "metadata": {},
     "output_type": "execute_result"
    },
    {
     "data": {
      "text/plain": [
       "<Figure size 640x480 with 1 Axes>"
      ],
      "image/png": "[encoded data removed]"
     },
     "metadata": {},
     "output_type": "display_data"
    }
   ],
   "execution_count": 39
  },
  {
   "metadata": {},
   "cell_type": "markdown",
   "source": [
    "# Descriptive Statistical Analysis\n",
    "## Let's first take a look at the variables by utilizing a description method.\n",
    "\n",
    "### The describe function automatically computes basic statistics for all continuous variables. Any NaN values are automatically skipped in these statistics.\n",
    "\n",
    "This will show:\n",
    "* the count of that variable\n",
    "* the mean\n",
    "* the standard deviation (std)\n",
    "* the minimum value\n",
    "* the IQR (Interquartile Range: 25%, 50% and 75%)\n",
    "* the maximum value"
   ],
   "id": "63c0d05a08d5dbc8"
  },
  {
   "metadata": {
    "ExecuteTime": {
     "end_time": "2025-01-12T14:46:04.579827Z",
     "start_time": "2025-01-12T14:46:04.557420Z"
    }
   },
   "cell_type": "code",
   "source": "df.describe(include=['object'])",
   "id": "5347b4fb09a5b7f4",
   "outputs": [
    {
     "data": {
      "text/plain": [
       "          make aspiration num-of-doors body-style drive-wheels  \\\n",
       "count      201        201          201        201          201   \n",
       "unique      22          2            2          5            3   \n",
       "top     toyota        std         four      sedan          fwd   \n",
       "freq        32        165          115         94          118   \n",
       "\n",
       "       engine-location engine-type num-of-cylinders fuel-system  \\\n",
       "count              201         201              201         201   \n",
       "unique               2           6                7           8   \n",
       "top              front         ohc             four        mpfi   \n",
       "freq               198         145              157          92   \n",
       "\n",
       "       horsepower-binned  \n",
       "count                200  \n",
       "unique                 3  \n",
       "top                  Low  \n",
       "freq                 115  "
      ],
      "text/html": [
       "<div>\n",
       "<style scoped>\n",
       "    .dataframe tbody tr th:only-of-type {\n",
       "        vertical-align: middle;\n",
       "    }\n",
       "\n",
       "    .dataframe tbody tr th {\n",
       "        vertical-align: top;\n",
       "    }\n",
       "\n",
       "    .dataframe thead th {\n",
       "        text-align: right;\n",
       "    }\n",
       "</style>\n",
       "<table border=\"1\" class=\"dataframe\">\n",
       "  <thead>\n",
       "    <tr style=\"text-align: right;\">\n",
       "      <th></th>\n",
       "      <th>make</th>\n",
       "      <th>aspiration</th>\n",
       "      <th>num-of-doors</th>\n",
       "      <th>body-style</th>\n",
       "      <th>drive-wheels</th>\n",
       "      <th>engine-location</th>\n",
       "      <th>engine-type</th>\n",
       "      <th>num-of-cylinders</th>\n",
       "      <th>fuel-system</th>\n",
       "      <th>horsepower-binned</th>\n",
       "    </tr>\n",
       "  </thead>\n",
       "  <tbody>\n",
       "    <tr>\n",
       "      <th>count</th>\n",
       "      <td>201</td>\n",
       "      <td>201</td>\n",
       "      <td>201</td>\n",
       "      <td>201</td>\n",
       "      <td>201</td>\n",
       "      <td>201</td>\n",
       "      <td>201</td>\n",
       "      <td>201</td>\n",
       "      <td>201</td>\n",
       "      <td>200</td>\n",
       "    </tr>\n",
       "    <tr>\n",
       "      <th>unique</th>\n",
       "      <td>22</td>\n",
       "      <td>2</td>\n",
       "      <td>2</td>\n",
       "      <td>5</td>\n",
       "      <td>3</td>\n",
       "      <td>2</td>\n",
       "      <td>6</td>\n",
       "      <td>7</td>\n",
       "      <td>8</td>\n",
       "      <td>3</td>\n",
       "    </tr>\n",
       "    <tr>\n",
       "      <th>top</th>\n",
       "      <td>toyota</td>\n",
       "      <td>std</td>\n",
       "      <td>four</td>\n",
       "      <td>sedan</td>\n",
       "      <td>fwd</td>\n",
       "      <td>front</td>\n",
       "      <td>ohc</td>\n",
       "      <td>four</td>\n",
       "      <td>mpfi</td>\n",
       "      <td>Low</td>\n",
       "    </tr>\n",
       "    <tr>\n",
       "      <th>freq</th>\n",
       "      <td>32</td>\n",
       "      <td>165</td>\n",
       "      <td>115</td>\n",
       "      <td>94</td>\n",
       "      <td>118</td>\n",
       "      <td>198</td>\n",
       "      <td>145</td>\n",
       "      <td>157</td>\n",
       "      <td>92</td>\n",
       "      <td>115</td>\n",
       "    </tr>\n",
       "  </tbody>\n",
       "</table>\n",
       "</div>"
      ]
     },
     "execution_count": 41,
     "metadata": {},
     "output_type": "execute_result"
    }
   ],
   "execution_count": 41
  },
  {
   "metadata": {},
   "cell_type": "markdown",
   "source": "### Value Counts",
   "id": "44b48d3d47a679d2"
  },
  {
   "metadata": {
    "ExecuteTime": {
     "end_time": "2025-01-12T14:51:45.760222Z",
     "start_time": "2025-01-12T14:51:45.731329Z"
    }
   },
   "cell_type": "code",
   "source": [
    "drive_wheels_counts = df['drive-wheels'].value_counts().to_frame()\n",
    "drive_wheels_counts.reset_index(inplace=True)\n",
    "drive_wheels_counts=drive_wheels_counts.rename(columns={'drive-wheels': 'value_counts'})\n",
    "drive_wheels_counts"
   ],
   "id": "918ef0770d082372",
   "outputs": [
    {
     "data": {
      "text/plain": [
       "  value_counts  count\n",
       "0          fwd    118\n",
       "1          rwd     75\n",
       "2          4wd      8"
      ],
      "text/html": [
       "<div>\n",
       "<style scoped>\n",
       "    .dataframe tbody tr th:only-of-type {\n",
       "        vertical-align: middle;\n",
       "    }\n",
       "\n",
       "    .dataframe tbody tr th {\n",
       "        vertical-align: top;\n",
       "    }\n",
       "\n",
       "    .dataframe thead th {\n",
       "        text-align: right;\n",
       "    }\n",
       "</style>\n",
       "<table border=\"1\" class=\"dataframe\">\n",
       "  <thead>\n",
       "    <tr style=\"text-align: right;\">\n",
       "      <th></th>\n",
       "      <th>value_counts</th>\n",
       "      <th>count</th>\n",
       "    </tr>\n",
       "  </thead>\n",
       "  <tbody>\n",
       "    <tr>\n",
       "      <th>0</th>\n",
       "      <td>fwd</td>\n",
       "      <td>118</td>\n",
       "    </tr>\n",
       "    <tr>\n",
       "      <th>1</th>\n",
       "      <td>rwd</td>\n",
       "      <td>75</td>\n",
       "    </tr>\n",
       "    <tr>\n",
       "      <th>2</th>\n",
       "      <td>4wd</td>\n",
       "      <td>8</td>\n",
       "    </tr>\n",
       "  </tbody>\n",
       "</table>\n",
       "</div>"
      ]
     },
     "execution_count": 45,
     "metadata": {},
     "output_type": "execute_result"
    }
   ],
   "execution_count": 45
  },
  {
   "metadata": {},
   "cell_type": "markdown",
   "source": "### Now let's rename the index to 'drive-wheels':",
   "id": "54cf8c5d478fb376"
  },
  {
   "metadata": {
    "ExecuteTime": {
     "end_time": "2025-01-12T14:52:33.280600Z",
     "start_time": "2025-01-12T14:52:33.267615Z"
    }
   },
   "cell_type": "code",
   "source": [
    "drive_wheels_counts.index.name = 'drive-wheels'\n",
    "drive_wheels_counts"
   ],
   "id": "366538f11d77b7d1",
   "outputs": [
    {
     "data": {
      "text/plain": [
       "             value_counts  count\n",
       "drive-wheels                    \n",
       "0                     fwd    118\n",
       "1                     rwd     75\n",
       "2                     4wd      8"
      ],
      "text/html": [
       "<div>\n",
       "<style scoped>\n",
       "    .dataframe tbody tr th:only-of-type {\n",
       "        vertical-align: middle;\n",
       "    }\n",
       "\n",
       "    .dataframe tbody tr th {\n",
       "        vertical-align: top;\n",
       "    }\n",
       "\n",
       "    .dataframe thead th {\n",
       "        text-align: right;\n",
       "    }\n",
       "</style>\n",
       "<table border=\"1\" class=\"dataframe\">\n",
       "  <thead>\n",
       "    <tr style=\"text-align: right;\">\n",
       "      <th></th>\n",
       "      <th>value_counts</th>\n",
       "      <th>count</th>\n",
       "    </tr>\n",
       "    <tr>\n",
       "      <th>drive-wheels</th>\n",
       "      <th></th>\n",
       "      <th></th>\n",
       "    </tr>\n",
       "  </thead>\n",
       "  <tbody>\n",
       "    <tr>\n",
       "      <th>0</th>\n",
       "      <td>fwd</td>\n",
       "      <td>118</td>\n",
       "    </tr>\n",
       "    <tr>\n",
       "      <th>1</th>\n",
       "      <td>rwd</td>\n",
       "      <td>75</td>\n",
       "    </tr>\n",
       "    <tr>\n",
       "      <th>2</th>\n",
       "      <td>4wd</td>\n",
       "      <td>8</td>\n",
       "    </tr>\n",
       "  </tbody>\n",
       "</table>\n",
       "</div>"
      ]
     },
     "execution_count": 46,
     "metadata": {},
     "output_type": "execute_result"
    }
   ],
   "execution_count": 46
  },
  {
   "metadata": {},
   "cell_type": "markdown",
   "source": "### We can repeat the above process for the variable 'engine-location'.",
   "id": "e8a37dd0ca862302"
  },
  {
   "metadata": {
    "ExecuteTime": {
     "end_time": "2025-01-12T14:53:16.936964Z",
     "start_time": "2025-01-12T14:53:16.922098Z"
    }
   },
   "cell_type": "code",
   "source": [
    "# engine-location as variable\n",
    "engine_loc_counts = df['engine-location'].value_counts().to_frame()\n",
    "engine_loc_counts.rename(columns={'engine-location': 'value_counts'}, inplace=True)\n",
    "engine_loc_counts.index.name = 'engine-location'\n",
    "engine_loc_counts.head(10)"
   ],
   "id": "bf19f2fe5522519b",
   "outputs": [
    {
     "data": {
      "text/plain": [
       "                 count\n",
       "engine-location       \n",
       "front              198\n",
       "rear                 3"
      ],
      "text/html": [
       "<div>\n",
       "<style scoped>\n",
       "    .dataframe tbody tr th:only-of-type {\n",
       "        vertical-align: middle;\n",
       "    }\n",
       "\n",
       "    .dataframe tbody tr th {\n",
       "        vertical-align: top;\n",
       "    }\n",
       "\n",
       "    .dataframe thead th {\n",
       "        text-align: right;\n",
       "    }\n",
       "</style>\n",
       "<table border=\"1\" class=\"dataframe\">\n",
       "  <thead>\n",
       "    <tr style=\"text-align: right;\">\n",
       "      <th></th>\n",
       "      <th>count</th>\n",
       "    </tr>\n",
       "    <tr>\n",
       "      <th>engine-location</th>\n",
       "      <th></th>\n",
       "    </tr>\n",
       "  </thead>\n",
       "  <tbody>\n",
       "    <tr>\n",
       "      <th>front</th>\n",
       "      <td>198</td>\n",
       "    </tr>\n",
       "    <tr>\n",
       "      <th>rear</th>\n",
       "      <td>3</td>\n",
       "    </tr>\n",
       "  </tbody>\n",
       "</table>\n",
       "</div>"
      ]
     },
     "execution_count": 47,
     "metadata": {},
     "output_type": "execute_result"
    }
   ],
   "execution_count": 47
  },
  {
   "metadata": {},
   "cell_type": "markdown",
   "source": "## Basics of Grouping",
   "id": "5174083f440ee47f"
  },
  {
   "metadata": {
    "ExecuteTime": {
     "end_time": "2025-01-12T14:54:22.587410Z",
     "start_time": "2025-01-12T14:54:22.574162Z"
    }
   },
   "cell_type": "code",
   "source": "df['drive-wheels'].unique()",
   "id": "586cd064f26ba4a0",
   "outputs": [
    {
     "data": {
      "text/plain": [
       "array(['rwd', 'fwd', '4wd'], dtype=object)"
      ]
     },
     "execution_count": 48,
     "metadata": {},
     "output_type": "execute_result"
    }
   ],
   "execution_count": 48
  },
  {
   "metadata": {
    "ExecuteTime": {
     "end_time": "2025-01-12T14:54:47.145191Z",
     "start_time": "2025-01-12T14:54:47.129323Z"
    }
   },
   "cell_type": "code",
   "source": "df_group_one = df[['drive-wheels','body-style','price']]",
   "id": "e9eb26478297fd39",
   "outputs": [],
   "execution_count": 50
  },
  {
   "metadata": {
    "ExecuteTime": {
     "end_time": "2025-01-12T14:55:45.046487Z",
     "start_time": "2025-01-12T14:55:45.019958Z"
    }
   },
   "cell_type": "code",
   "source": [
    "# grouping results\n",
    "df_grouped = df_group_one.groupby(['drive-wheels'], as_index=False).agg({'price': 'mean'})\n",
    "df_grouped"
   ],
   "id": "162129538bbe4e8a",
   "outputs": [
    {
     "data": {
      "text/plain": [
       "  drive-wheels         price\n",
       "0          4wd  10241.000000\n",
       "1          fwd   9244.779661\n",
       "2          rwd  19757.613333"
      ],
      "text/html": [
       "<div>\n",
       "<style scoped>\n",
       "    .dataframe tbody tr th:only-of-type {\n",
       "        vertical-align: middle;\n",
       "    }\n",
       "\n",
       "    .dataframe tbody tr th {\n",
       "        vertical-align: top;\n",
       "    }\n",
       "\n",
       "    .dataframe thead th {\n",
       "        text-align: right;\n",
       "    }\n",
       "</style>\n",
       "<table border=\"1\" class=\"dataframe\">\n",
       "  <thead>\n",
       "    <tr style=\"text-align: right;\">\n",
       "      <th></th>\n",
       "      <th>drive-wheels</th>\n",
       "      <th>price</th>\n",
       "    </tr>\n",
       "  </thead>\n",
       "  <tbody>\n",
       "    <tr>\n",
       "      <th>0</th>\n",
       "      <td>4wd</td>\n",
       "      <td>10241.000000</td>\n",
       "    </tr>\n",
       "    <tr>\n",
       "      <th>1</th>\n",
       "      <td>fwd</td>\n",
       "      <td>9244.779661</td>\n",
       "    </tr>\n",
       "    <tr>\n",
       "      <th>2</th>\n",
       "      <td>rwd</td>\n",
       "      <td>19757.613333</td>\n",
       "    </tr>\n",
       "  </tbody>\n",
       "</table>\n",
       "</div>"
      ]
     },
     "execution_count": 51,
     "metadata": {},
     "output_type": "execute_result"
    }
   ],
   "execution_count": 51
  },
  {
   "metadata": {},
   "cell_type": "markdown",
   "source": [
    "### From our data, it seems rear-wheel drive vehicles are, on average, the most expensive, while 4-wheel and front-wheel are approximately the same in price.\n",
    "\n",
    "#### You can also group by multiple variables. For example, let's group by both 'drive-wheels' and 'body-style'. This groups the dataframe by the unique combination of 'drive-wheels' and 'body-style'. We can store the results in the variable 'grouped_test1'."
   ],
   "id": "cef8d352faa40514"
  },
  {
   "metadata": {
    "ExecuteTime": {
     "end_time": "2025-01-12T14:57:52.566307Z",
     "start_time": "2025-01-12T14:57:52.501022Z"
    }
   },
   "cell_type": "code",
   "source": [
    "# grouping results\n",
    "df_gptest = df[['drive-wheels','body-style','price']]\n",
    "grouped_test1 = df_gptest.groupby(['drive-wheels','body-style'],as_index=False).mean()\n",
    "grouped_test1"
   ],
   "id": "c339f9f125faf777",
   "outputs": [
    {
     "data": {
      "text/plain": [
       "   drive-wheels   body-style         price\n",
       "0           4wd    hatchback   7603.000000\n",
       "1           4wd        sedan  12647.333333\n",
       "2           4wd        wagon   9095.750000\n",
       "3           fwd  convertible  11595.000000\n",
       "4           fwd      hardtop   8249.000000\n",
       "5           fwd    hatchback   8396.387755\n",
       "6           fwd        sedan   9811.800000\n",
       "7           fwd        wagon   9997.333333\n",
       "8           rwd  convertible  23949.600000\n",
       "9           rwd      hardtop  24202.714286\n",
       "10          rwd    hatchback  14337.777778\n",
       "11          rwd        sedan  21711.833333\n",
       "12          rwd        wagon  16994.222222"
      ],
      "text/html": [
       "<div>\n",
       "<style scoped>\n",
       "    .dataframe tbody tr th:only-of-type {\n",
       "        vertical-align: middle;\n",
       "    }\n",
       "\n",
       "    .dataframe tbody tr th {\n",
       "        vertical-align: top;\n",
       "    }\n",
       "\n",
       "    .dataframe thead th {\n",
       "        text-align: right;\n",
       "    }\n",
       "</style>\n",
       "<table border=\"1\" class=\"dataframe\">\n",
       "  <thead>\n",
       "    <tr style=\"text-align: right;\">\n",
       "      <th></th>\n",
       "      <th>drive-wheels</th>\n",
       "      <th>body-style</th>\n",
       "      <th>price</th>\n",
       "    </tr>\n",
       "  </thead>\n",
       "  <tbody>\n",
       "    <tr>\n",
       "      <th>0</th>\n",
       "      <td>4wd</td>\n",
       "      <td>hatchback</td>\n",
       "      <td>7603.000000</td>\n",
       "    </tr>\n",
       "    <tr>\n",
       "      <th>1</th>\n",
       "      <td>4wd</td>\n",
       "      <td>sedan</td>\n",
       "      <td>12647.333333</td>\n",
       "    </tr>\n",
       "    <tr>\n",
       "      <th>2</th>\n",
       "      <td>4wd</td>\n",
       "      <td>wagon</td>\n",
       "      <td>9095.750000</td>\n",
       "    </tr>\n",
       "    <tr>\n",
       "      <th>3</th>\n",
       "      <td>fwd</td>\n",
       "      <td>convertible</td>\n",
       "      <td>11595.000000</td>\n",
       "    </tr>\n",
       "    <tr>\n",
       "      <th>4</th>\n",
       "      <td>fwd</td>\n",
       "      <td>hardtop</td>\n",
       "      <td>8249.000000</td>\n",
       "    </tr>\n",
       "    <tr>\n",
       "      <th>5</th>\n",
       "      <td>fwd</td>\n",
       "      <td>hatchback</td>\n",
       "      <td>8396.387755</td>\n",
       "    </tr>\n",
       "    <tr>\n",
       "      <th>6</th>\n",
       "      <td>fwd</td>\n",
       "      <td>sedan</td>\n",
       "      <td>9811.800000</td>\n",
       "    </tr>\n",
       "    <tr>\n",
       "      <th>7</th>\n",
       "      <td>fwd</td>\n",
       "      <td>wagon</td>\n",
       "      <td>9997.333333</td>\n",
       "    </tr>\n",
       "    <tr>\n",
       "      <th>8</th>\n",
       "      <td>rwd</td>\n",
       "      <td>convertible</td>\n",
       "      <td>23949.600000</td>\n",
       "    </tr>\n",
       "    <tr>\n",
       "      <th>9</th>\n",
       "      <td>rwd</td>\n",
       "      <td>hardtop</td>\n",
       "      <td>24202.714286</td>\n",
       "    </tr>\n",
       "    <tr>\n",
       "      <th>10</th>\n",
       "      <td>rwd</td>\n",
       "      <td>hatchback</td>\n",
       "      <td>14337.777778</td>\n",
       "    </tr>\n",
       "    <tr>\n",
       "      <th>11</th>\n",
       "      <td>rwd</td>\n",
       "      <td>sedan</td>\n",
       "      <td>21711.833333</td>\n",
       "    </tr>\n",
       "    <tr>\n",
       "      <th>12</th>\n",
       "      <td>rwd</td>\n",
       "      <td>wagon</td>\n",
       "      <td>16994.222222</td>\n",
       "    </tr>\n",
       "  </tbody>\n",
       "</table>\n",
       "</div>"
      ]
     },
     "execution_count": 52,
     "metadata": {},
     "output_type": "execute_result"
    }
   ],
   "execution_count": 52
  },
  {
   "metadata": {
    "ExecuteTime": {
     "end_time": "2025-01-12T14:58:43.512150Z",
     "start_time": "2025-01-12T14:58:43.446491Z"
    }
   },
   "cell_type": "code",
   "source": [
    "grouped_pivot = grouped_test1.pivot(index='drive-wheels',columns='body-style')\n",
    "grouped_pivot"
   ],
   "id": "264d9010f35f5c69",
   "outputs": [
    {
     "data": {
      "text/plain": [
       "                   price                                            \\\n",
       "body-style   convertible       hardtop     hatchback         sedan   \n",
       "drive-wheels                                                         \n",
       "4wd                  NaN           NaN   7603.000000  12647.333333   \n",
       "fwd              11595.0   8249.000000   8396.387755   9811.800000   \n",
       "rwd              23949.6  24202.714286  14337.777778  21711.833333   \n",
       "\n",
       "                            \n",
       "body-style           wagon  \n",
       "drive-wheels                \n",
       "4wd            9095.750000  \n",
       "fwd            9997.333333  \n",
       "rwd           16994.222222  "
      ],
      "text/html": [
       "<div>\n",
       "<style scoped>\n",
       "    .dataframe tbody tr th:only-of-type {\n",
       "        vertical-align: middle;\n",
       "    }\n",
       "\n",
       "    .dataframe tbody tr th {\n",
       "        vertical-align: top;\n",
       "    }\n",
       "\n",
       "    .dataframe thead tr th {\n",
       "        text-align: left;\n",
       "    }\n",
       "\n",
       "    .dataframe thead tr:last-of-type th {\n",
       "        text-align: right;\n",
       "    }\n",
       "</style>\n",
       "<table border=\"1\" class=\"dataframe\">\n",
       "  <thead>\n",
       "    <tr>\n",
       "      <th></th>\n",
       "      <th colspan=\"5\" halign=\"left\">price</th>\n",
       "    </tr>\n",
       "    <tr>\n",
       "      <th>body-style</th>\n",
       "      <th>convertible</th>\n",
       "      <th>hardtop</th>\n",
       "      <th>hatchback</th>\n",
       "      <th>sedan</th>\n",
       "      <th>wagon</th>\n",
       "    </tr>\n",
       "    <tr>\n",
       "      <th>drive-wheels</th>\n",
       "      <th></th>\n",
       "      <th></th>\n",
       "      <th></th>\n",
       "      <th></th>\n",
       "      <th></th>\n",
       "    </tr>\n",
       "  </thead>\n",
       "  <tbody>\n",
       "    <tr>\n",
       "      <th>4wd</th>\n",
       "      <td>NaN</td>\n",
       "      <td>NaN</td>\n",
       "      <td>7603.000000</td>\n",
       "      <td>12647.333333</td>\n",
       "      <td>9095.750000</td>\n",
       "    </tr>\n",
       "    <tr>\n",
       "      <th>fwd</th>\n",
       "      <td>11595.0</td>\n",
       "      <td>8249.000000</td>\n",
       "      <td>8396.387755</td>\n",
       "      <td>9811.800000</td>\n",
       "      <td>9997.333333</td>\n",
       "    </tr>\n",
       "    <tr>\n",
       "      <th>rwd</th>\n",
       "      <td>23949.6</td>\n",
       "      <td>24202.714286</td>\n",
       "      <td>14337.777778</td>\n",
       "      <td>21711.833333</td>\n",
       "      <td>16994.222222</td>\n",
       "    </tr>\n",
       "  </tbody>\n",
       "</table>\n",
       "</div>"
      ]
     },
     "execution_count": 53,
     "metadata": {},
     "output_type": "execute_result"
    }
   ],
   "execution_count": 53
  },
  {
   "metadata": {
    "ExecuteTime": {
     "end_time": "2025-01-12T14:59:21.351631Z",
     "start_time": "2025-01-12T14:59:21.331764Z"
    }
   },
   "cell_type": "code",
   "source": [
    "grouped_pivot = grouped_pivot.fillna(0) #fill missing values with 0\n",
    "grouped_pivot"
   ],
   "id": "6e9a196513b43a26",
   "outputs": [
    {
     "data": {
      "text/plain": [
       "                   price                                            \\\n",
       "body-style   convertible       hardtop     hatchback         sedan   \n",
       "drive-wheels                                                         \n",
       "4wd                  0.0      0.000000   7603.000000  12647.333333   \n",
       "fwd              11595.0   8249.000000   8396.387755   9811.800000   \n",
       "rwd              23949.6  24202.714286  14337.777778  21711.833333   \n",
       "\n",
       "                            \n",
       "body-style           wagon  \n",
       "drive-wheels                \n",
       "4wd            9095.750000  \n",
       "fwd            9997.333333  \n",
       "rwd           16994.222222  "
      ],
      "text/html": [
       "<div>\n",
       "<style scoped>\n",
       "    .dataframe tbody tr th:only-of-type {\n",
       "        vertical-align: middle;\n",
       "    }\n",
       "\n",
       "    .dataframe tbody tr th {\n",
       "        vertical-align: top;\n",
       "    }\n",
       "\n",
       "    .dataframe thead tr th {\n",
       "        text-align: left;\n",
       "    }\n",
       "\n",
       "    .dataframe thead tr:last-of-type th {\n",
       "        text-align: right;\n",
       "    }\n",
       "</style>\n",
       "<table border=\"1\" class=\"dataframe\">\n",
       "  <thead>\n",
       "    <tr>\n",
       "      <th></th>\n",
       "      <th colspan=\"5\" halign=\"left\">price</th>\n",
       "    </tr>\n",
       "    <tr>\n",
       "      <th>body-style</th>\n",
       "      <th>convertible</th>\n",
       "      <th>hardtop</th>\n",
       "      <th>hatchback</th>\n",
       "      <th>sedan</th>\n",
       "      <th>wagon</th>\n",
       "    </tr>\n",
       "    <tr>\n",
       "      <th>drive-wheels</th>\n",
       "      <th></th>\n",
       "      <th></th>\n",
       "      <th></th>\n",
       "      <th></th>\n",
       "      <th></th>\n",
       "    </tr>\n",
       "  </thead>\n",
       "  <tbody>\n",
       "    <tr>\n",
       "      <th>4wd</th>\n",
       "      <td>0.0</td>\n",
       "      <td>0.000000</td>\n",
       "      <td>7603.000000</td>\n",
       "      <td>12647.333333</td>\n",
       "      <td>9095.750000</td>\n",
       "    </tr>\n",
       "    <tr>\n",
       "      <th>fwd</th>\n",
       "      <td>11595.0</td>\n",
       "      <td>8249.000000</td>\n",
       "      <td>8396.387755</td>\n",
       "      <td>9811.800000</td>\n",
       "      <td>9997.333333</td>\n",
       "    </tr>\n",
       "    <tr>\n",
       "      <th>rwd</th>\n",
       "      <td>23949.6</td>\n",
       "      <td>24202.714286</td>\n",
       "      <td>14337.777778</td>\n",
       "      <td>21711.833333</td>\n",
       "      <td>16994.222222</td>\n",
       "    </tr>\n",
       "  </tbody>\n",
       "</table>\n",
       "</div>"
      ]
     },
     "execution_count": 54,
     "metadata": {},
     "output_type": "execute_result"
    }
   ],
   "execution_count": 54
  },
  {
   "metadata": {},
   "cell_type": "markdown",
   "source": [
    "# Question 4:¶\n",
    "Use the \"groupby\" function to find the average \"price\" of each car based on \"body-style\"."
   ],
   "id": "568ba65d7fd4b9b8"
  },
  {
   "metadata": {
    "ExecuteTime": {
     "end_time": "2025-01-12T15:05:08.543633Z",
     "start_time": "2025-01-12T15:05:08.530726Z"
    }
   },
   "cell_type": "code",
   "source": [
    "df_gptest2 = df[['body-style','price']]\n",
    "grouped_test_bodystyle = df_gptest2.groupby(['body-style'],as_index= False).mean()\n",
    "grouped_test_bodystyle"
   ],
   "id": "530194ac3462e528",
   "outputs": [
    {
     "data": {
      "text/plain": [
       "    body-style         price\n",
       "0  convertible  21890.500000\n",
       "1      hardtop  22208.500000\n",
       "2    hatchback   9957.441176\n",
       "3        sedan  14459.755319\n",
       "4        wagon  12371.960000"
      ],
      "text/html": [
       "<div>\n",
       "<style scoped>\n",
       "    .dataframe tbody tr th:only-of-type {\n",
       "        vertical-align: middle;\n",
       "    }\n",
       "\n",
       "    .dataframe tbody tr th {\n",
       "        vertical-align: top;\n",
       "    }\n",
       "\n",
       "    .dataframe thead th {\n",
       "        text-align: right;\n",
       "    }\n",
       "</style>\n",
       "<table border=\"1\" class=\"dataframe\">\n",
       "  <thead>\n",
       "    <tr style=\"text-align: right;\">\n",
       "      <th></th>\n",
       "      <th>body-style</th>\n",
       "      <th>price</th>\n",
       "    </tr>\n",
       "  </thead>\n",
       "  <tbody>\n",
       "    <tr>\n",
       "      <th>0</th>\n",
       "      <td>convertible</td>\n",
       "      <td>21890.500000</td>\n",
       "    </tr>\n",
       "    <tr>\n",
       "      <th>1</th>\n",
       "      <td>hardtop</td>\n",
       "      <td>22208.500000</td>\n",
       "    </tr>\n",
       "    <tr>\n",
       "      <th>2</th>\n",
       "      <td>hatchback</td>\n",
       "      <td>9957.441176</td>\n",
       "    </tr>\n",
       "    <tr>\n",
       "      <th>3</th>\n",
       "      <td>sedan</td>\n",
       "      <td>14459.755319</td>\n",
       "    </tr>\n",
       "    <tr>\n",
       "      <th>4</th>\n",
       "      <td>wagon</td>\n",
       "      <td>12371.960000</td>\n",
       "    </tr>\n",
       "  </tbody>\n",
       "</table>\n",
       "</div>"
      ]
     },
     "execution_count": 58,
     "metadata": {},
     "output_type": "execute_result"
    }
   ],
   "execution_count": 58
  },
  {
   "metadata": {},
   "cell_type": "markdown",
   "source": [
    "# Variables: Drive Wheels and Body Style vs. Price\n",
    "#### Let's use a heat map to visualize the relationship between Body Style vs Price."
   ],
   "id": "b18b48773d75f112"
  },
  {
   "metadata": {
    "ExecuteTime": {
     "end_time": "2025-01-12T15:07:36.658991Z",
     "start_time": "2025-01-12T15:07:36.588252Z"
    }
   },
   "cell_type": "code",
   "source": [
    "plt.pcolor(grouped_pivot, cmap='RdBu')\n",
    "plt.colorbar()\n",
    "plt.show()"
   ],
   "id": "8b413ee6c7a41b4e",
   "outputs": [
    {
     "data": {
      "text/plain": [
       "<Figure size 640x480 with 2 Axes>"
      ],
      "image/png": "[encoded data removed]"
     },
     "metadata": {},
     "output_type": "display_data"
    }
   ],
   "execution_count": 60
  },
  {
   "metadata": {},
   "cell_type": "markdown",
   "source": [
    "<p>The heatmap plots the target variable (price) proportional to colour with respect to the variables 'drive-wheel' and 'body-style' on the vertical and horizontal axis, respectively. This allows us to visualize how the price is related to 'drive-wheel' and 'body-style'.</p>\n",
    "\n",
    "<p>The default labels convey no useful information to us. Let's change that:</p>"
   ],
   "id": "faf0d4905e32777b"
  },
  {
   "metadata": {
    "ExecuteTime": {
     "end_time": "2025-01-12T15:08:20.344633Z",
     "start_time": "2025-01-12T15:08:20.223158Z"
    }
   },
   "cell_type": "code",
   "source": [
    "fig, ax = plt.subplots()\n",
    "im = ax.pcolor(grouped_pivot, cmap='RdBu')\n",
    "\n",
    "#label names\n",
    "row_labels = grouped_pivot.columns.levels[1]\n",
    "col_labels = grouped_pivot.index\n",
    "\n",
    "#move ticks and labels to the center\n",
    "ax.set_xticks(np.arange(grouped_pivot.shape[1]) + 0.5, minor=False)\n",
    "ax.set_yticks(np.arange(grouped_pivot.shape[0]) + 0.5, minor=False)\n",
    "\n",
    "#insert labels\n",
    "ax.set_xticklabels(row_labels, minor=False)\n",
    "ax.set_yticklabels(col_labels, minor=False)\n",
    "\n",
    "#rotate label if too long\n",
    "plt.xticks(rotation=90)\n",
    "\n",
    "fig.colorbar(im)\n",
    "plt.show()"
   ],
   "id": "4519cabef703d019",
   "outputs": [
    {
     "data": {
      "text/plain": [
       "<Figure size 640x480 with 2 Axes>"
      ],
      "image/png": "[encoded data removed]"
     },
     "metadata": {},
     "output_type": "display_data"
    }
   ],
   "execution_count": 61
  },
  {
   "metadata": {},
   "cell_type": "markdown",
   "source": [
    "# Correlation and Causation\n",
    "\n",
    "Correlation: a measure of the extent of interdependence between variables.\n",
    "\n",
    "Causation: the relationship between cause and effect between two variables.\n",
    "\n",
    "It is important to know the difference between these two. Correlation does not imply causation. Determining correlation is much simpler the determining causation as causation may require independent experimentation.\n",
    "\n",
    "Pearson Correlation\n",
    "\n",
    "The Pearson Correlation measures the linear dependence between two variables X and Y.\n",
    "\n",
    "The resulting coefficient is a value between -1 and 1 inclusive, where:\n",
    "\n",
    "1: Perfect positive linear correlation.\n",
    "0: No linear correlation, the two variables most likely do not affect each other.\n",
    "-1: Perfect negative linear correlation.\n",
    "\n",
    "\n",
    "Pearson Correlation is the default method of the function \"corr\". Like before, we can calculate the Pearson Correlation of the of the 'int64' or 'float64' variables."
   ],
   "id": "e48ed6792a12800e"
  },
  {
   "metadata": {
    "ExecuteTime": {
     "end_time": "2025-01-12T15:11:49.740978Z",
     "start_time": "2025-01-12T15:11:49.737993Z"
    }
   },
   "cell_type": "code",
   "source": "df.corr() # if all numerical value then work",
   "id": "d149aec01a281015",
   "outputs": [],
   "execution_count": 63
  },
  {
   "metadata": {},
   "cell_type": "markdown",
   "source": [
    "# P-value\n",
    "\n",
    "## What is this P-value? The P-value is the probability value that the correlation between these two variables is statistically significant. Normally, we choose a significance level of 0.05, which means that we are 95% confident that the correlation between the variables is significant.\n",
    "\n",
    "### By convention, when the\n",
    "\n",
    "* p-value is \n",
    " 0.001: we say there is strong evidence that the correlation is significant.\n",
    "* the p-value is \n",
    " 0.05: there is moderate evidence that the correlation is significant.\n",
    "* the p-value is \n",
    " 0.1: there is weak evidence that the correlation is significant.\n",
    "* the p-value is \n",
    " 0.1: there is no evidence that the correlation is significant.\n",
    "\n",
    "##### We can obtain this information using \"stats\" module in the \"scipy\" library."
   ],
   "id": "f2cad113b2fb45e9"
  },
  {
   "metadata": {
    "ExecuteTime": {
     "end_time": "2025-01-12T15:15:57.172589Z",
     "start_time": "2025-01-12T15:15:54.701387Z"
    }
   },
   "cell_type": "code",
   "source": "import scipy.stats as stats",
   "id": "c72dda8a9501f03d",
   "outputs": [],
   "execution_count": 67
  },
  {
   "metadata": {},
   "cell_type": "markdown",
   "source": [
    "# Wheel-Base vs. Price¶\n",
    "\n",
    "### Let's calculate the Pearson Correlation Coefficient and P-value of 'wheel-base' and 'price'."
   ],
   "id": "eef079000a1b4628"
  },
  {
   "metadata": {
    "ExecuteTime": {
     "end_time": "2025-01-12T15:18:21.947292Z",
     "start_time": "2025-01-12T15:18:21.925457Z"
    }
   },
   "cell_type": "code",
   "source": [
    "pearson_coef, p_value = stats.pearsonr(df['wheel-base'], df['price'])\n",
    "print(\"The Pearson Correlation Coefficient is\", pearson_coef, \" with a P-value of P =\", p_value) "
   ],
   "id": "ca627c9c4f0eb8c7",
   "outputs": [
    {
     "name": "stdout",
     "output_type": "stream",
     "text": [
      "The Pearson Correlation Coefficient is 0.5846418222655081  with a P-value of P = 8.076488270732887e-20\n"
     ]
    }
   ],
   "execution_count": 68
  },
  {
   "metadata": {},
   "cell_type": "markdown",
   "source": "",
   "id": "582ad5296fd42475"
  },
  {
   "metadata": {},
   "cell_type": "markdown",
   "source": [
    "### Conclusion:\n",
    "Since the p-value is \n",
    " 0.001, the correlation between wheel-base and price is statistically significant, although the linear relationship isn't extremely strong (~0.585)."
   ],
   "id": "dee0ac384ef6f037"
  },
  {
   "metadata": {},
   "cell_type": "markdown",
   "source": "### Horsepower vs. Price",
   "id": "c882d6781e58ab2e"
  },
  {
   "metadata": {
    "ExecuteTime": {
     "end_time": "2025-01-12T15:19:47.201532Z",
     "start_time": "2025-01-12T15:19:47.186262Z"
    }
   },
   "cell_type": "code",
   "source": [
    "pearson_coef, p_value = stats.pearsonr(df['horsepower'], df['price'])\n",
    "print(\"The Pearson Correlation Coefficient is\", pearson_coef, \" with a P-value of P = \", p_value) "
   ],
   "id": "76134cc8e4d25bfd",
   "outputs": [
    {
     "name": "stdout",
     "output_type": "stream",
     "text": [
      "The Pearson Correlation Coefficient is 0.809574567003656  with a P-value of P =  6.36905742825956e-48\n"
     ]
    }
   ],
   "execution_count": 69
  },
  {
   "metadata": {},
   "cell_type": "markdown",
   "source": [
    "### Conclusion:\n",
    "Since the p-value is \n",
    " 0.001, the correlation between horsepower and price is statistically significant, and the linear relationship is quite strong (~0.809, close to 1)."
   ],
   "id": "c05ec0d1b9c0cedb"
  },
  {
   "metadata": {},
   "cell_type": "markdown",
   "source": "### Length vs. Price¶",
   "id": "1eb2b6f036983b08"
  },
  {
   "metadata": {
    "ExecuteTime": {
     "end_time": "2025-01-12T15:22:50.635485Z",
     "start_time": "2025-01-12T15:22:50.611084Z"
    }
   },
   "cell_type": "code",
   "source": [
    "pearson_coef, p_value = stats.pearsonr(df['length'], df['price'])\n",
    "print(\"The Pearson Correlation Coefficient is\", pearson_coef, \" with a P-value of P = \", p_value) \n",
    "print(\"\"\"\n",
    "Conclusion:\n",
    "Since the p-value is \n",
    " 0.001, the correlation between length and price is statistically significant, and the linear relationship is moderately strong (~0.691).\n",
    "\"\"\")"
   ],
   "id": "ef10cf0b5915b145",
   "outputs": [
    {
     "name": "stdout",
     "output_type": "stream",
     "text": [
      "The Pearson Correlation Coefficient is 0.690628380448364  with a P-value of P =  8.016477466158871e-30\n",
      "\n",
      "Conclusion:\n",
      "Since the p-value is \n",
      " 0.001, the correlation between length and price is statistically significant, and the linear relationship is moderately strong (~0.691).\n",
      "\n"
     ]
    }
   ],
   "execution_count": 70
  },
  {
   "metadata": {},
   "cell_type": "markdown",
   "source": "# Width vs. Price",
   "id": "b3ea6afad1898fde"
  },
  {
   "metadata": {
    "ExecuteTime": {
     "end_time": "2025-01-12T15:23:59.271725Z",
     "start_time": "2025-01-12T15:23:59.262995Z"
    }
   },
   "cell_type": "code",
   "source": [
    "pearson_coef, p_value = stats.pearsonr(df['width'], df['price'])\n",
    "print(\"The Pearson Correlation Coefficient is\", pearson_coef, \" with a P-value of P =\", p_value ) \n",
    "print(\"\"\"\n",
    "Conclusion:\n",
    "Since the p-value is < 0.001, the correlation between width and price is statistically significant, and the linear relationship is quite strong (~0.751).\n",
    "\"\"\")"
   ],
   "id": "9c2baf3c95146368",
   "outputs": [
    {
     "name": "stdout",
     "output_type": "stream",
     "text": [
      "The Pearson Correlation Coefficient is 0.7512653440522674  with a P-value of P = 9.200335510481442e-38\n",
      "\n",
      "Conclusion:\n",
      "Since the p-value is < 0.001, the correlation between width and price is statistically significant, and the linear relationship is quite strong (~0.751).\n",
      "\n"
     ]
    }
   ],
   "execution_count": 71
  },
  {
   "metadata": {},
   "cell_type": "markdown",
   "source": "# Curb-Weight vs. Price",
   "id": "98a510aecc106828"
  },
  {
   "metadata": {
    "ExecuteTime": {
     "end_time": "2025-01-12T15:25:02.774108Z",
     "start_time": "2025-01-12T15:25:02.760169Z"
    }
   },
   "cell_type": "code",
   "source": [
    "pearson_coef, p_value = stats.pearsonr(df['curb-weight'], df['price'])\n",
    "print( \"The Pearson Correlation Coefficient is\", pearson_coef, \" with a P-value of P = \", p_value)  \n",
    "print(\"\"\"\n",
    "Conclusion:\n",
    "Since the p-value is \n",
    " 0.001, the correlation between engine-size and price is statistically significant, and the linear relationship is very strong (~0.872).\n",
    "\"\"\")"
   ],
   "id": "cf29c510ef3a6bb9",
   "outputs": [
    {
     "name": "stdout",
     "output_type": "stream",
     "text": [
      "The Pearson Correlation Coefficient is 0.8344145257702845  with a P-value of P =  2.189577238893965e-53\n",
      "\n",
      "Conclusion:\n",
      "Since the p-value is \n",
      " 0.001, the correlation between engine-size and price is statistically significant, and the linear relationship is very strong (~0.872).\n",
      "\n"
     ]
    }
   ],
   "execution_count": 72
  },
  {
   "metadata": {},
   "cell_type": "markdown",
   "source": [
    "# Bore vs. Price\n",
    "##### Let's calculate the Pearson Correlation Coefficient and P-value of 'bore' and 'price':"
   ],
   "id": "6dc2bae8eab33ec3"
  },
  {
   "metadata": {
    "ExecuteTime": {
     "end_time": "2025-01-12T15:26:50.872205Z",
     "start_time": "2025-01-12T15:26:50.857143Z"
    }
   },
   "cell_type": "code",
   "source": [
    "pearson_coef, p_value = stats.pearsonr(df['bore'], df['price'])\n",
    "print(\"The Pearson Correlation Coefficient is\", pearson_coef, \" with a P-value of P =  \", p_value ) \n",
    "print(\"\"\"\n",
    "Conclusion:¶\n",
    "Since the p-value is \n",
    " 0.001, the correlation between bore and price is statistically significant, but the linear relationship is only moderate (~0.521).\n",
    " \"\"\")"
   ],
   "id": "455060146a3fe61e",
   "outputs": [
    {
     "name": "stdout",
     "output_type": "stream",
     "text": [
      "The Pearson Correlation Coefficient is 0.5431553832626603  with a P-value of P =   8.049189483935319e-17\n",
      "\n",
      "Conclusion:¶\n",
      "Since the p-value is \n",
      " 0.001, the correlation between bore and price is statistically significant, but the linear relationship is only moderate (~0.521).\n",
      " \n"
     ]
    }
   ],
   "execution_count": 73
  },
  {
   "metadata": {},
   "cell_type": "markdown",
   "source": "# City-mpg vs. Price",
   "id": "37748a2bb0356563"
  },
  {
   "metadata": {
    "ExecuteTime": {
     "end_time": "2025-01-12T15:27:58.713547Z",
     "start_time": "2025-01-12T15:27:58.673932Z"
    }
   },
   "cell_type": "code",
   "source": [
    "pearson_coef, p_value = stats.pearsonr(df['city-mpg'], df['price'])\n",
    "print(\"The Pearson Correlation Coefficient is\", pearson_coef, \" with a P-value of P = \", p_value)\n",
    "print(\"\"\"\n",
    "Conclusion:\n",
    "Since the p-value is \n",
    " 0.001, the correlation between city-mpg and price is statistically significant, and the coefficient of about -0.687 shows that the relationship is negative and moderately strong.\n",
    "\"\"\")"
   ],
   "id": "bb00925a125d1648",
   "outputs": [
    {
     "name": "stdout",
     "output_type": "stream",
     "text": [
      "The Pearson Correlation Coefficient is -0.6865710067844679  with a P-value of P =  2.3211320655675118e-29\n",
      "\n",
      "Conclusion:\n",
      "Since the p-value is \n",
      " 0.001, the correlation between city-mpg and price is statistically significant, and the coefficient of about -0.687 shows that the relationship is negative and moderately strong.\n",
      "\n"
     ]
    }
   ],
   "execution_count": 75
  },
  {
   "metadata": {},
   "cell_type": "markdown",
   "source": "# Highway-mpg vs. Price",
   "id": "98ce2d03e1badb83"
  },
  {
   "metadata": {
    "ExecuteTime": {
     "end_time": "2025-01-12T15:29:06.874025Z",
     "start_time": "2025-01-12T15:29:06.843605Z"
    }
   },
   "cell_type": "code",
   "source": [
    "pearson_coef, p_value = stats.pearsonr(df['highway-mpg'], df['price'])\n",
    "print( \"The Pearson Correlation Coefficient is\", pearson_coef, \" with a P-value of P = \", p_value ) \n",
    "print(\"\"\"\n",
    "Conclusion:\n",
    "Since the p-value is < 0.001, the correlation between highway-mpg and price is statistically significant, and the coefficient of about -0.705 shows that the relationship is negative and moderately strong.\n",
    "\"\"\")"
   ],
   "id": "e060edf3caf58cc7",
   "outputs": [
    {
     "name": "stdout",
     "output_type": "stream",
     "text": [
      "The Pearson Correlation Coefficient is -0.7046922650589529  with a P-value of P =  1.7495471144476463e-31\n",
      "\n",
      "Conclusion:\n",
      "Since the p-value is < 0.001, the correlation between highway-mpg and price is statistically significant, and the coefficient of about -0.705 shows that the relationship is negative and moderately strong.\n",
      "\n"
     ]
    }
   ],
   "execution_count": 76
  }
 ],
 "metadata": {
  "kernelspec": {
   "display_name": "Python 3",
   "language": "python",
   "name": "python3"
  },
  "language_info": {
   "codemirror_mode": {
    "name": "ipython",
    "version": 2
   },
   "file_extension": ".py",
   "mimetype": "text/x-python",
   "name": "python",
   "nbconvert_exporter": "python",
   "pygments_lexer": "ipython2",
   "version": "2.7.6"
  }
 },
 "nbformat": 4,
 "nbformat_minor": 5
}
