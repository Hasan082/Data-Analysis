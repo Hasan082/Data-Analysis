{
 "cells": [
  {
   "metadata": {},
   "cell_type": "markdown",
   "source": "# Exploratory Data Analysis",
   "id": "52c3bd6170dc9052"
  },
  {
   "metadata": {},
   "cell_type": "markdown",
   "source": [
    "# Objectives\n",
    "### After completing this lab you will be able to:\n",
    "* Explore features or characteristics to predict price of car\n",
    "* Analyze patterns and run descriptive statistical analysis\n",
    "* Group data based on identified parameters and create pivot tables\n",
    "* Identify the effect of independent attributes on price of cars"
   ],
   "id": "a4baad45d990e7e9"
  },
  {
   "metadata": {
    "ExecuteTime": {
     "end_time": "2025-01-12T14:00:53.553003Z",
     "start_time": "2025-01-12T14:00:53.427211Z"
    }
   },
   "cell_type": "code",
   "source": [
    "import pandas as pd\n",
    "import numpy as np\n",
    "import matplotlib.pyplot as plt\n",
    "%matplotlib inline\n",
    "import seaborn as sns\n",
    "import requests"
   ],
   "id": "70f07e5704d622b4",
   "outputs": [],
   "execution_count": 3
  },
  {
   "metadata": {},
   "cell_type": "markdown",
   "source": "# Download the csv from server",
   "id": "a25aedfc81c55ec7"
  },
  {
   "metadata": {
    "ExecuteTime": {
     "end_time": "2025-01-12T14:01:48.864395Z",
     "start_time": "2025-01-12T14:01:46.734131Z"
    }
   },
   "cell_type": "code",
   "source": [
    "file_path= \"https://cf-courses-data.s3.us.cloud-object-storage.appdomain.cloud/IBMDeveloperSkillsNetwork-DA0101EN-SkillsNetwork/labs/Data%20files/automobileEDA.csv\"\n",
    "\n",
    "response = requests.get(file_path)\n",
    "with open('automobileEDA.csv','wb') as f:\n",
    "    f.write(response.content)"
   ],
   "id": "5a2795e9efd97772",
   "outputs": [],
   "execution_count": 4
  },
  {
   "metadata": {},
   "cell_type": "markdown",
   "source": "# Make dataframe using pandas",
   "id": "779a598d1107bfed"
  },
  {
   "metadata": {
    "ExecuteTime": {
     "end_time": "2025-01-12T14:09:04.689981Z",
     "start_time": "2025-01-12T14:09:04.675186Z"
    }
   },
   "cell_type": "code",
   "source": "df = pd.read_csv(\"automobileEDA.csv\", header=0)",
   "id": "b6908c93e0265069",
   "outputs": [],
   "execution_count": 11
  }
 ],
 "metadata": {
  "kernelspec": {
   "display_name": "Python 3",
   "language": "python",
   "name": "python3"
  },
  "language_info": {
   "codemirror_mode": {
    "name": "ipython",
    "version": 2
   },
   "file_extension": ".py",
   "mimetype": "text/x-python",
   "name": "python",
   "nbconvert_exporter": "python",
   "pygments_lexer": "ipython2",
   "version": "2.7.6"
  }
 },
 "nbformat": 4,
 "nbformat_minor": 5
}
