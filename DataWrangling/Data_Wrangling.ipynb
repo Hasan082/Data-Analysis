{
 "cells": [
  {
   "metadata": {},
   "cell_type": "markdown",
   "source": [
    "# Data Wrangling\n",
    "* Objectives\n",
    " * After completing this lab you will be able to:\n",
    "\n",
    "* Handle missing values\n",
    "* Correct data formatting\n",
    "* Standardize and normalize data"
   ],
   "id": "425ca8b58db37254"
  },
  {
   "metadata": {
    "ExecuteTime": {
     "end_time": "2025-01-11T20:02:01.896617Z",
     "start_time": "2025-01-11T20:02:01.117773Z"
    }
   },
   "cell_type": "code",
   "source": [
    "import pandas as pd\n",
    "import matplotlib.pylab as plt\n"
   ],
   "id": "d9bc91b3d76b99cd",
   "outputs": [],
   "execution_count": 1
  },
  {
   "metadata": {},
   "cell_type": "markdown",
   "source": "## Reading the dataset from the URL and adding the related headers",
   "id": "152ee9fbf104a7bf"
  },
  {
   "metadata": {
    "ExecuteTime": {
     "end_time": "2025-01-11T20:15:02.571209Z",
     "start_time": "2025-01-11T20:15:00.833216Z"
    }
   },
   "cell_type": "code",
   "source": [
    "import requests\n",
    "import os\n",
    "file_url = \"https://cf-courses-data.s3.us.cloud-object-storage.appdomain.cloud/IBMDeveloperSkillsNetwork-DA0101EN-SkillsNetwork/labs/Data%20files/auto.csv\"\n",
    "req = requests.get(file_url)\n",
    "with open(\"auto.csv\", 'wb') as file:\n",
    "    file.write(req.content)\n",
    "os.rename('auto.csv', 'usedcars.csv')\n",
    "    "
   ],
   "id": "bbfe8176893c844f",
   "outputs": [],
   "execution_count": 4
  },
  {
   "metadata": {},
   "cell_type": "markdown",
   "source": "",
   "id": "f78bc05061e91f29"
  }
 ],
 "metadata": {
  "kernelspec": {
   "display_name": "Python 3",
   "language": "python",
   "name": "python3"
  },
  "language_info": {
   "codemirror_mode": {
    "name": "ipython",
    "version": 2
   },
   "file_extension": ".py",
   "mimetype": "text/x-python",
   "name": "python",
   "nbconvert_exporter": "python",
   "pygments_lexer": "ipython2",
   "version": "2.7.6"
  }
 },
 "nbformat": 4,
 "nbformat_minor": 5
}
