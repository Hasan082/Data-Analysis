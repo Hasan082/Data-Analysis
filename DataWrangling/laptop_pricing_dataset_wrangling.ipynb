{
 "cells": [
  {
   "metadata": {},
   "cell_type": "markdown",
   "source": [
    "# Objectives\n",
    "### After completing this lab you will be able to:\n",
    "\n",
    "* Handle missing data in different ways\n",
    "* Correct the data type of different data values as per requirement\n",
    "* Standardize and normalize the appropriate data attributes\n",
    "* Visualize the data as grouped bar graph using Binning\n",
    "* Cnverting a categorical data into numerical indicator variables"
   ],
   "id": "b0e2a7bd19439b50"
  },
  {
   "metadata": {
    "ExecuteTime": {
     "end_time": "2025-01-12T09:38:08.462608Z",
     "start_time": "2025-01-12T09:38:08.452232Z"
    }
   },
   "cell_type": "code",
   "source": [
    "import numpy as np\n",
    "import pandas as pd\n",
    "import matplotlib.pyplot as plt\n",
    "%matplotlib inline\n",
    "import requests\n",
    "import os"
   ],
   "id": "f4498bad95b0c6c5",
   "outputs": [],
   "execution_count": 5
  },
  {
   "metadata": {},
   "cell_type": "markdown",
   "source": "## SAVE THE FILE TO OUR CURRENT DIRECTORY",
   "id": "146f0650e6a98d75"
  },
  {
   "metadata": {
    "ExecuteTime": {
     "end_time": "2025-01-12T09:39:51.198059Z",
     "start_time": "2025-01-12T09:39:49.438188Z"
    }
   },
   "cell_type": "code",
   "source": [
    "file_url = \"https://cf-courses-data.s3.us.cloud-object-storage.appdomain.cloud/IBMDeveloperSkillsNetwork-DA0101EN-Coursera/laptop_pricing_dataset_mod1.csv\"\n",
    "res = requests.get(file_url)\n",
    "with open(\"laptop_pricing_dataset_mod1.csv\", \"wb\") as file:\n",
    "    file.write(res.content)\n",
    "os.rename(\"laptop_pricing_dataset_mod1.csv\", \"laptop_pricing_dataset.csv\")\n",
    "file_name = \"laptop_pricing_dataset.csv\""
   ],
   "id": "2eefe29af5560690",
   "outputs": [],
   "execution_count": 8
  },
  {
   "metadata": {},
   "cell_type": "markdown",
   "source": "## Create Dataframe now",
   "id": "fada7d79ccc1683e"
  },
  {
   "metadata": {
    "ExecuteTime": {
     "end_time": "2025-01-12T10:29:11.755245Z",
     "start_time": "2025-01-12T10:29:11.734089Z"
    }
   },
   "cell_type": "code",
   "source": [
    "df = pd.read_csv(file_name, header=0)\n",
    "df"
   ],
   "id": "dee46e9978773310",
   "outputs": [
    {
     "data": {
      "text/plain": [
       "     Unnamed: 0 Manufacturer  Category     Screen  GPU  OS  CPU_core  \\\n",
       "0             0         Acer         4  IPS Panel    2   1         5   \n",
       "1             1         Dell         3    Full HD    1   1         3   \n",
       "2             2         Dell         3    Full HD    1   1         7   \n",
       "3             3         Dell         4  IPS Panel    2   1         5   \n",
       "4             4           HP         4    Full HD    2   1         7   \n",
       "..          ...          ...       ...        ...  ...  ..       ...   \n",
       "233         233       Lenovo         4  IPS Panel    2   1         7   \n",
       "234         234      Toshiba         3    Full HD    2   1         5   \n",
       "235         235       Lenovo         4  IPS Panel    2   1         5   \n",
       "236         236       Lenovo         3    Full HD    3   1         5   \n",
       "237         237      Toshiba         3    Full HD    2   1         5   \n",
       "\n",
       "     Screen_Size_cm  CPU_frequency  RAM_GB  Storage_GB_SSD  Weight_kg  Price  \n",
       "0            35.560            1.6       8             256       1.60    978  \n",
       "1            39.624            2.0       4             256       2.20    634  \n",
       "2            39.624            2.7       8             256       2.20    946  \n",
       "3            33.782            1.6       8             128       1.22   1244  \n",
       "4            39.624            1.8       8             256       1.91    837  \n",
       "..              ...            ...     ...             ...        ...    ...  \n",
       "233          35.560            2.6       8             256       1.70   1891  \n",
       "234          33.782            2.4       8             256       1.20   1950  \n",
       "235          30.480            2.6       8             256       1.36   2236  \n",
       "236          39.624            2.5       6             256       2.40    883  \n",
       "237          35.560            2.3       8             256       1.95   1499  \n",
       "\n",
       "[238 rows x 13 columns]"
      ],
      "text/html": [
       "<div>\n",
       "<style scoped>\n",
       "    .dataframe tbody tr th:only-of-type {\n",
       "        vertical-align: middle;\n",
       "    }\n",
       "\n",
       "    .dataframe tbody tr th {\n",
       "        vertical-align: top;\n",
       "    }\n",
       "\n",
       "    .dataframe thead th {\n",
       "        text-align: right;\n",
       "    }\n",
       "</style>\n",
       "<table border=\"1\" class=\"dataframe\">\n",
       "  <thead>\n",
       "    <tr style=\"text-align: right;\">\n",
       "      <th></th>\n",
       "      <th>Unnamed: 0</th>\n",
       "      <th>Manufacturer</th>\n",
       "      <th>Category</th>\n",
       "      <th>Screen</th>\n",
       "      <th>GPU</th>\n",
       "      <th>OS</th>\n",
       "      <th>CPU_core</th>\n",
       "      <th>Screen_Size_cm</th>\n",
       "      <th>CPU_frequency</th>\n",
       "      <th>RAM_GB</th>\n",
       "      <th>Storage_GB_SSD</th>\n",
       "      <th>Weight_kg</th>\n",
       "      <th>Price</th>\n",
       "    </tr>\n",
       "  </thead>\n",
       "  <tbody>\n",
       "    <tr>\n",
       "      <th>0</th>\n",
       "      <td>0</td>\n",
       "      <td>Acer</td>\n",
       "      <td>4</td>\n",
       "      <td>IPS Panel</td>\n",
       "      <td>2</td>\n",
       "      <td>1</td>\n",
       "      <td>5</td>\n",
       "      <td>35.560</td>\n",
       "      <td>1.6</td>\n",
       "      <td>8</td>\n",
       "      <td>256</td>\n",
       "      <td>1.60</td>\n",
       "      <td>978</td>\n",
       "    </tr>\n",
       "    <tr>\n",
       "      <th>1</th>\n",
       "      <td>1</td>\n",
       "      <td>Dell</td>\n",
       "      <td>3</td>\n",
       "      <td>Full HD</td>\n",
       "      <td>1</td>\n",
       "      <td>1</td>\n",
       "      <td>3</td>\n",
       "      <td>39.624</td>\n",
       "      <td>2.0</td>\n",
       "      <td>4</td>\n",
       "      <td>256</td>\n",
       "      <td>2.20</td>\n",
       "      <td>634</td>\n",
       "    </tr>\n",
       "    <tr>\n",
       "      <th>2</th>\n",
       "      <td>2</td>\n",
       "      <td>Dell</td>\n",
       "      <td>3</td>\n",
       "      <td>Full HD</td>\n",
       "      <td>1</td>\n",
       "      <td>1</td>\n",
       "      <td>7</td>\n",
       "      <td>39.624</td>\n",
       "      <td>2.7</td>\n",
       "      <td>8</td>\n",
       "      <td>256</td>\n",
       "      <td>2.20</td>\n",
       "      <td>946</td>\n",
       "    </tr>\n",
       "    <tr>\n",
       "      <th>3</th>\n",
       "      <td>3</td>\n",
       "      <td>Dell</td>\n",
       "      <td>4</td>\n",
       "      <td>IPS Panel</td>\n",
       "      <td>2</td>\n",
       "      <td>1</td>\n",
       "      <td>5</td>\n",
       "      <td>33.782</td>\n",
       "      <td>1.6</td>\n",
       "      <td>8</td>\n",
       "      <td>128</td>\n",
       "      <td>1.22</td>\n",
       "      <td>1244</td>\n",
       "    </tr>\n",
       "    <tr>\n",
       "      <th>4</th>\n",
       "      <td>4</td>\n",
       "      <td>HP</td>\n",
       "      <td>4</td>\n",
       "      <td>Full HD</td>\n",
       "      <td>2</td>\n",
       "      <td>1</td>\n",
       "      <td>7</td>\n",
       "      <td>39.624</td>\n",
       "      <td>1.8</td>\n",
       "      <td>8</td>\n",
       "      <td>256</td>\n",
       "      <td>1.91</td>\n",
       "      <td>837</td>\n",
       "    </tr>\n",
       "    <tr>\n",
       "      <th>...</th>\n",
       "      <td>...</td>\n",
       "      <td>...</td>\n",
       "      <td>...</td>\n",
       "      <td>...</td>\n",
       "      <td>...</td>\n",
       "      <td>...</td>\n",
       "      <td>...</td>\n",
       "      <td>...</td>\n",
       "      <td>...</td>\n",
       "      <td>...</td>\n",
       "      <td>...</td>\n",
       "      <td>...</td>\n",
       "      <td>...</td>\n",
       "    </tr>\n",
       "    <tr>\n",
       "      <th>233</th>\n",
       "      <td>233</td>\n",
       "      <td>Lenovo</td>\n",
       "      <td>4</td>\n",
       "      <td>IPS Panel</td>\n",
       "      <td>2</td>\n",
       "      <td>1</td>\n",
       "      <td>7</td>\n",
       "      <td>35.560</td>\n",
       "      <td>2.6</td>\n",
       "      <td>8</td>\n",
       "      <td>256</td>\n",
       "      <td>1.70</td>\n",
       "      <td>1891</td>\n",
       "    </tr>\n",
       "    <tr>\n",
       "      <th>234</th>\n",
       "      <td>234</td>\n",
       "      <td>Toshiba</td>\n",
       "      <td>3</td>\n",
       "      <td>Full HD</td>\n",
       "      <td>2</td>\n",
       "      <td>1</td>\n",
       "      <td>5</td>\n",
       "      <td>33.782</td>\n",
       "      <td>2.4</td>\n",
       "      <td>8</td>\n",
       "      <td>256</td>\n",
       "      <td>1.20</td>\n",
       "      <td>1950</td>\n",
       "    </tr>\n",
       "    <tr>\n",
       "      <th>235</th>\n",
       "      <td>235</td>\n",
       "      <td>Lenovo</td>\n",
       "      <td>4</td>\n",
       "      <td>IPS Panel</td>\n",
       "      <td>2</td>\n",
       "      <td>1</td>\n",
       "      <td>5</td>\n",
       "      <td>30.480</td>\n",
       "      <td>2.6</td>\n",
       "      <td>8</td>\n",
       "      <td>256</td>\n",
       "      <td>1.36</td>\n",
       "      <td>2236</td>\n",
       "    </tr>\n",
       "    <tr>\n",
       "      <th>236</th>\n",
       "      <td>236</td>\n",
       "      <td>Lenovo</td>\n",
       "      <td>3</td>\n",
       "      <td>Full HD</td>\n",
       "      <td>3</td>\n",
       "      <td>1</td>\n",
       "      <td>5</td>\n",
       "      <td>39.624</td>\n",
       "      <td>2.5</td>\n",
       "      <td>6</td>\n",
       "      <td>256</td>\n",
       "      <td>2.40</td>\n",
       "      <td>883</td>\n",
       "    </tr>\n",
       "    <tr>\n",
       "      <th>237</th>\n",
       "      <td>237</td>\n",
       "      <td>Toshiba</td>\n",
       "      <td>3</td>\n",
       "      <td>Full HD</td>\n",
       "      <td>2</td>\n",
       "      <td>1</td>\n",
       "      <td>5</td>\n",
       "      <td>35.560</td>\n",
       "      <td>2.3</td>\n",
       "      <td>8</td>\n",
       "      <td>256</td>\n",
       "      <td>1.95</td>\n",
       "      <td>1499</td>\n",
       "    </tr>\n",
       "  </tbody>\n",
       "</table>\n",
       "<p>238 rows × 13 columns</p>\n",
       "</div>"
      ]
     },
     "execution_count": 78,
     "metadata": {},
     "output_type": "execute_result"
    }
   ],
   "execution_count": 78
  },
  {
   "metadata": {},
   "cell_type": "markdown",
   "source": "## now check missing field",
   "id": "c7e57c27213aebf4"
  },
  {
   "metadata": {
    "ExecuteTime": {
     "end_time": "2025-01-12T10:34:34.811656Z",
     "start_time": "2025-01-12T10:34:34.790448Z"
    }
   },
   "cell_type": "code",
   "source": "print(df[\"Screen_Size_cm\"].isnan().sum())",
   "id": "4405ebb21dee663f",
   "outputs": [
    {
     "ename": "AttributeError",
     "evalue": "'Series' object has no attribute 'isnan'",
     "output_type": "error",
     "traceback": [
      "\u001B[0;31m---------------------------------------------------------------------------\u001B[0m",
      "\u001B[0;31mAttributeError\u001B[0m                            Traceback (most recent call last)",
      "\u001B[0;32m/var/folders/tv/ccg9r04d74l7pmss8y9glmsm0000gn/T/ipykernel_7511/3780656378.py\u001B[0m in \u001B[0;36m?\u001B[0;34m()\u001B[0m\n\u001B[0;32m----> 1\u001B[0;31m \u001B[0mprint\u001B[0m\u001B[0;34m(\u001B[0m\u001B[0mdf\u001B[0m\u001B[0;34m[\u001B[0m\u001B[0;34m\"Screen_Size_cm\"\u001B[0m\u001B[0;34m]\u001B[0m\u001B[0;34m.\u001B[0m\u001B[0misnan\u001B[0m\u001B[0;34m(\u001B[0m\u001B[0;34m)\u001B[0m\u001B[0;34m.\u001B[0m\u001B[0msum\u001B[0m\u001B[0;34m(\u001B[0m\u001B[0;34m)\u001B[0m\u001B[0;34m)\u001B[0m\u001B[0;34m\u001B[0m\u001B[0;34m\u001B[0m\u001B[0m\n\u001B[0m",
      "\u001B[0;32m~/miniconda3/lib/python3.12/site-packages/pandas/core/generic.py\u001B[0m in \u001B[0;36m?\u001B[0;34m(self, name)\u001B[0m\n\u001B[1;32m   6295\u001B[0m             \u001B[0;32mand\u001B[0m \u001B[0mname\u001B[0m \u001B[0;32mnot\u001B[0m \u001B[0;32min\u001B[0m \u001B[0mself\u001B[0m\u001B[0;34m.\u001B[0m\u001B[0m_accessors\u001B[0m\u001B[0;34m\u001B[0m\u001B[0;34m\u001B[0m\u001B[0m\n\u001B[1;32m   6296\u001B[0m             \u001B[0;32mand\u001B[0m \u001B[0mself\u001B[0m\u001B[0;34m.\u001B[0m\u001B[0m_info_axis\u001B[0m\u001B[0;34m.\u001B[0m\u001B[0m_can_hold_identifiers_and_holds_name\u001B[0m\u001B[0;34m(\u001B[0m\u001B[0mname\u001B[0m\u001B[0;34m)\u001B[0m\u001B[0;34m\u001B[0m\u001B[0;34m\u001B[0m\u001B[0m\n\u001B[1;32m   6297\u001B[0m         \u001B[0;34m)\u001B[0m\u001B[0;34m:\u001B[0m\u001B[0;34m\u001B[0m\u001B[0;34m\u001B[0m\u001B[0m\n\u001B[1;32m   6298\u001B[0m             \u001B[0;32mreturn\u001B[0m \u001B[0mself\u001B[0m\u001B[0;34m[\u001B[0m\u001B[0mname\u001B[0m\u001B[0;34m]\u001B[0m\u001B[0;34m\u001B[0m\u001B[0;34m\u001B[0m\u001B[0m\n\u001B[0;32m-> 6299\u001B[0;31m         \u001B[0;32mreturn\u001B[0m \u001B[0mobject\u001B[0m\u001B[0;34m.\u001B[0m\u001B[0m__getattribute__\u001B[0m\u001B[0;34m(\u001B[0m\u001B[0mself\u001B[0m\u001B[0;34m,\u001B[0m \u001B[0mname\u001B[0m\u001B[0;34m)\u001B[0m\u001B[0;34m\u001B[0m\u001B[0;34m\u001B[0m\u001B[0m\n\u001B[0m",
      "\u001B[0;31mAttributeError\u001B[0m: 'Series' object has no attribute 'isnan'"
     ]
    }
   ],
   "execution_count": 91
  },
  {
   "metadata": {},
   "cell_type": "markdown",
   "source": "## \"Screen_Size_cm\" Fix NaN file with mean value Downtime",
   "id": "4f83c74f685b97f7"
  },
  {
   "metadata": {
    "ExecuteTime": {
     "end_time": "2025-01-12T10:30:09.588185Z",
     "start_time": "2025-01-12T10:30:09.568914Z"
    }
   },
   "cell_type": "code",
   "source": [
    "screen_size_mean = df[\"Screen_Size_cm\"].astype(\"float\").mean(axis=0)\n",
    "screen_size_mean\n",
    "df.fillna({\"Screen_Size_cm\": screen_size_mean}, inplace=True)\n",
    "df[\"Screen_Size_cm\"].tail(15)"
   ],
   "id": "fe2155b293322b7b",
   "outputs": [
    {
     "data": {
      "text/plain": [
       "223    39.624000\n",
       "224    38.100000\n",
       "225    30.480000\n",
       "226    39.624000\n",
       "227    35.560000\n",
       "228    31.750000\n",
       "229    35.560000\n",
       "230    37.269615\n",
       "231    35.560000\n",
       "232    33.782000\n",
       "233    35.560000\n",
       "234    33.782000\n",
       "235    30.480000\n",
       "236    39.624000\n",
       "237    35.560000\n",
       "Name: Screen_Size_cm, dtype: float64"
      ]
     },
     "execution_count": 83,
     "metadata": {},
     "output_type": "execute_result"
    }
   ],
   "execution_count": 83
  },
  {
   "metadata": {},
   "cell_type": "markdown",
   "source": "# \"Weight_kg\" Fix NaN value with mean value",
   "id": "4cdccd31b159a053"
  },
  {
   "metadata": {
    "ExecuteTime": {
     "end_time": "2025-01-12T10:35:49.079959Z",
     "start_time": "2025-01-12T10:35:49.061836Z"
    }
   },
   "cell_type": "code",
   "source": [
    "weight_kg_mean = df[\"Weight_kg\"].astype(\"float\").mean(axis=0)\n",
    "print(weight_kg_mean)\n",
    "df[\"Weight_kg\"].fillna(weight_kg_mean)\n",
    "df[\"Weight_kg\"].iloc[30:40]"
   ],
   "id": "8ead2435623ab83",
   "outputs": [
    {
     "name": "stdout",
     "output_type": "stream",
     "text": [
      "1.8622317596566522\n"
     ]
    },
    {
     "data": {
      "text/plain": [
       "30    1.300000\n",
       "31    1.580000\n",
       "32    1.210000\n",
       "33    1.700000\n",
       "34    2.500000\n",
       "35    1.600000\n",
       "36    2.200000\n",
       "37    1.630000\n",
       "38    1.862232\n",
       "39    1.750000\n",
       "Name: Weight_kg, dtype: float64"
      ]
     },
     "execution_count": 93,
     "metadata": {},
     "output_type": "execute_result"
    }
   ],
   "execution_count": 93
  },
  {
   "metadata": {},
   "cell_type": "markdown",
   "source": "## Show dataframe Information at a glance",
   "id": "8ff29d44f83fafe9"
  },
  {
   "metadata": {
    "ExecuteTime": {
     "end_time": "2025-01-12T09:54:22.596132Z",
     "start_time": "2025-01-12T09:54:22.571409Z"
    }
   },
   "cell_type": "code",
   "source": "df.info()",
   "id": "8157347ce0a56071",
   "outputs": [
    {
     "name": "stdout",
     "output_type": "stream",
     "text": [
      "<class 'pandas.core.frame.DataFrame'>\n",
      "RangeIndex: 238 entries, 0 to 237\n",
      "Data columns (total 13 columns):\n",
      " #   Column          Non-Null Count  Dtype  \n",
      "---  ------          --------------  -----  \n",
      " 0   Unnamed: 0      238 non-null    int64  \n",
      " 1   Manufacturer    238 non-null    object \n",
      " 2   Category        238 non-null    int64  \n",
      " 3   Screen          238 non-null    object \n",
      " 4   GPU             238 non-null    int64  \n",
      " 5   OS              238 non-null    int64  \n",
      " 6   CPU_core        238 non-null    int64  \n",
      " 7   Screen_Size_cm  234 non-null    float64\n",
      " 8   CPU_frequency   238 non-null    float64\n",
      " 9   RAM_GB          238 non-null    int64  \n",
      " 10  Storage_GB_SSD  238 non-null    int64  \n",
      " 11  Weight_kg       233 non-null    float64\n",
      " 12  Price           238 non-null    int64  \n",
      "dtypes: float64(3), int64(8), object(2)\n",
      "memory usage: 24.3+ KB\n"
     ]
    }
   ],
   "execution_count": 29
  },
  {
   "metadata": {},
   "cell_type": "markdown",
   "source": "",
   "id": "3b18315db66fcbdb"
  }
 ],
 "metadata": {
  "kernelspec": {
   "display_name": "Python 3",
   "language": "python",
   "name": "python3"
  },
  "language_info": {
   "codemirror_mode": {
    "name": "ipython",
    "version": 2
   },
   "file_extension": ".py",
   "mimetype": "text/x-python",
   "name": "python",
   "nbconvert_exporter": "python",
   "pygments_lexer": "ipython2",
   "version": "2.7.6"
  }
 },
 "nbformat": 4,
 "nbformat_minor": 5
}
